{
 "cells": [
  {
   "cell_type": "code",
   "execution_count": 1,
   "id": "b0c545e2",
   "metadata": {},
   "outputs": [],
   "source": [
    "import pandas as pd\n",
    "import requests\n",
    "from bs4 import BeautifulSoup"
   ]
  },
  {
   "cell_type": "code",
   "execution_count": 2,
   "id": "17978473",
   "metadata": {},
   "outputs": [],
   "source": [
    "webpage = requests.get('https://www.encorebostonharbor.com/rooms-and-suites/encore-rooms/premier-double').text\n",
    "soup = BeautifulSoup(webpage,'lxml')"
   ]
  },
  {
   "cell_type": "code",
   "execution_count": 3,
   "id": "dde5a747",
   "metadata": {},
   "outputs": [],
   "source": [
    "soup = BeautifulSoup(webpage,'lxml')"
   ]
  },
  {
   "cell_type": "markdown",
   "id": "43dd51d1",
   "metadata": {},
   "source": []
  },
  {
   "cell_type": "code",
   "execution_count": 66,
   "id": "fcb7877c",
   "metadata": {},
   "outputs": [
    {
     "data": {
      "text/plain": [
       "['How many people can the Premier Harbor View Double room sleep?',\n",
       " 'When can I check-in to my room?',\n",
       " 'Can I check-in to my room early?',\n",
       " 'When do I need to check-out of my room?',\n",
       " 'Is smoking allowed in my room?',\n",
       " 'Is outside food and drink allowed?',\n",
       " 'Do you offer In-Room Dining?',\n",
       " 'What is the Encore Boston Harbor Rate Promise?',\n",
       " 'Is this room pet-friendly?',\n",
       " 'What do I do if I need to cancel my reservation?']"
      ]
     },
     "execution_count": 66,
     "metadata": {},
     "output_type": "execute_result"
    }
   ],
   "source": [
    "questions_Premier_Double_Room = []\n",
    "\n",
    "for i in soup.find_all('div',class_='questions-title'):\n",
    "    questions_Premier_Double_Room.append(i.find('span', class_='question-title-clickable').text.strip())\n",
    "\n",
    "questions_Premier_Double_Room "
   ]
  },
  {
   "cell_type": "code",
   "execution_count": 158,
   "id": "16491aa1",
   "metadata": {},
   "outputs": [
    {
     "data": {
      "text/plain": [
       "['Encore Boston Harbor limits occupancy in this room to a maximum of four (4) guests.',\n",
       " 'You may check in to your room at 4 p.m.',\n",
       " 'Our published and recommended check-in time is 4 p.m. on your day of arrival.  However, if we have your room/suite available, we are always happy to check the reservation in early. Please call the Front Desk at (857) 770-4001 if you need to check-in early, as early check-in is based on availability.',\n",
       " 'Checkout time is at 11 a.m. Please call the Front Desk at (857) 770-4001 if you need to check out late, as late checkout is based on availability.',\n",
       " 'Smoking is not allowed inside of Encore Boston Harbor, including in rooms. There is a $500 deep cleaning fee charged for smoking in a designated non-smoking room. Cannabis products are prohibited in guest rooms and throughout the resort.',\n",
       " 'Guests may not bring more than one (1) bottle of wine, one (1)\\xa0six-pack, or a fifth of liquor. Outside food (other than small snacks) and coolers are not permitted at the resort and casino. Guests arriving with these items will be required to check them at the Bell Desk or leave them in their vehicle for the duration of their visit.',\n",
       " 'You can enjoy a variety of dining options without leaving the comfort of your room.\\xa0Press the In-Room Dining button on the home screen of the guestroom iPad to place an order.\\xa0For more information, please click here.',\n",
       " 'Our promise to you: The rates offered on our website are the lowest available anywhere online, guaranteed. In the unlikely event that you do find a better rate elsewhere, we promise to match it and upgrade your room. Click here to learn more.',\n",
       " 'Pets are not permitted within the resort. Guests may be accompanied by a service animal.',\n",
       " \"Cancel 72 hours prior to arrival to avoid penalty of one night's room rate and tax. For promotional complimentary room offers that cancel or no show, a $100 fee plus taxes will be applied to the credit card provided for guarantee.\"]"
      ]
     },
     "execution_count": 158,
     "metadata": {},
     "output_type": "execute_result"
    }
   ],
   "source": [
    "answers_Premier_Double_Room = []\n",
    "for i in soup.find_all('p'):\n",
    "    answers_Premier_Double_Room.append(i.text.strip())\n",
    "\n",
    "answers_Premier_Double_Room = [i for i in answers_Premier_Double_Room if i != ''][1:-7]\n",
    "answers_Premier_Double_Room"
   ]
  },
  {
   "cell_type": "code",
   "execution_count": 159,
   "id": "2791503d",
   "metadata": {},
   "outputs": [
    {
     "data": {
      "text/plain": [
       "(10, 10)"
      ]
     },
     "execution_count": 159,
     "metadata": {},
     "output_type": "execute_result"
    }
   ],
   "source": [
    "len(questions_Premier_Double_Room), len(answers_Premier_Double_Room)"
   ]
  },
  {
   "cell_type": "code",
   "execution_count": 160,
   "id": "59941718",
   "metadata": {},
   "outputs": [
    {
     "data": {
      "text/plain": [
       "{'How many people can the Premier Harbor View Double room sleep?': 'Encore Boston Harbor limits occupancy in this room to a maximum of four (4) guests.',\n",
       " 'When can I check-in to my room?': 'You may check in to your room at 4 p.m.',\n",
       " 'Can I check-in to my room early?': 'Our published and recommended check-in time is 4 p.m. on your day of arrival.  However, if we have your room/suite available, we are always happy to check the reservation in early. Please call the Front Desk at (857) 770-4001 if you need to check-in early, as early check-in is based on availability.',\n",
       " 'When do I need to check-out of my room?': 'Checkout time is at 11 a.m. Please call the Front Desk at (857) 770-4001 if you need to check out late, as late checkout is based on availability.',\n",
       " 'Is smoking allowed in my room?': 'Smoking is not allowed inside of Encore Boston Harbor, including in rooms. There is a $500 deep cleaning fee charged for smoking in a designated non-smoking room. Cannabis products are prohibited in guest rooms and throughout the resort.',\n",
       " 'Is outside food and drink allowed?': 'Guests may not bring more than one (1) bottle of wine, one (1)\\xa0six-pack, or a fifth of liquor. Outside food (other than small snacks) and coolers are not permitted at the resort and casino. Guests arriving with these items will be required to check them at the Bell Desk or leave them in their vehicle for the duration of their visit.',\n",
       " 'Do you offer In-Room Dining?': 'You can enjoy a variety of dining options without leaving the comfort of your room.\\xa0Press the In-Room Dining button on the home screen of the guestroom iPad to place an order.\\xa0For more information, please click here.',\n",
       " 'What is the Encore Boston Harbor Rate Promise?': 'Our promise to you: The rates offered on our website are the lowest available anywhere online, guaranteed. In the unlikely event that you do find a better rate elsewhere, we promise to match it and upgrade your room. Click here to learn more.',\n",
       " 'Is this room pet-friendly?': 'Pets are not permitted within the resort. Guests may be accompanied by a service animal.',\n",
       " 'What do I do if I need to cancel my reservation?': \"Cancel 72 hours prior to arrival to avoid penalty of one night's room rate and tax. For promotional complimentary room offers that cancel or no show, a $100 fee plus taxes will be applied to the credit card provided for guarantee.\"}"
      ]
     },
     "execution_count": 160,
     "metadata": {},
     "output_type": "execute_result"
    }
   ],
   "source": [
    "faq_dict_Rooms_And_Suites = dict(zip(questions_Premier_Double_Room,answers_Premier_Double_Room))\n",
    "faq_dict_Rooms_And_Suites "
   ]
  },
  {
   "cell_type": "code",
   "execution_count": 161,
   "id": "ae6f5021",
   "metadata": {},
   "outputs": [
    {
     "data": {
      "text/html": [
       "<div>\n",
       "<style scoped>\n",
       "    .dataframe tbody tr th:only-of-type {\n",
       "        vertical-align: middle;\n",
       "    }\n",
       "\n",
       "    .dataframe tbody tr th {\n",
       "        vertical-align: top;\n",
       "    }\n",
       "\n",
       "    .dataframe thead th {\n",
       "        text-align: right;\n",
       "    }\n",
       "</style>\n",
       "<table border=\"1\" class=\"dataframe\">\n",
       "  <thead>\n",
       "    <tr style=\"text-align: right;\">\n",
       "      <th></th>\n",
       "      <th>Question</th>\n",
       "      <th>Answer</th>\n",
       "    </tr>\n",
       "  </thead>\n",
       "  <tbody>\n",
       "    <tr>\n",
       "      <th>0</th>\n",
       "      <td>How many people can the Premier Harbor View Do...</td>\n",
       "      <td>Encore Boston Harbor limits occupancy in this ...</td>\n",
       "    </tr>\n",
       "    <tr>\n",
       "      <th>1</th>\n",
       "      <td>When can I check-in to my room?</td>\n",
       "      <td>You may check in to your room at 4 p.m.</td>\n",
       "    </tr>\n",
       "    <tr>\n",
       "      <th>2</th>\n",
       "      <td>Can I check-in to my room early?</td>\n",
       "      <td>Our published and recommended check-in time is...</td>\n",
       "    </tr>\n",
       "    <tr>\n",
       "      <th>3</th>\n",
       "      <td>When do I need to check-out of my room?</td>\n",
       "      <td>Checkout time is at 11 a.m. Please call the Fr...</td>\n",
       "    </tr>\n",
       "    <tr>\n",
       "      <th>4</th>\n",
       "      <td>Is smoking allowed in my room?</td>\n",
       "      <td>Smoking is not allowed inside of Encore Boston...</td>\n",
       "    </tr>\n",
       "    <tr>\n",
       "      <th>5</th>\n",
       "      <td>Is outside food and drink allowed?</td>\n",
       "      <td>Guests may not bring more than one (1) bottle ...</td>\n",
       "    </tr>\n",
       "    <tr>\n",
       "      <th>6</th>\n",
       "      <td>Do you offer In-Room Dining?</td>\n",
       "      <td>You can enjoy a variety of dining options with...</td>\n",
       "    </tr>\n",
       "    <tr>\n",
       "      <th>7</th>\n",
       "      <td>What is the Encore Boston Harbor Rate Promise?</td>\n",
       "      <td>Our promise to you: The rates offered on our w...</td>\n",
       "    </tr>\n",
       "    <tr>\n",
       "      <th>8</th>\n",
       "      <td>Is this room pet-friendly?</td>\n",
       "      <td>Pets are not permitted within the resort. Gues...</td>\n",
       "    </tr>\n",
       "  </tbody>\n",
       "</table>\n",
       "</div>"
      ],
      "text/plain": [
       "                                            Question  \\\n",
       "0  How many people can the Premier Harbor View Do...   \n",
       "1                    When can I check-in to my room?   \n",
       "2                   Can I check-in to my room early?   \n",
       "3            When do I need to check-out of my room?   \n",
       "4                     Is smoking allowed in my room?   \n",
       "5                 Is outside food and drink allowed?   \n",
       "6                       Do you offer In-Room Dining?   \n",
       "7     What is the Encore Boston Harbor Rate Promise?   \n",
       "8                         Is this room pet-friendly?   \n",
       "\n",
       "                                              Answer  \n",
       "0  Encore Boston Harbor limits occupancy in this ...  \n",
       "1            You may check in to your room at 4 p.m.  \n",
       "2  Our published and recommended check-in time is...  \n",
       "3  Checkout time is at 11 a.m. Please call the Fr...  \n",
       "4  Smoking is not allowed inside of Encore Boston...  \n",
       "5  Guests may not bring more than one (1) bottle ...  \n",
       "6  You can enjoy a variety of dining options with...  \n",
       "7  Our promise to you: The rates offered on our w...  \n",
       "8  Pets are not permitted within the resort. Gues...  "
      ]
     },
     "execution_count": 161,
     "metadata": {},
     "output_type": "execute_result"
    }
   ],
   "source": [
    "Rooms_And_Suites_df = pd.DataFrame(list(faq_dict_Premier_Double_Room.items()), columns=[\"Question\", \"Answer\"])\n",
    "Rooms_And_Suites_df"
   ]
  },
  {
   "cell_type": "markdown",
   "id": "dad54cea",
   "metadata": {},
   "source": []
  },
  {
   "cell_type": "code",
   "execution_count": 162,
   "id": "164b8851",
   "metadata": {},
   "outputs": [],
   "source": [
    "webpage1 = requests.get('https://www.encorebostonharbor.com/rooms-and-suites/encore-rooms/premier-harbor-view-double').text\n",
    "soup1 = BeautifulSoup(webpage1,'lxml')"
   ]
  },
  {
   "cell_type": "code",
   "execution_count": 163,
   "id": "8792d637",
   "metadata": {},
   "outputs": [],
   "source": [
    "questions_1 = []\n",
    "\n",
    "for i in soup.find_all('div',class_='questions-title')[:1]:\n",
    "    questions_1.append(i.find('span', class_='question-title-clickable').text.strip())\n",
    "questions_1 = questions_1[0] "
   ]
  },
  {
   "cell_type": "code",
   "execution_count": 164,
   "id": "39959dd7",
   "metadata": {},
   "outputs": [],
   "source": [
    "answers_1 = []\n",
    "for i in soup.find_all('p'):\n",
    "    answers_1.append(i.text.strip())\n",
    "answers_1 = [i for i in answers_1 if i != ''][1:2]\n",
    "answers_1 = answers_1[0]"
   ]
  },
  {
   "cell_type": "markdown",
   "id": "626ebbd7",
   "metadata": {},
   "source": []
  },
  {
   "cell_type": "code",
   "execution_count": 165,
   "id": "e1714e51",
   "metadata": {},
   "outputs": [],
   "source": [
    "webpage3 = requests.get('https://www.encorebostonharbor.com/rooms-and-suites/encore-rooms/premier-double').text\n",
    "soup3 = BeautifulSoup(webpage3,'lxml')"
   ]
  },
  {
   "cell_type": "code",
   "execution_count": 166,
   "id": "67e8ad63",
   "metadata": {},
   "outputs": [],
   "source": [
    "questions_3 = []\n",
    "\n",
    "for i in soup3.find_all('div',class_='questions-title')[:1]:\n",
    "    questions_3.append(i.find('span', class_='question-title-clickable').text.strip())\n",
    "questions_3 = questions_3[0] "
   ]
  },
  {
   "cell_type": "code",
   "execution_count": 167,
   "id": "0b4d1ce0",
   "metadata": {},
   "outputs": [],
   "source": [
    "answers_3 = []\n",
    "for i in soup3.find_all('p'):\n",
    "    answers_3.append(i.text.strip())\n",
    "\n",
    "answers_3 = [i for i in answers_3 if i != ''][1:2]\n",
    "answers_3 = answers_3[0]"
   ]
  },
  {
   "cell_type": "code",
   "execution_count": 168,
   "id": "0d4e89e2",
   "metadata": {},
   "outputs": [],
   "source": [
    "webpage4 = requests.get('https://www.encorebostonharbor.com/rooms-and-suites/encore-rooms/premier-harbor-view-king').text\n",
    "soup4 = BeautifulSoup(webpage4,'lxml')"
   ]
  },
  {
   "cell_type": "code",
   "execution_count": 169,
   "id": "9550ed34",
   "metadata": {},
   "outputs": [],
   "source": [
    "questions_4 = []\n",
    "\n",
    "for i in soup4.find_all('div',class_='questions-title')[:1]:\n",
    "    questions_4.append(i.find('span', class_='question-title-clickable').text.strip())\n",
    "questions_4 = questions_4[0]     "
   ]
  },
  {
   "cell_type": "code",
   "execution_count": 170,
   "id": "7a5f9acf",
   "metadata": {},
   "outputs": [],
   "source": [
    "answers_4 = []\n",
    "for i in soup4.find_all('p'):\n",
    "    answers_4.append(i.text.strip())\n",
    "\n",
    "answers_4 = [i for i in answers_4 if i != ''][1:2]\n",
    "answers_4 = answers_4[0]"
   ]
  },
  {
   "cell_type": "code",
   "execution_count": 171,
   "id": "2c3a6edd",
   "metadata": {},
   "outputs": [],
   "source": [
    "webpage5 = requests.get('https://www.encorebostonharbor.com/rooms-and-suites/encore-suites/signature-suite').text\n",
    "soup5 = BeautifulSoup(webpage5,'lxml')"
   ]
  },
  {
   "cell_type": "code",
   "execution_count": 172,
   "id": "25045dca",
   "metadata": {},
   "outputs": [],
   "source": [
    "questions_5 = []\n",
    "\n",
    "for i in soup5.find_all('div',class_='questions-title')[:1]:\n",
    "    questions_5.append(i.find('span', class_='question-title-clickable').text.strip())\n",
    "questions_5 = questions_5[0] "
   ]
  },
  {
   "cell_type": "code",
   "execution_count": 173,
   "id": "7a53691f",
   "metadata": {},
   "outputs": [],
   "source": [
    "answers_5 = []\n",
    "for i in soup5.find_all('p'):\n",
    "    answers_5.append(i.text.strip())\n",
    "\n",
    "answers_5 = [i for i in answers_5 if i != ''][1:2]\n",
    "answers_5 = answers_5[0]"
   ]
  },
  {
   "cell_type": "code",
   "execution_count": 174,
   "id": "6711e84f",
   "metadata": {},
   "outputs": [],
   "source": [
    "webpage6 = requests.get('https://www.encorebostonharbor.com/rooms-and-suites/encore-suites/signature-harbor-view-suite').text\n",
    "soup6 = BeautifulSoup(webpage6,'lxml')"
   ]
  },
  {
   "cell_type": "code",
   "execution_count": 175,
   "id": "fbf6d250",
   "metadata": {},
   "outputs": [],
   "source": [
    "questions_6 = []\n",
    "\n",
    "for i in soup6.find_all('div',class_='questions-title')[:1]:\n",
    "    questions_6.append(i.find('span', class_='question-title-clickable').text.strip())\n",
    "questions_6 = questions_6[0] "
   ]
  },
  {
   "cell_type": "code",
   "execution_count": 176,
   "id": "aad0a92b",
   "metadata": {},
   "outputs": [],
   "source": [
    "answers_6 = []\n",
    "for i in soup6.find_all('p'):\n",
    "    answers_6.append(i.text.strip())\n",
    "\n",
    "answers_6 = [i for i in answers_6 if i != ''][1:2]\n",
    "answers_6 = answers_6[0]"
   ]
  },
  {
   "cell_type": "code",
   "execution_count": 177,
   "id": "59277aca",
   "metadata": {},
   "outputs": [],
   "source": [
    "webpage7 = requests.get('https://www.encorebostonharbor.com/rooms-and-suites/encore-suites/two-bedroom-residence').text\n",
    "soup7 = BeautifulSoup(webpage7,'lxml')"
   ]
  },
  {
   "cell_type": "code",
   "execution_count": 178,
   "id": "35c9020a",
   "metadata": {},
   "outputs": [],
   "source": [
    "questions_7 = []\n",
    "\n",
    "for i in soup7.find_all('div',class_='questions-title')[:1]:\n",
    "    questions_7.append(i.find('span', class_='question-title-clickable').text.strip())\n",
    "questions_7 = questions_7[0] "
   ]
  },
  {
   "cell_type": "code",
   "execution_count": 179,
   "id": "12fb734b",
   "metadata": {},
   "outputs": [],
   "source": [
    "answers_7 = []\n",
    "for i in soup7.find_all('p'):\n",
    "    answers_7.append(i.text.strip())\n",
    "\n",
    "answers_7 = [i for i in answers_7 if i != ''][1:2]\n",
    "answers_7 = answers_7[0]"
   ]
  },
  {
   "cell_type": "code",
   "execution_count": 180,
   "id": "5dc0b2d3",
   "metadata": {},
   "outputs": [
    {
     "name": "stdout",
     "output_type": "stream",
     "text": [
      "{'How many people can the Premier Harbor View Double room sleep?': 'Encore Boston Harbor limits occupancy in this room to a maximum of four (4) guests.', 'How many guests can be accommodated within the Premier Double room?': 'Encore Boston Harbor limits occupancy in this room to a maximum of four (4) guests.', 'How many guests can be accommodated within the Premier Harbor View King room?': 'Encore Boston Harbor limits occupancy in this room to a maximum of four (4) guests. Rollaway beds are available upon request.', 'How many guests can be accommodated within the Signature Suite?': 'Encore Boston Harbor limits occupancy in this room to a maximum of four (4) guests. Rollaway beds are available upon request for an additional charge.', 'How many guests can be accommodated within the Signature Harbor View Suite?': 'Encore Boston Harbor limits occupancy in this room to a maximum of four (4) guests. Rollaway beds are available upon request for an additional charge.', 'How many guests can be accommodated within the Two-Bedroom Residence?': 'Encore Boston Harbor limits occupancy in this room to a maximum of four (4) guests. Rollaway beds are available upon request for an additional charge.'}\n"
     ]
    }
   ],
   "source": [
    "rest_of_faq_dict = {\n",
    "    questions_1: answers_1,\n",
    "    questions_3: answers_3,\n",
    "    questions_4: answers_4,\n",
    "    questions_5: answers_5,\n",
    "    questions_6: answers_6,\n",
    "    questions_7: answers_7\n",
    "}\n",
    "\n",
    "print(rest_of_faq_dict)"
   ]
  },
  {
   "cell_type": "code",
   "execution_count": 181,
   "id": "52a69dc4",
   "metadata": {},
   "outputs": [
    {
     "data": {
      "text/html": [
       "<div>\n",
       "<style scoped>\n",
       "    .dataframe tbody tr th:only-of-type {\n",
       "        vertical-align: middle;\n",
       "    }\n",
       "\n",
       "    .dataframe tbody tr th {\n",
       "        vertical-align: top;\n",
       "    }\n",
       "\n",
       "    .dataframe thead th {\n",
       "        text-align: right;\n",
       "    }\n",
       "</style>\n",
       "<table border=\"1\" class=\"dataframe\">\n",
       "  <thead>\n",
       "    <tr style=\"text-align: right;\">\n",
       "      <th></th>\n",
       "      <th>Question</th>\n",
       "      <th>Answer</th>\n",
       "    </tr>\n",
       "  </thead>\n",
       "  <tbody>\n",
       "    <tr>\n",
       "      <th>0</th>\n",
       "      <td>How many people can the Premier Harbor View Do...</td>\n",
       "      <td>Encore Boston Harbor limits occupancy in this ...</td>\n",
       "    </tr>\n",
       "    <tr>\n",
       "      <th>1</th>\n",
       "      <td>How many guests can be accommodated within the...</td>\n",
       "      <td>Encore Boston Harbor limits occupancy in this ...</td>\n",
       "    </tr>\n",
       "    <tr>\n",
       "      <th>2</th>\n",
       "      <td>How many guests can be accommodated within the...</td>\n",
       "      <td>Encore Boston Harbor limits occupancy in this ...</td>\n",
       "    </tr>\n",
       "    <tr>\n",
       "      <th>3</th>\n",
       "      <td>How many guests can be accommodated within the...</td>\n",
       "      <td>Encore Boston Harbor limits occupancy in this ...</td>\n",
       "    </tr>\n",
       "    <tr>\n",
       "      <th>4</th>\n",
       "      <td>How many guests can be accommodated within the...</td>\n",
       "      <td>Encore Boston Harbor limits occupancy in this ...</td>\n",
       "    </tr>\n",
       "    <tr>\n",
       "      <th>5</th>\n",
       "      <td>How many guests can be accommodated within the...</td>\n",
       "      <td>Encore Boston Harbor limits occupancy in this ...</td>\n",
       "    </tr>\n",
       "  </tbody>\n",
       "</table>\n",
       "</div>"
      ],
      "text/plain": [
       "                                            Question  \\\n",
       "0  How many people can the Premier Harbor View Do...   \n",
       "1  How many guests can be accommodated within the...   \n",
       "2  How many guests can be accommodated within the...   \n",
       "3  How many guests can be accommodated within the...   \n",
       "4  How many guests can be accommodated within the...   \n",
       "5  How many guests can be accommodated within the...   \n",
       "\n",
       "                                              Answer  \n",
       "0  Encore Boston Harbor limits occupancy in this ...  \n",
       "1  Encore Boston Harbor limits occupancy in this ...  \n",
       "2  Encore Boston Harbor limits occupancy in this ...  \n",
       "3  Encore Boston Harbor limits occupancy in this ...  \n",
       "4  Encore Boston Harbor limits occupancy in this ...  \n",
       "5  Encore Boston Harbor limits occupancy in this ...  "
      ]
     },
     "execution_count": 181,
     "metadata": {},
     "output_type": "execute_result"
    }
   ],
   "source": [
    "questions_df_new = pd.DataFrame(list(rest_of_faq_dict.items()), columns=[\"Question\", \"Answer\"])\n",
    "questions_df_new"
   ]
  },
  {
   "cell_type": "code",
   "execution_count": 182,
   "id": "a5ffc622",
   "metadata": {},
   "outputs": [
    {
     "data": {
      "text/html": [
       "<div>\n",
       "<style scoped>\n",
       "    .dataframe tbody tr th:only-of-type {\n",
       "        vertical-align: middle;\n",
       "    }\n",
       "\n",
       "    .dataframe tbody tr th {\n",
       "        vertical-align: top;\n",
       "    }\n",
       "\n",
       "    .dataframe thead th {\n",
       "        text-align: right;\n",
       "    }\n",
       "</style>\n",
       "<table border=\"1\" class=\"dataframe\">\n",
       "  <thead>\n",
       "    <tr style=\"text-align: right;\">\n",
       "      <th></th>\n",
       "      <th>Question</th>\n",
       "      <th>Answer</th>\n",
       "    </tr>\n",
       "  </thead>\n",
       "  <tbody>\n",
       "    <tr>\n",
       "      <th>0</th>\n",
       "      <td>How many people can the Premier Harbor View Do...</td>\n",
       "      <td>Encore Boston Harbor limits occupancy in this ...</td>\n",
       "    </tr>\n",
       "    <tr>\n",
       "      <th>1</th>\n",
       "      <td>When can I check-in to my room?</td>\n",
       "      <td>You may check in to your room at 4 p.m.</td>\n",
       "    </tr>\n",
       "    <tr>\n",
       "      <th>2</th>\n",
       "      <td>Can I check-in to my room early?</td>\n",
       "      <td>Our published and recommended check-in time is...</td>\n",
       "    </tr>\n",
       "    <tr>\n",
       "      <th>3</th>\n",
       "      <td>When do I need to check-out of my room?</td>\n",
       "      <td>Checkout time is at 11 a.m. Please call the Fr...</td>\n",
       "    </tr>\n",
       "    <tr>\n",
       "      <th>4</th>\n",
       "      <td>Is smoking allowed in my room?</td>\n",
       "      <td>Smoking is not allowed inside of Encore Boston...</td>\n",
       "    </tr>\n",
       "    <tr>\n",
       "      <th>5</th>\n",
       "      <td>Is outside food and drink allowed?</td>\n",
       "      <td>Guests may not bring more than one (1) bottle ...</td>\n",
       "    </tr>\n",
       "    <tr>\n",
       "      <th>6</th>\n",
       "      <td>Do you offer In-Room Dining?</td>\n",
       "      <td>You can enjoy a variety of dining options with...</td>\n",
       "    </tr>\n",
       "    <tr>\n",
       "      <th>7</th>\n",
       "      <td>What is the Encore Boston Harbor Rate Promise?</td>\n",
       "      <td>Our promise to you: The rates offered on our w...</td>\n",
       "    </tr>\n",
       "    <tr>\n",
       "      <th>8</th>\n",
       "      <td>Is this room pet-friendly?</td>\n",
       "      <td>Pets are not permitted within the resort. Gues...</td>\n",
       "    </tr>\n",
       "    <tr>\n",
       "      <th>9</th>\n",
       "      <td>How many guests can be accommodated within the...</td>\n",
       "      <td>Encore Boston Harbor limits occupancy in this ...</td>\n",
       "    </tr>\n",
       "    <tr>\n",
       "      <th>10</th>\n",
       "      <td>How many guests can be accommodated within the...</td>\n",
       "      <td>Encore Boston Harbor limits occupancy in this ...</td>\n",
       "    </tr>\n",
       "    <tr>\n",
       "      <th>11</th>\n",
       "      <td>How many guests can be accommodated within the...</td>\n",
       "      <td>Encore Boston Harbor limits occupancy in this ...</td>\n",
       "    </tr>\n",
       "    <tr>\n",
       "      <th>12</th>\n",
       "      <td>How many guests can be accommodated within the...</td>\n",
       "      <td>Encore Boston Harbor limits occupancy in this ...</td>\n",
       "    </tr>\n",
       "    <tr>\n",
       "      <th>13</th>\n",
       "      <td>How many guests can be accommodated within the...</td>\n",
       "      <td>Encore Boston Harbor limits occupancy in this ...</td>\n",
       "    </tr>\n",
       "  </tbody>\n",
       "</table>\n",
       "</div>"
      ],
      "text/plain": [
       "                                             Question  \\\n",
       "0   How many people can the Premier Harbor View Do...   \n",
       "1                     When can I check-in to my room?   \n",
       "2                    Can I check-in to my room early?   \n",
       "3             When do I need to check-out of my room?   \n",
       "4                      Is smoking allowed in my room?   \n",
       "5                  Is outside food and drink allowed?   \n",
       "6                        Do you offer In-Room Dining?   \n",
       "7      What is the Encore Boston Harbor Rate Promise?   \n",
       "8                          Is this room pet-friendly?   \n",
       "9   How many guests can be accommodated within the...   \n",
       "10  How many guests can be accommodated within the...   \n",
       "11  How many guests can be accommodated within the...   \n",
       "12  How many guests can be accommodated within the...   \n",
       "13  How many guests can be accommodated within the...   \n",
       "\n",
       "                                               Answer  \n",
       "0   Encore Boston Harbor limits occupancy in this ...  \n",
       "1             You may check in to your room at 4 p.m.  \n",
       "2   Our published and recommended check-in time is...  \n",
       "3   Checkout time is at 11 a.m. Please call the Fr...  \n",
       "4   Smoking is not allowed inside of Encore Boston...  \n",
       "5   Guests may not bring more than one (1) bottle ...  \n",
       "6   You can enjoy a variety of dining options with...  \n",
       "7   Our promise to you: The rates offered on our w...  \n",
       "8   Pets are not permitted within the resort. Gues...  \n",
       "9   Encore Boston Harbor limits occupancy in this ...  \n",
       "10  Encore Boston Harbor limits occupancy in this ...  \n",
       "11  Encore Boston Harbor limits occupancy in this ...  \n",
       "12  Encore Boston Harbor limits occupancy in this ...  \n",
       "13  Encore Boston Harbor limits occupancy in this ...  "
      ]
     },
     "execution_count": 182,
     "metadata": {},
     "output_type": "execute_result"
    }
   ],
   "source": [
    "merged_df = pd.merge(Rooms_And_Suites_df, questions_df_new, on=['Question', 'Answer'], how='outer')\n",
    "merged_df = merged_df.reset_index(drop=True)\n",
    "merged_df"
   ]
  },
  {
   "cell_type": "code",
   "execution_count": null,
   "id": "0db14455",
   "metadata": {},
   "outputs": [],
   "source": []
  },
  {
   "cell_type": "code",
   "execution_count": null,
   "id": "83b1382c",
   "metadata": {},
   "outputs": [],
   "source": []
  }
 ],
 "metadata": {
  "kernelspec": {
   "display_name": "Python 3 (ipykernel)",
   "language": "python",
   "name": "python3"
  },
  "language_info": {
   "codemirror_mode": {
    "name": "ipython",
    "version": 3
   },
   "file_extension": ".py",
   "mimetype": "text/x-python",
   "name": "python",
   "nbconvert_exporter": "python",
   "pygments_lexer": "ipython3",
   "version": "3.11.4"
  }
 },
 "nbformat": 4,
 "nbformat_minor": 5
}
