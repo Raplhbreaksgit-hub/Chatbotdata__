{
 "cells": [
  {
   "cell_type": "markdown",
   "id": "7d8dc4e8",
   "metadata": {},
   "source": [
    "# Hotel and Amenities"
   ]
  },
  {
   "cell_type": "code",
   "execution_count": 1,
   "id": "08a157e9",
   "metadata": {},
   "outputs": [],
   "source": [
    "import pandas as pd\n",
    "import requests\n",
    "from bs4 import BeautifulSoup"
   ]
  },
  {
   "cell_type": "code",
   "execution_count": 2,
   "id": "8ac6b0dc",
   "metadata": {},
   "outputs": [],
   "source": [
    "webpage = requests.get('https://www.encorebostonharbor.com/hotel-information/hotel-and-amenities').text\n",
    "soup = BeautifulSoup(webpage,'lxml')"
   ]
  },
  {
   "cell_type": "code",
   "execution_count": 8,
   "id": "c7b8c6a9",
   "metadata": {},
   "outputs": [
    {
     "data": {
      "text/plain": [
       "['Alexa',\n",
       " 'Bell Desk',\n",
       " 'Business Center',\n",
       " 'Check out',\n",
       " 'Concierge',\n",
       " 'Fitness Center',\n",
       " 'Guest Feedback',\n",
       " 'Housekeeping Services',\n",
       " 'Lost and Found',\n",
       " 'Maintenance Services',\n",
       " 'Room Bill',\n",
       " 'Smoking',\n",
       " 'Telephone Charges',\n",
       " 'WiFi']"
      ]
     },
     "execution_count": 8,
     "metadata": {},
     "output_type": "execute_result"
    }
   ],
   "source": [
    "subject1 = []\n",
    "\n",
    "for i in soup.find_all('div',class_='questions-title'):\n",
    "    subject1.append(i.find('span', class_='question-title-clickable').text.strip())\n",
    "    \n",
    "subject1"
   ]
  },
  {
   "cell_type": "code",
   "execution_count": 9,
   "id": "a37a8cfc",
   "metadata": {},
   "outputs": [
    {
     "data": {
      "text/plain": [
       "['As one of the amenities you may wish to enjoy during your stay at Encore, your guestroom comes equipped with Alexa, your voice-controlled personal assistant. You may ask Alexa any questions you may have about Encore and to adjust your room settings such as temperature, lights and drape controls.',\n",
       " 'Our bell staff can assist with luggage transportation, wheelchair and scooter rentals. Please call +1 (857) 770-4300 for Bell Services.',\n",
       " 'The Business Center is open daily 8 a.m.–12 a.m. Services we offer include internet access, printing, copying, package shipping and mail receiving and equipment rentals. There are fees associated with services and are subject to change. Click here for pricing and contact information.',\n",
       " 'Checkout time is at 11 a.m. You may check out via your in-room iPad, by calling the Front Desk at +1 (857) 770-4000, or by simply dropping your guestroom keys in the Express Checkout box located in Resort Registration.',\n",
       " 'The Concierge team at Encore Boston Harbor is available to assist before and during your stay to create a memorable experience. From transportation options, choice tables at our restaurants, sporting and event tickets and recommendations on sightseeing tours, our world class Concierge team is ready to take care of every detail. Concierge service is available Sunday through Wednesday from 11 a.m.–6 p.m. and Thursday through Saturday from 10 a.m.–9 p.m. To contact the concierge, please call +1 (857) 770-7070\\xa0or e-mail conciergeservices@encorebostonharbor.com. We will respond to requests within 24 hours.',\n",
       " 'The Fitness Center is located on the Spa level on the third floor which you can get to by pressing the spa button in the elevator. Private personal sessions are available by request and appointment. Please call us if you have any questions +1 (857) 770-3900. Click here for current hours of operation.',\n",
       " 'We would love to hear from you. To submit feedback e-mail guest.comments@encorebostonharbor.com or fill out a comment card located at the Main Registration desk.',\n",
       " 'Please call Encore Housekeeping at +1 (857) 770-4400 to request to have your room cleaned or for requests such as extra towels, pillows, blankets, soaps, lotions, etc.',\n",
       " 'Lost and Found is open daily from 8 a.m.–12 a.m. and may be reached at +1 (857) 770-4330. To report a lost item, click here.',\n",
       " 'For maintenance issues, please press the guest services button on your room phone.',\n",
       " 'You can view your bill on your in-room iPad or have a copy printed for you at the Front Desk. For more information, please call the Front Desk at +1 (857) 770-4000.',\n",
       " 'There is a $500 deep cleaning fee charged for smoking in a designated non-smoking room. Smoking areas can be found outdoors. Cannabis products are prohibited in guest rooms and throughout the resort.',\n",
       " 'Local and domestic long distance calls are\\xa0free as well as toll-free\\xa0calls (800, 833, 844, 855, 866, 877 and 888 prefixes): Direct-Dialed Long-Distance and International Calls: All calls will be charged AT&T operator-assisted daytime rates.',\n",
       " 'WiFi\\xa0is\\xa0free up to 7 MB per minute. Higher speed upgrade is available for\\xa0$9.99\\xa0per device, per day. To log on, please provide your last name and room number.']"
      ]
     },
     "execution_count": 9,
     "metadata": {},
     "output_type": "execute_result"
    }
   ],
   "source": [
    "answers1 = []\n",
    "for i in soup.find_all('p'):\n",
    "    answers1.append(i.text.strip())\n",
    "\n",
    "answers1 = [i for i in answers1 if i != ''][:-1]\n",
    "answers1"
   ]
  },
  {
   "cell_type": "code",
   "execution_count": 10,
   "id": "199a70d2",
   "metadata": {},
   "outputs": [],
   "source": [
    "dict1 = dict(zip(subject1 , answers1))"
   ]
  },
  {
   "cell_type": "code",
   "execution_count": 13,
   "id": "098a9026",
   "metadata": {},
   "outputs": [
    {
     "data": {
      "text/plain": [
       "{'Alexa': 'As one of the amenities you may wish to enjoy during your stay at Encore, your guestroom comes equipped with Alexa, your voice-controlled personal assistant. You may ask Alexa any questions you may have about Encore and to adjust your room settings such as temperature, lights and drape controls.',\n",
       " 'Bell Desk': 'Our bell staff can assist with luggage transportation, wheelchair and scooter rentals. Please call +1 (857) 770-4300 for Bell Services.',\n",
       " 'Business Center': 'The Business Center is open daily 8 a.m.–12 a.m. Services we offer include internet access, printing, copying, package shipping and mail receiving and equipment rentals. There are fees associated with services and are subject to change. Click here for pricing and contact information.',\n",
       " 'Check out': 'Checkout time is at 11 a.m. You may check out via your in-room iPad, by calling the Front Desk at +1 (857) 770-4000, or by simply dropping your guestroom keys in the Express Checkout box located in Resort Registration.',\n",
       " 'Concierge': 'The Concierge team at Encore Boston Harbor is available to assist before and during your stay to create a memorable experience. From transportation options, choice tables at our restaurants, sporting and event tickets and recommendations on sightseeing tours, our world class Concierge team is ready to take care of every detail. Concierge service is available Sunday through Wednesday from 11 a.m.–6 p.m. and Thursday through Saturday from 10 a.m.–9 p.m. To contact the concierge, please call +1 (857) 770-7070\\xa0or e-mail conciergeservices@encorebostonharbor.com. We will respond to requests within 24 hours.',\n",
       " 'Fitness Center': 'The Fitness Center is located on the Spa level on the third floor which you can get to by pressing the spa button in the elevator. Private personal sessions are available by request and appointment. Please call us if you have any questions +1 (857) 770-3900. Click here for current hours of operation.',\n",
       " 'Guest Feedback': 'We would love to hear from you. To submit feedback e-mail guest.comments@encorebostonharbor.com or fill out a comment card located at the Main Registration desk.',\n",
       " 'Housekeeping Services': 'Please call Encore Housekeeping at +1 (857) 770-4400 to request to have your room cleaned or for requests such as extra towels, pillows, blankets, soaps, lotions, etc.',\n",
       " 'Lost and Found': 'Lost and Found is open daily from 8 a.m.–12 a.m. and may be reached at +1 (857) 770-4330. To report a lost item, click here.',\n",
       " 'Maintenance Services': 'For maintenance issues, please press the guest services button on your room phone.',\n",
       " 'Room Bill': 'You can view your bill on your in-room iPad or have a copy printed for you at the Front Desk. For more information, please call the Front Desk at +1 (857) 770-4000.',\n",
       " 'Smoking': 'There is a $500 deep cleaning fee charged for smoking in a designated non-smoking room. Smoking areas can be found outdoors. Cannabis products are prohibited in guest rooms and throughout the resort.',\n",
       " 'Telephone Charges': 'Local and domestic long distance calls are\\xa0free as well as toll-free\\xa0calls (800, 833, 844, 855, 866, 877 and 888 prefixes): Direct-Dialed Long-Distance and International Calls: All calls will be charged AT&T operator-assisted daytime rates.',\n",
       " 'WiFi': 'WiFi\\xa0is\\xa0free up to 7 MB per minute. Higher speed upgrade is available for\\xa0$9.99\\xa0per device, per day. To log on, please provide your last name and room number.'}"
      ]
     },
     "execution_count": 13,
     "metadata": {},
     "output_type": "execute_result"
    }
   ],
   "source": [
    "dict1"
   ]
  },
  {
   "cell_type": "markdown",
   "id": "323645b4",
   "metadata": {},
   "source": [
    "# Dining"
   ]
  },
  {
   "cell_type": "code",
   "execution_count": 18,
   "id": "11df93a6",
   "metadata": {},
   "outputs": [],
   "source": [
    "webpage = requests.get('https://www.encorebostonharbor.com/hotel-information/dining').text\n",
    "soup = BeautifulSoup(webpage,'lxml')"
   ]
  },
  {
   "cell_type": "code",
   "execution_count": 19,
   "id": "2b752b0d",
   "metadata": {},
   "outputs": [
    {
     "data": {
      "text/plain": [
       "['Dress Code - Casual Dining',\n",
       " 'Dress Code - Fine Dining',\n",
       " 'Restaurant Menus',\n",
       " 'Restaurant Reservations',\n",
       " 'Vegetarian and Vegan Food',\n",
       " 'Rare Steakhouse',\n",
       " 'Red 8',\n",
       " 'Cheese Meet Wine',\n",
       " 'On Deck',\n",
       " 'Night Shift Brewing Kitchen & Tap',\n",
       " 'Mystique',\n",
       " 'Fratelli',\n",
       " \"Frank & Nick's\",\n",
       " 'Shake Shack',\n",
       " \"Dunkin'\",\n",
       " 'WynnBET Sportsbook',\n",
       " 'Center Bar',\n",
       " 'Rare Lounge',\n",
       " 'Mémoire',\n",
       " 'Mystique Lounge']"
      ]
     },
     "execution_count": 19,
     "metadata": {},
     "output_type": "execute_result"
    }
   ],
   "source": [
    "subject2 = []\n",
    "\n",
    "for i in soup.find_all('div',class_='questions-title'):\n",
    "    subject2.append(i.find('span', class_='question-title-clickable').text.strip())\n",
    "    \n",
    "subject2"
   ]
  },
  {
   "cell_type": "code",
   "execution_count": 22,
   "id": "549fe097",
   "metadata": {
    "scrolled": true
   },
   "outputs": [
    {
     "data": {
      "text/plain": [
       "['Open-toed shoes, sleeveless shirts, mid-riffs and baseball caps permitted. Swim wear and sheer, transparent clothing are not permitted.',\n",
       " 'Dressy attire preferred: Open-toed shoes and tank tops for men are not permitted.\\xa0 Baseball caps, sweatpants, swim wear, sheer, transparent clothing and bare mid-riffs are not permitted for all.',\n",
       " 'To view our restaurant menus, visit encorebostonharbor.com/dining-and-nightlife.',\n",
       " 'Reservations are accepted and recommended at Rare Steakhouse, Red 8, Mystique and Fratelli. Reservations can be made anytime\\xa0online. You will receive a confirmation text or e-mail once your reservation is confirmed.',\n",
       " 'Encore Boston Harbor offers vegan and vegetarian selections that are designed and prepared with the same care and attention as any of the signature items served. These deliciously satisfying dishes have been prepared with wholesome, plant-based food prepared in ways that enhance the flavor of each component.',\n",
       " 'In this elegant dining room with stunning views overlooking the Harborwalk and Mystic River, the steakhouse experience is redefined with creative classics and exceptional cuts. Rare features the most uniquely curated steak program in New England, including exclusive Japanese cuts from Kobe and the Kagoshima prefecture, as well as the best of domestic beef from Snake River Farms, Idaho and our partners at La Frieda Meats. To make a reservation, view hours of operation and the restaurant menu, please click\\xa0here.',\n",
       " 'Red 8’s diverse menu masterfully blends the flavors of China with Western technique to create singularly delicious cuisine. Along with Cantonese and dim sum classics, you’ll find flavors of Shanghai and Sichuan as well as our decadent Peking-style Duck or Ginger-Scallion Steamed Fish. To make a reservation, view hours of operation and the restaurant menu, please click here.',\n",
       " 'Visit Cheese Meet Wine for pairings of charcuterie favorites and delectable wines. Enjoy imported and domestic carved-to-order meats, fresh soft and hard cheeses, sandwiches, soups, and a curated wine list comprised of grapes from around the globe. Try something new or savor the familiar during your next visit, located next to Wynn Sports. To view hours of operation and the restaurant menu, please click\\xa0here.\\xa0Walk-ins only.',\n",
       " 'Classic American sports bar favorites and comfort food come together with panoramic views of the gaming floor. The action down on the tables might end up stealing your attention during the 7th inning stretch.\\xa0To view hours of operation and the restaurant menu, please click here.\\xa0Walk-ins only.',\n",
       " \"Night Shift Brewing Kitchen & Tap features an extensive list of Night Shift Brewing's locally crafted beers. Over the last decade Night Shift Brewing, started by a trio of college friends with a shared passion for homebrewing, gained fame for its high-quality craftsmanship and strong community ties. This popular craft brewer is loved by locals. The beverage menu includes more than 20 beers on tap and a wide selection of canned beers and seltzers, including Night Shift Brewing favorites. This collaborative restaurant and bar conveys natural synergies through every sip and every bite. Made especially for Encore Boston Harbor, don’t miss house beer, Local Luck IPA.\\xa0To view hours of operation and the menu, please click here.\\xa0Walk-ins only.\",\n",
       " 'Enjoy shareable, Asian-inspired dishes and artful sushi in a seductive atmosphere against the backdrop of Boston’s skyline. Open kitchens add to the energy of the sultry room that grows even more spirited as the evening advances. To make a reservation, view hours of operation and the restaurant menu, please click here.',\n",
       " 'Famed restaurateurs Frank DePasquale and Nick Varano bring their Southern Italian specialties to Encore Boston Harbor, via Boston’s North End. Look for all the traditional favorites and save room for a cannoli. To make a reservation, view hours of operation and the restaurant menu, please click here.',\n",
       " 'Frank & Nick’s offers a selection of North End favorites such as\\xa0Rosetta’s meatball sub, eggplant and chicken Parmigiana and house made roast beef paninis, in addition to brick oven pizzas, salads and a variety of coffees and desserts. For more information, please click here.\\xa0Walk-ins only.',\n",
       " 'Shake Shack is a modern day “roadside” burger stand known for its delicious 100% Angus beef burgers, crispy white-meat chicken, frozen custard, shakes, crinkle-cut fries, craft beer and wine, plus way more—with no hormones or antibiotics, ever. For more information, please click here.\\xa0Walk-ins only.',\n",
       " 'Open 24 hours daily, the New England staple roastery Dunkin’ has their flagship location on the gaming floor at Encore Boston Harbor. Find the dark roasted coffee specialties and snacks for which Dunkin’ is loved. For more information, please click here.',\n",
       " 'The sportsbook features more than 70 televisions, including a 10-foot high and 123-foot-long video wall, a collection of trophies, an installation of classical inspired sports accessories and a collage of historical images of local sports heroes and events, a full-service bar and cuisine from Shake Shack and Frank & Nick’s, the second concept by Frank DePasquale and Nick Varano within the resort. For hours of operation, please click here.',\n",
       " 'Enjoy a beverage at the most popular place on the casino floor, now open. Perfect for video poker, meeting friends or\\xa0sipping a cocktail, Center Bar is right in the middle of all the action. For hours of operation, please click here.',\n",
       " 'Located next door to Rare, Forbes Travel Guide’s highest-rated Boston steakhouse, Rare Lounge offers seamless transitions between pre-dinner drinks, tantalizing bites and after-dinner nightcaps. The lounge features classic and new interpretations of popular cocktails, approachable menu items and a fresh, locally sourced raw bar. To view hours of operation and the menu please click here.',\n",
       " 'The acclaimed operators of The Grand at Boston’s Seaport offer an unparalleled nightlife fantasy experience with top-tier DJ talent and a sophisticated environment. To view hours of operation and upcoming shows, please click here.',\n",
       " 'Enjoy the ultimate nightlife experience in Mystique’s luxurious 94-seat lounge featuring unparalleled bottle service and music from top area DJs. To make reservations, view hours of operation and the drink menu, please click here.']"
      ]
     },
     "execution_count": 22,
     "metadata": {},
     "output_type": "execute_result"
    }
   ],
   "source": [
    "answers2 = []\n",
    "for i in soup.find_all('p'):\n",
    "    answers2.append(i.text.strip())\n",
    "\n",
    "answers2 = [i for i in answers2 if i != ''][:-1]\n",
    "answers2"
   ]
  },
  {
   "cell_type": "code",
   "execution_count": 23,
   "id": "7cd458f5",
   "metadata": {},
   "outputs": [],
   "source": [
    "dict2 = dict(zip(subject2 , answers2))"
   ]
  },
  {
   "cell_type": "code",
   "execution_count": 24,
   "id": "193066cf",
   "metadata": {},
   "outputs": [
    {
     "data": {
      "text/plain": [
       "{'Dress Code - Casual Dining': 'Open-toed shoes, sleeveless shirts, mid-riffs and baseball caps permitted. Swim wear and sheer, transparent clothing are not permitted.',\n",
       " 'Dress Code - Fine Dining': 'Dressy attire preferred: Open-toed shoes and tank tops for men are not permitted.\\xa0 Baseball caps, sweatpants, swim wear, sheer, transparent clothing and bare mid-riffs are not permitted for all.',\n",
       " 'Restaurant Menus': 'To view our restaurant menus, visit encorebostonharbor.com/dining-and-nightlife.',\n",
       " 'Restaurant Reservations': 'Reservations are accepted and recommended at Rare Steakhouse, Red 8, Mystique and Fratelli. Reservations can be made anytime\\xa0online. You will receive a confirmation text or e-mail once your reservation is confirmed.',\n",
       " 'Vegetarian and Vegan Food': 'Encore Boston Harbor offers vegan and vegetarian selections that are designed and prepared with the same care and attention as any of the signature items served. These deliciously satisfying dishes have been prepared with wholesome, plant-based food prepared in ways that enhance the flavor of each component.',\n",
       " 'Rare Steakhouse': 'In this elegant dining room with stunning views overlooking the Harborwalk and Mystic River, the steakhouse experience is redefined with creative classics and exceptional cuts. Rare features the most uniquely curated steak program in New England, including exclusive Japanese cuts from Kobe and the Kagoshima prefecture, as well as the best of domestic beef from Snake River Farms, Idaho and our partners at La Frieda Meats. To make a reservation, view hours of operation and the restaurant menu, please click\\xa0here.',\n",
       " 'Red 8': 'Red 8’s diverse menu masterfully blends the flavors of China with Western technique to create singularly delicious cuisine. Along with Cantonese and dim sum classics, you’ll find flavors of Shanghai and Sichuan as well as our decadent Peking-style Duck or Ginger-Scallion Steamed Fish. To make a reservation, view hours of operation and the restaurant menu, please click here.',\n",
       " 'Cheese Meet Wine': 'Visit Cheese Meet Wine for pairings of charcuterie favorites and delectable wines. Enjoy imported and domestic carved-to-order meats, fresh soft and hard cheeses, sandwiches, soups, and a curated wine list comprised of grapes from around the globe. Try something new or savor the familiar during your next visit, located next to Wynn Sports. To view hours of operation and the restaurant menu, please click\\xa0here.\\xa0Walk-ins only.',\n",
       " 'On Deck': 'Classic American sports bar favorites and comfort food come together with panoramic views of the gaming floor. The action down on the tables might end up stealing your attention during the 7th inning stretch.\\xa0To view hours of operation and the restaurant menu, please click here.\\xa0Walk-ins only.',\n",
       " 'Night Shift Brewing Kitchen & Tap': \"Night Shift Brewing Kitchen & Tap features an extensive list of Night Shift Brewing's locally crafted beers. Over the last decade Night Shift Brewing, started by a trio of college friends with a shared passion for homebrewing, gained fame for its high-quality craftsmanship and strong community ties. This popular craft brewer is loved by locals. The beverage menu includes more than 20 beers on tap and a wide selection of canned beers and seltzers, including Night Shift Brewing favorites. This collaborative restaurant and bar conveys natural synergies through every sip and every bite. Made especially for Encore Boston Harbor, don’t miss house beer, Local Luck IPA.\\xa0To view hours of operation and the menu, please click here.\\xa0Walk-ins only.\",\n",
       " 'Mystique': 'Enjoy shareable, Asian-inspired dishes and artful sushi in a seductive atmosphere against the backdrop of Boston’s skyline. Open kitchens add to the energy of the sultry room that grows even more spirited as the evening advances. To make a reservation, view hours of operation and the restaurant menu, please click here.',\n",
       " 'Fratelli': 'Famed restaurateurs Frank DePasquale and Nick Varano bring their Southern Italian specialties to Encore Boston Harbor, via Boston’s North End. Look for all the traditional favorites and save room for a cannoli. To make a reservation, view hours of operation and the restaurant menu, please click here.',\n",
       " \"Frank & Nick's\": 'Frank & Nick’s offers a selection of North End favorites such as\\xa0Rosetta’s meatball sub, eggplant and chicken Parmigiana and house made roast beef paninis, in addition to brick oven pizzas, salads and a variety of coffees and desserts. For more information, please click here.\\xa0Walk-ins only.',\n",
       " 'Shake Shack': 'Shake Shack is a modern day “roadside” burger stand known for its delicious 100% Angus beef burgers, crispy white-meat chicken, frozen custard, shakes, crinkle-cut fries, craft beer and wine, plus way more—with no hormones or antibiotics, ever. For more information, please click here.\\xa0Walk-ins only.',\n",
       " \"Dunkin'\": 'Open 24 hours daily, the New England staple roastery Dunkin’ has their flagship location on the gaming floor at Encore Boston Harbor. Find the dark roasted coffee specialties and snacks for which Dunkin’ is loved. For more information, please click here.',\n",
       " 'WynnBET Sportsbook': 'The sportsbook features more than 70 televisions, including a 10-foot high and 123-foot-long video wall, a collection of trophies, an installation of classical inspired sports accessories and a collage of historical images of local sports heroes and events, a full-service bar and cuisine from Shake Shack and Frank & Nick’s, the second concept by Frank DePasquale and Nick Varano within the resort. For hours of operation, please click here.',\n",
       " 'Center Bar': 'Enjoy a beverage at the most popular place on the casino floor, now open. Perfect for video poker, meeting friends or\\xa0sipping a cocktail, Center Bar is right in the middle of all the action. For hours of operation, please click here.',\n",
       " 'Rare Lounge': 'Located next door to Rare, Forbes Travel Guide’s highest-rated Boston steakhouse, Rare Lounge offers seamless transitions between pre-dinner drinks, tantalizing bites and after-dinner nightcaps. The lounge features classic and new interpretations of popular cocktails, approachable menu items and a fresh, locally sourced raw bar. To view hours of operation and the menu please click here.',\n",
       " 'Mémoire': 'The acclaimed operators of The Grand at Boston’s Seaport offer an unparalleled nightlife fantasy experience with top-tier DJ talent and a sophisticated environment. To view hours of operation and upcoming shows, please click here.',\n",
       " 'Mystique Lounge': 'Enjoy the ultimate nightlife experience in Mystique’s luxurious 94-seat lounge featuring unparalleled bottle service and music from top area DJs. To make reservations, view hours of operation and the drink menu, please click here.'}"
      ]
     },
     "execution_count": 24,
     "metadata": {},
     "output_type": "execute_result"
    }
   ],
   "source": [
    "dict2"
   ]
  },
  {
   "cell_type": "markdown",
   "id": "aaf0914b",
   "metadata": {},
   "source": [
    "# Restaurants by Cuisine Type"
   ]
  },
  {
   "cell_type": "code",
   "execution_count": 27,
   "id": "7eaefd10",
   "metadata": {},
   "outputs": [],
   "source": [
    "webpage = requests.get('https://www.encorebostonharbor.com/hotel-information/restaurants-by-cuisine-type').text\n",
    "soup = BeautifulSoup(webpage,'lxml')"
   ]
  },
  {
   "cell_type": "code",
   "execution_count": 28,
   "id": "49749e4c",
   "metadata": {},
   "outputs": [
    {
     "data": {
      "text/plain": [
       "['American',\n",
       " 'Asian',\n",
       " 'Bar',\n",
       " 'Breakfast',\n",
       " 'Brunch',\n",
       " 'Burger',\n",
       " 'Casual Dining',\n",
       " 'Chinese',\n",
       " 'Coffee',\n",
       " 'Dessert',\n",
       " 'Dinner',\n",
       " 'Fine Dining',\n",
       " 'Italian',\n",
       " 'Japanese',\n",
       " 'Late Night',\n",
       " 'Lunch',\n",
       " 'Noodles',\n",
       " 'Outdoor Dining',\n",
       " 'Private Dining',\n",
       " 'Quick Bite',\n",
       " 'Seafood',\n",
       " 'Steak',\n",
       " 'Sweets',\n",
       " 'Tea',\n",
       " 'Thai',\n",
       " 'Vegan and Vegetarian Options']"
      ]
     },
     "execution_count": 28,
     "metadata": {},
     "output_type": "execute_result"
    }
   ],
   "source": [
    "subject3 = []\n",
    "\n",
    "for i in soup.find_all('div',class_='questions-title'):\n",
    "    subject3.append(i.find('span', class_='question-title-clickable').text.strip())\n",
    "    \n",
    "subject3"
   ]
  },
  {
   "cell_type": "code",
   "execution_count": 30,
   "id": "f876adc2",
   "metadata": {},
   "outputs": [
    {
     "data": {
      "text/plain": [
       "[\"Rare Steakhouse, Night Shift Brewing Kitchen & Tap, On Deck, Dunkin', Shake Shack, WynnBET Sportsbook, Rare Lounge\",\n",
       " 'Red 8, Mystique',\n",
       " 'On Deck, Night Shift Brewing Kitchen & Tap, Center Bar, Mémoire, Mystique Lounge, WynnBET Sportsbook, Rare Lounge',\n",
       " \"Dunkin', In-Room Dining\",\n",
       " 'On Deck, In-Room Dining',\n",
       " 'Shake Shack, On Deck',\n",
       " \"Red 8, Fratelli, On Deck, Cheese Meet Wine, Night Shift Brewing Kitchen & Tap, Shake Shack, Frank & Nick's,\\xa0WynnBET Sportsbook, Dunkin'\",\n",
       " 'Red 8',\n",
       " \"Dunkin', Frank & Nick's, In-Room Dining\",\n",
       " \"Rare Steakhouse, Rare Lounge, On Deck, Red 8, Night Shift Brewing Kitchen & Tap, Dunkin', Frank & Nick's\",\n",
       " 'Rare Steakhouse, Red 8, On Deck, Fratelli, Mystique, Cheese Meet Wine, Night Shift Brewing Kitchen & Tap, Shake Shack, Frank & Nicks',\n",
       " 'Rare Steakhouse, Mystique',\n",
       " \"Fratelli, Frank & Nick's\",\n",
       " 'Mystique',\n",
       " \"Red 8, Fratelli, Mystique, Night Shift Brewing Kitchen & Tap, Dunkin', Shake Shack, Frank & Nick's\",\n",
       " \"On Deck, Red 8, Shake Shack, Frank & Nick's\",\n",
       " 'Red 8, Mystique',\n",
       " 'Rare Steakhouse, Mystique',\n",
       " 'Rare Steakhouse, Red 8, Fratelli, Mystique. Semi-private: On Deck, Night Shift Brewing Kitchen & Tap',\n",
       " \"Dunkin', Shake Shack, Frank & Nick's, WynnBET Sportsbook\",\n",
       " \"Rare Steakhouse, Rare Lounge, Red 8, Fratelli, Mystique, Frank & Nick's\",\n",
       " 'Rare Steakhouse, Rare Lounge, Fratelli, Night Shift Brewing Kitchen & Tap, Mystique',\n",
       " \"Rare Steakhouse, Rare Lounge, On Deck, Red 8, Night Shift Brewing Kitchen & Tap, Dunkin', Frank & Nick's\",\n",
       " \"Red 8, Dunkin'\",\n",
       " 'Red 8',\n",
       " 'Red 8, Rare Steakhouse, On Deck, Mystique, Fratelli, Night Shift Brewing Kitchen & Tap']"
      ]
     },
     "execution_count": 30,
     "metadata": {},
     "output_type": "execute_result"
    }
   ],
   "source": [
    "answers3 = []\n",
    "for i in soup.find_all('p'):\n",
    "    answers3.append(i.text.strip())\n",
    "\n",
    "answers3 = [i for i in answers3 if i != ''][:-1]\n",
    "answers3"
   ]
  },
  {
   "cell_type": "code",
   "execution_count": 32,
   "id": "2afe2b15",
   "metadata": {},
   "outputs": [
    {
     "name": "stdout",
     "output_type": "stream",
     "text": [
      "26\n",
      "26\n"
     ]
    }
   ],
   "source": [
    "print(len(subject3))\n",
    "print(len(answers3))\n"
   ]
  },
  {
   "cell_type": "code",
   "execution_count": 33,
   "id": "28460f0b",
   "metadata": {},
   "outputs": [],
   "source": [
    "dict3 = dict(zip(subject3 , answers3))"
   ]
  },
  {
   "cell_type": "code",
   "execution_count": 34,
   "id": "927425c0",
   "metadata": {},
   "outputs": [
    {
     "data": {
      "text/plain": [
       "{'American': \"Rare Steakhouse, Night Shift Brewing Kitchen & Tap, On Deck, Dunkin', Shake Shack, WynnBET Sportsbook, Rare Lounge\",\n",
       " 'Asian': 'Red 8, Mystique',\n",
       " 'Bar': 'On Deck, Night Shift Brewing Kitchen & Tap, Center Bar, Mémoire, Mystique Lounge, WynnBET Sportsbook, Rare Lounge',\n",
       " 'Breakfast': \"Dunkin', In-Room Dining\",\n",
       " 'Brunch': 'On Deck, In-Room Dining',\n",
       " 'Burger': 'Shake Shack, On Deck',\n",
       " 'Casual Dining': \"Red 8, Fratelli, On Deck, Cheese Meet Wine, Night Shift Brewing Kitchen & Tap, Shake Shack, Frank & Nick's,\\xa0WynnBET Sportsbook, Dunkin'\",\n",
       " 'Chinese': 'Red 8',\n",
       " 'Coffee': \"Dunkin', Frank & Nick's, In-Room Dining\",\n",
       " 'Dessert': \"Rare Steakhouse, Rare Lounge, On Deck, Red 8, Night Shift Brewing Kitchen & Tap, Dunkin', Frank & Nick's\",\n",
       " 'Dinner': 'Rare Steakhouse, Red 8, On Deck, Fratelli, Mystique, Cheese Meet Wine, Night Shift Brewing Kitchen & Tap, Shake Shack, Frank & Nicks',\n",
       " 'Fine Dining': 'Rare Steakhouse, Mystique',\n",
       " 'Italian': \"Fratelli, Frank & Nick's\",\n",
       " 'Japanese': 'Mystique',\n",
       " 'Late Night': \"Red 8, Fratelli, Mystique, Night Shift Brewing Kitchen & Tap, Dunkin', Shake Shack, Frank & Nick's\",\n",
       " 'Lunch': \"On Deck, Red 8, Shake Shack, Frank & Nick's\",\n",
       " 'Noodles': 'Red 8, Mystique',\n",
       " 'Outdoor Dining': 'Rare Steakhouse, Mystique',\n",
       " 'Private Dining': 'Rare Steakhouse, Red 8, Fratelli, Mystique. Semi-private: On Deck, Night Shift Brewing Kitchen & Tap',\n",
       " 'Quick Bite': \"Dunkin', Shake Shack, Frank & Nick's, WynnBET Sportsbook\",\n",
       " 'Seafood': \"Rare Steakhouse, Rare Lounge, Red 8, Fratelli, Mystique, Frank & Nick's\",\n",
       " 'Steak': 'Rare Steakhouse, Rare Lounge, Fratelli, Night Shift Brewing Kitchen & Tap, Mystique',\n",
       " 'Sweets': \"Rare Steakhouse, Rare Lounge, On Deck, Red 8, Night Shift Brewing Kitchen & Tap, Dunkin', Frank & Nick's\",\n",
       " 'Tea': \"Red 8, Dunkin'\",\n",
       " 'Thai': 'Red 8',\n",
       " 'Vegan and Vegetarian Options': 'Red 8, Rare Steakhouse, On Deck, Mystique, Fratelli, Night Shift Brewing Kitchen & Tap'}"
      ]
     },
     "execution_count": 34,
     "metadata": {},
     "output_type": "execute_result"
    }
   ],
   "source": [
    "dict3"
   ]
  },
  {
   "cell_type": "markdown",
   "id": "9f5b7bf6",
   "metadata": {},
   "source": [
    "# Casino"
   ]
  },
  {
   "cell_type": "code",
   "execution_count": 35,
   "id": "dcb30120",
   "metadata": {},
   "outputs": [],
   "source": [
    "webpage = requests.get('https://www.encorebostonharbor.com/hotel-information/casino').text\n",
    "soup = BeautifulSoup(webpage,'lxml')"
   ]
  },
  {
   "cell_type": "code",
   "execution_count": 36,
   "id": "9c086a8c",
   "metadata": {},
   "outputs": [
    {
     "data": {
      "text/plain": [
       "['When is the casino open?',\n",
       " 'Does Encore Boston Harbor offer Cashier Services?',\n",
       " 'How can I establish a line of credit with Encore Boston Harbor?',\n",
       " 'What current gaming promotions are available?',\n",
       " 'How do I Earn Free Slot Play?',\n",
       " 'How do I Use Free Slot Play?',\n",
       " 'What do I do if I Misplaced my Wynn Rewards Card?',\n",
       " 'Does Encore Boston Harbor have a Poker Room?',\n",
       " 'Does Encore have Slot Machines?',\n",
       " 'What kind of Table Games does Encore offer?',\n",
       " 'What benefits do Wynn Rewards member receive?',\n",
       " 'How do I sign up for Wynn Rewards?',\n",
       " 'What age do I have to be to gamble or be on the casino floor?']"
      ]
     },
     "execution_count": 36,
     "metadata": {},
     "output_type": "execute_result"
    }
   ],
   "source": [
    "subject4 = []\n",
    "\n",
    "for i in soup.find_all('div',class_='questions-title'):\n",
    "    subject4.append(i.find('span', class_='question-title-clickable').text.strip())\n",
    "    \n",
    "subject4"
   ]
  },
  {
   "cell_type": "code",
   "execution_count": 37,
   "id": "ce87b38d",
   "metadata": {},
   "outputs": [
    {
     "data": {
      "text/plain": [
       "['The casino at Encore Boston Harbor is open 24 hours daily.',\n",
       " 'For check cashing, as long as proper ID is provided, guests may cash out up to the limit that our check cashing system, the Everi, approved. Our system will monitor automatically if the amount hits certain threshold required by Compliance. For more information, call +1 (857) 770-4573.',\n",
       " 'Our Casino Credit Department is available to assist you in establishing an account for gaming activity. The Credit department is open\\xa0daily 8 a.m.–1 a.m.\\xa0For more information, please call +1 (857) 770-4580.',\n",
       " 'For information on our current casino promotions, visit the Wynn Rewards desks on the casino floor or call +1 (857) 770-7007.',\n",
       " 'For every 500 points earned using your Wynn Rewards card at Encore Boston Harbor, you will receive $5 in free slot play. Minimum redemption amount for free slot play is $5 or 500 points. Slot points will expire after six months of inactivity. You have 30 days to redeem your free slot play once your points are converted.',\n",
       " 'Use your free slot play in select reel and video poker games - simply enter your PIN to activate your free slot play. Visit any Wynn Rewards desks on the casino floor to set up your confidential four-digit PIN, which will allow you to access your account.',\n",
       " 'If you have misplaced your Wynn Rewards card, simply visit the Wynn Rewards desk located on the casino floor to obtain a new one. Must be 21 or older with a valid government-issued identification.',\n",
       " \"Encore Boston Harbor's Poker Room, located in The Loft, is open 24 hours daily.\",\n",
       " 'Encore offers guests a wide variety of\\xa0slot machines to play. Guests may begin playing slots for as little as a penny or as much as $1,000 per game. Our slot machines offer guests the ability to choose denominations and game themes. Our machines accept cash and Ticket In Ticket Out vouchers, they do not take or pay out coins.',\n",
       " 'We have live table games including traditional and contemporary games, such as baccarat, blackjack, pai gow poker, pai gow tiles, Ultimate Texas Hold’em, three card poker, Crazy 4, and War. We offer both Dynasty and a variety of Electronic Table Game units featuring Roulette, Baccarat, Big Six, and Craps. We offer a High Limit area and Salon gaming offering baccarat, high-limit blackjack, craps, and European roulette. To begin playing any of our table games, simply approach a game and ask the dealer about the rules. Dealers will be happy to assist you and explain the rules of the game.',\n",
       " 'Wynn Rewards member benefits include complimentary rooms, food and more. Please visit the Wynn Rewards desk located on the casino floor or visit https://www.encorebostonharbor.com/wynn-rewards.',\n",
       " 'Unlock exclusive benefits at Encore with the Wynn Rewards card. It is your gaming card, and your ticket to exclusive access throughout Encore. To join our Wynn Rewards program, please visit the Wynn Rewards desk located on the casino floor or sign up online.',\n",
       " 'You must be 21 or older to gamble or to be on the casino floor at Encore Boston Harbor. Valid identification is required.']"
      ]
     },
     "execution_count": 37,
     "metadata": {},
     "output_type": "execute_result"
    }
   ],
   "source": [
    "answers4 = []\n",
    "for i in soup.find_all('p'):\n",
    "    answers4.append(i.text.strip())\n",
    "\n",
    "answers4 = [i for i in answers4 if i != ''][:-1]\n",
    "answers4"
   ]
  },
  {
   "cell_type": "code",
   "execution_count": 39,
   "id": "a43a221d",
   "metadata": {},
   "outputs": [
    {
     "name": "stdout",
     "output_type": "stream",
     "text": [
      "13\n",
      "13\n"
     ]
    }
   ],
   "source": [
    "print(len(subject4))\n",
    "print(len(answers4))"
   ]
  },
  {
   "cell_type": "code",
   "execution_count": 40,
   "id": "e5b4ba72",
   "metadata": {},
   "outputs": [],
   "source": [
    "dict4 = dict(zip(subject4 , answers4))"
   ]
  },
  {
   "cell_type": "code",
   "execution_count": 41,
   "id": "50bc8462",
   "metadata": {},
   "outputs": [
    {
     "data": {
      "text/plain": [
       "{'When is the casino open?': 'The casino at Encore Boston Harbor is open 24 hours daily.',\n",
       " 'Does Encore Boston Harbor offer Cashier Services?': 'For check cashing, as long as proper ID is provided, guests may cash out up to the limit that our check cashing system, the Everi, approved. Our system will monitor automatically if the amount hits certain threshold required by Compliance. For more information, call +1 (857) 770-4573.',\n",
       " 'How can I establish a line of credit with Encore Boston Harbor?': 'Our Casino Credit Department is available to assist you in establishing an account for gaming activity. The Credit department is open\\xa0daily 8 a.m.–1 a.m.\\xa0For more information, please call +1 (857) 770-4580.',\n",
       " 'What current gaming promotions are available?': 'For information on our current casino promotions, visit the Wynn Rewards desks on the casino floor or call +1 (857) 770-7007.',\n",
       " 'How do I Earn Free Slot Play?': 'For every 500 points earned using your Wynn Rewards card at Encore Boston Harbor, you will receive $5 in free slot play. Minimum redemption amount for free slot play is $5 or 500 points. Slot points will expire after six months of inactivity. You have 30 days to redeem your free slot play once your points are converted.',\n",
       " 'How do I Use Free Slot Play?': 'Use your free slot play in select reel and video poker games - simply enter your PIN to activate your free slot play. Visit any Wynn Rewards desks on the casino floor to set up your confidential four-digit PIN, which will allow you to access your account.',\n",
       " 'What do I do if I Misplaced my Wynn Rewards Card?': 'If you have misplaced your Wynn Rewards card, simply visit the Wynn Rewards desk located on the casino floor to obtain a new one. Must be 21 or older with a valid government-issued identification.',\n",
       " 'Does Encore Boston Harbor have a Poker Room?': \"Encore Boston Harbor's Poker Room, located in The Loft, is open 24 hours daily.\",\n",
       " 'Does Encore have Slot Machines?': 'Encore offers guests a wide variety of\\xa0slot machines to play. Guests may begin playing slots for as little as a penny or as much as $1,000 per game. Our slot machines offer guests the ability to choose denominations and game themes. Our machines accept cash and Ticket In Ticket Out vouchers, they do not take or pay out coins.',\n",
       " 'What kind of Table Games does Encore offer?': 'We have live table games including traditional and contemporary games, such as baccarat, blackjack, pai gow poker, pai gow tiles, Ultimate Texas Hold’em, three card poker, Crazy 4, and War. We offer both Dynasty and a variety of Electronic Table Game units featuring Roulette, Baccarat, Big Six, and Craps. We offer a High Limit area and Salon gaming offering baccarat, high-limit blackjack, craps, and European roulette. To begin playing any of our table games, simply approach a game and ask the dealer about the rules. Dealers will be happy to assist you and explain the rules of the game.',\n",
       " 'What benefits do Wynn Rewards member receive?': 'Wynn Rewards member benefits include complimentary rooms, food and more. Please visit the Wynn Rewards desk located on the casino floor or visit https://www.encorebostonharbor.com/wynn-rewards.',\n",
       " 'How do I sign up for Wynn Rewards?': 'Unlock exclusive benefits at Encore with the Wynn Rewards card. It is your gaming card, and your ticket to exclusive access throughout Encore. To join our Wynn Rewards program, please visit the Wynn Rewards desk located on the casino floor or sign up online.',\n",
       " 'What age do I have to be to gamble or be on the casino floor?': 'You must be 21 or older to gamble or to be on the casino floor at Encore Boston Harbor. Valid identification is required.'}"
      ]
     },
     "execution_count": 41,
     "metadata": {},
     "output_type": "execute_result"
    }
   ],
   "source": [
    "dict4"
   ]
  },
  {
   "cell_type": "markdown",
   "id": "80940809",
   "metadata": {},
   "source": [
    "# Retail"
   ]
  },
  {
   "cell_type": "code",
   "execution_count": 42,
   "id": "75091e1a",
   "metadata": {},
   "outputs": [],
   "source": [
    "webpage = requests.get('https://www.encorebostonharbor.com/hotel-information/retail').text\n",
    "soup = BeautifulSoup(webpage,'lxml')"
   ]
  },
  {
   "cell_type": "code",
   "execution_count": 43,
   "id": "39cf04c9",
   "metadata": {},
   "outputs": [
    {
     "data": {
      "text/plain": [
       "['The Drugstore',\n",
       " 'Wynn Collection',\n",
       " 'Wynn Sports',\n",
       " 'Retail at the Spa and The Salon',\n",
       " 'Watches of Switzerland',\n",
       " 'Wynn at Home']"
      ]
     },
     "execution_count": 43,
     "metadata": {},
     "output_type": "execute_result"
    }
   ],
   "source": [
    "subject5 = []\n",
    "\n",
    "for i in soup.find_all('div',class_='questions-title'):\n",
    "    subject5.append(i.find('span', class_='question-title-clickable').text.strip())\n",
    "    \n",
    "subject5"
   ]
  },
  {
   "cell_type": "code",
   "execution_count": 48,
   "id": "2aae951e",
   "metadata": {},
   "outputs": [
    {
     "data": {
      "text/plain": [
       "['A selection of convenient items and sundries, plus unusual and signature gift items, stocks The Drugstore. Open 24 hours daily. For more information, please call\\xa0+1 (857) 770-3755.',\n",
       " \"A specially curated boutique for Boston, Wynn Collection carries women's lines from an A-list of global designers. The best of Wynn Men’s is now available in Wynn Collection.\\xa0Open Sunday through Thursday from 12–7 p.m. and Friday and Saturday from 12–9 p.m.\\xa0For more information, please call\\xa0+1 (857) 770-3740.\",\n",
       " 'Wynn Sports carries a collection of specially curated sportswear featuring Boston’s favorite teams, Encore branded apparel and souvenirs. Open Sunday through Thursday from 12–7 p.m. and Friday and Saturday from 12–9 p.m.\\xa0For more information, please call\\xa0+1 (857) 770-3745.',\n",
       " 'Compiling the ultimate beauty and wellness indulgences for face, body and wellbeing. Visit us on the third floor or view our selection of products here.',\n",
       " 'Founded in 1924, Watches of Switzerland has been offering the world’s finest timepieces for more than 90 years. Explore the latest horological collections for men and women from Hublot, IWC Schaffhausen, Omega and Panerai.\\xa0Open Monday through Thursday 12–7 p.m. and Friday through Sunday 10:30 a.m.–8 p.m. For more information, please call\\xa0+1 (617) 936-5868.',\n",
       " 'Bring home the exquisite luxury of your stay at Encore Boston Harbor. Add a touch of splendor to your home with exclusive bedding and signature products from Wynn and only available online. With the touch of a button, shop our complete collection of bed linens, deluxe sheets, resort towels, and lifestyle goods. Visit WynnAtHome.com.']"
      ]
     },
     "execution_count": 48,
     "metadata": {},
     "output_type": "execute_result"
    }
   ],
   "source": [
    "answers5 = []\n",
    "for i in soup.find_all('p'):\n",
    "    answers5.append(i.text.strip())\n",
    "\n",
    "answers5 = [i for i in answers5 if i != ''][0:6]\n",
    "answers5"
   ]
  },
  {
   "cell_type": "code",
   "execution_count": 49,
   "id": "400e44c1",
   "metadata": {},
   "outputs": [],
   "source": [
    "dict5 = dict(zip(subject5 , answers5))"
   ]
  },
  {
   "cell_type": "code",
   "execution_count": 50,
   "id": "e5e4de70",
   "metadata": {},
   "outputs": [
    {
     "data": {
      "text/plain": [
       "{'The Drugstore': 'A selection of convenient items and sundries, plus unusual and signature gift items, stocks The Drugstore. Open 24 hours daily. For more information, please call\\xa0+1 (857) 770-3755.',\n",
       " 'Wynn Collection': \"A specially curated boutique for Boston, Wynn Collection carries women's lines from an A-list of global designers. The best of Wynn Men’s is now available in Wynn Collection.\\xa0Open Sunday through Thursday from 12–7 p.m. and Friday and Saturday from 12–9 p.m.\\xa0For more information, please call\\xa0+1 (857) 770-3740.\",\n",
       " 'Wynn Sports': 'Wynn Sports carries a collection of specially curated sportswear featuring Boston’s favorite teams, Encore branded apparel and souvenirs. Open Sunday through Thursday from 12–7 p.m. and Friday and Saturday from 12–9 p.m.\\xa0For more information, please call\\xa0+1 (857) 770-3745.',\n",
       " 'Retail at the Spa and The Salon': 'Compiling the ultimate beauty and wellness indulgences for face, body and wellbeing. Visit us on the third floor or view our selection of products here.',\n",
       " 'Watches of Switzerland': 'Founded in 1924, Watches of Switzerland has been offering the world’s finest timepieces for more than 90 years. Explore the latest horological collections for men and women from Hublot, IWC Schaffhausen, Omega and Panerai.\\xa0Open Monday through Thursday 12–7 p.m. and Friday through Sunday 10:30 a.m.–8 p.m. For more information, please call\\xa0+1 (617) 936-5868.',\n",
       " 'Wynn at Home': 'Bring home the exquisite luxury of your stay at Encore Boston Harbor. Add a touch of splendor to your home with exclusive bedding and signature products from Wynn and only available online. With the touch of a button, shop our complete collection of bed linens, deluxe sheets, resort towels, and lifestyle goods. Visit WynnAtHome.com.'}"
      ]
     },
     "execution_count": 50,
     "metadata": {},
     "output_type": "execute_result"
    }
   ],
   "source": [
    "dict5"
   ]
  },
  {
   "cell_type": "markdown",
   "id": "1019921e",
   "metadata": {},
   "source": [
    "# Transportation"
   ]
  },
  {
   "cell_type": "code",
   "execution_count": 56,
   "id": "9689295f",
   "metadata": {},
   "outputs": [],
   "source": [
    "webpage = requests.get('https://www.encorebostonharbor.com/hotel-information/transportation').text\n",
    "soup = BeautifulSoup(webpage,'lxml')"
   ]
  },
  {
   "cell_type": "code",
   "execution_count": 57,
   "id": "21923b97",
   "metadata": {},
   "outputs": [
    {
     "data": {
      "text/plain": [
       "['Premium Harbor Shuttle',\n",
       " 'Dock Reservation',\n",
       " 'Neighborhood Runners',\n",
       " 'Local Guest Shuttle',\n",
       " 'Self-Park Garage',\n",
       " 'Rideshare',\n",
       " 'Rivergreen Parking Facility',\n",
       " 'Bicycle Parking']"
      ]
     },
     "execution_count": 57,
     "metadata": {},
     "output_type": "execute_result"
    }
   ],
   "source": [
    "subject6 = []\n",
    "\n",
    "for i in soup.find_all('div',class_='questions-title'):\n",
    "    subject6.append(i.find('span', class_='question-title-clickable').text.strip())\n",
    "    \n",
    "subject6"
   ]
  },
  {
   "cell_type": "code",
   "execution_count": 62,
   "id": "d58aec6f",
   "metadata": {},
   "outputs": [
    {
     "data": {
      "text/plain": [
       "[\"The Premium Harbor Shuttles offers scenic views of Boston Harbor aboard Encore's four luxury motor yachts. The Premium Harbor Shuttle to and from Encore Boston Harbor route serves the Long Wharf. For more information about the Premium Harbor Shuttle schedule, please click here.\",\n",
       " 'Water taxis and charter vessels wishing to operate at Encore Boston Harbor should contact Encore Boston Harbor’s Dockmaster at transportation@encorebostonharbor.com for more information. To learn more, click here.',\n",
       " 'Neighborhood Runners are bus routes serving Chelsea, Everett, Chinatown and Quincy in Boston. Luxurious motor coaches and mini coaches take guests directly to Encore. For more information, please visit our transportation page\\xa0or contact us at +1 (857) 770-4370.',\n",
       " \"Encore's complimentary Local Guest Shuttles take guests to and from the resort from Wellington Station on the Orange Line. All buses are wheelchair accessible. For more information, please visit our\\xa0transportation page.\",\n",
       " 'The self-park garage is located on our main driveway. Self-parking is complimentary for all visitors. The maximum vehicle height in the garage is 6\\'-10\". On level B2, parking is available for ADA vans. Please call\\xa0+1 (857) 770-4370\\xa0for assistance.',\n",
       " 'If you plan on taking rideshare to Encore Boston Harbor, we now have two separate rideshare pick-up and drop-off locations–one for the casino and another for the hotel front drive. Click\\xa0here\\xa0for more information.',\n",
       " 'The Rivergreen parking facility is open 24 hours daily. It is located at One Rivergreen Drive in Everett. Parking is complimentary and limited to 100 spaces. A guest shuttle, also complimentary, operates daily 8 a.m.–10 p.m. For more information, please click here\\xa0or contact us at\\xa0+1 (857) 770-4370.',\n",
       " 'Complimentary bicycle parking is available 24 hours daily at Encore in the garage. The bicycle parking area is located just left of the self-park garage entrance lane as you approach from the main driveway.']"
      ]
     },
     "execution_count": 62,
     "metadata": {},
     "output_type": "execute_result"
    }
   ],
   "source": [
    "answers6 = []\n",
    "for i in soup.find_all('p'):\n",
    "    answers6.append(i.text.strip())\n",
    "\n",
    "answers6 = [i for i in answers6 if i != ''][0:8]\n",
    "answers6"
   ]
  },
  {
   "cell_type": "code",
   "execution_count": 63,
   "id": "ffcdc041",
   "metadata": {},
   "outputs": [
    {
     "name": "stdout",
     "output_type": "stream",
     "text": [
      "8\n",
      "8\n"
     ]
    }
   ],
   "source": [
    "print(len(subject6))\n",
    "print(len(answers6))"
   ]
  },
  {
   "cell_type": "code",
   "execution_count": 64,
   "id": "1b66ba6e",
   "metadata": {},
   "outputs": [],
   "source": [
    "dict6 = dict(zip(subject6 , answers6))"
   ]
  },
  {
   "cell_type": "code",
   "execution_count": 65,
   "id": "75a17711",
   "metadata": {},
   "outputs": [
    {
     "data": {
      "text/plain": [
       "{'Premium Harbor Shuttle': \"The Premium Harbor Shuttles offers scenic views of Boston Harbor aboard Encore's four luxury motor yachts. The Premium Harbor Shuttle to and from Encore Boston Harbor route serves the Long Wharf. For more information about the Premium Harbor Shuttle schedule, please click here.\",\n",
       " 'Dock Reservation': 'Water taxis and charter vessels wishing to operate at Encore Boston Harbor should contact Encore Boston Harbor’s Dockmaster at transportation@encorebostonharbor.com for more information. To learn more, click here.',\n",
       " 'Neighborhood Runners': 'Neighborhood Runners are bus routes serving Chelsea, Everett, Chinatown and Quincy in Boston. Luxurious motor coaches and mini coaches take guests directly to Encore. For more information, please visit our transportation page\\xa0or contact us at +1 (857) 770-4370.',\n",
       " 'Local Guest Shuttle': \"Encore's complimentary Local Guest Shuttles take guests to and from the resort from Wellington Station on the Orange Line. All buses are wheelchair accessible. For more information, please visit our\\xa0transportation page.\",\n",
       " 'Self-Park Garage': 'The self-park garage is located on our main driveway. Self-parking is complimentary for all visitors. The maximum vehicle height in the garage is 6\\'-10\". On level B2, parking is available for ADA vans. Please call\\xa0+1 (857) 770-4370\\xa0for assistance.',\n",
       " 'Rideshare': 'If you plan on taking rideshare to Encore Boston Harbor, we now have two separate rideshare pick-up and drop-off locations–one for the casino and another for the hotel front drive. Click\\xa0here\\xa0for more information.',\n",
       " 'Rivergreen Parking Facility': 'The Rivergreen parking facility is open 24 hours daily. It is located at One Rivergreen Drive in Everett. Parking is complimentary and limited to 100 spaces. A guest shuttle, also complimentary, operates daily 8 a.m.–10 p.m. For more information, please click here\\xa0or contact us at\\xa0+1 (857) 770-4370.',\n",
       " 'Bicycle Parking': 'Complimentary bicycle parking is available 24 hours daily at Encore in the garage. The bicycle parking area is located just left of the self-park garage entrance lane as you approach from the main driveway.'}"
      ]
     },
     "execution_count": 65,
     "metadata": {},
     "output_type": "execute_result"
    }
   ],
   "source": [
    "dict6"
   ]
  },
  {
   "cell_type": "code",
   "execution_count": 66,
   "id": "0dc76a2b",
   "metadata": {},
   "outputs": [],
   "source": [
    "merged_dict = {**dict1, **dict2, **dict3, **dict4, **dict5, **dict6}"
   ]
  },
  {
   "cell_type": "code",
   "execution_count": 67,
   "id": "cc79088b",
   "metadata": {},
   "outputs": [
    {
     "data": {
      "text/plain": [
       "{'Alexa': 'As one of the amenities you may wish to enjoy during your stay at Encore, your guestroom comes equipped with Alexa, your voice-controlled personal assistant. You may ask Alexa any questions you may have about Encore and to adjust your room settings such as temperature, lights and drape controls.',\n",
       " 'Bell Desk': 'Our bell staff can assist with luggage transportation, wheelchair and scooter rentals. Please call +1 (857) 770-4300 for Bell Services.',\n",
       " 'Business Center': 'The Business Center is open daily 8 a.m.–12 a.m. Services we offer include internet access, printing, copying, package shipping and mail receiving and equipment rentals. There are fees associated with services and are subject to change. Click here for pricing and contact information.',\n",
       " 'Check out': 'Checkout time is at 11 a.m. You may check out via your in-room iPad, by calling the Front Desk at +1 (857) 770-4000, or by simply dropping your guestroom keys in the Express Checkout box located in Resort Registration.',\n",
       " 'Concierge': 'The Concierge team at Encore Boston Harbor is available to assist before and during your stay to create a memorable experience. From transportation options, choice tables at our restaurants, sporting and event tickets and recommendations on sightseeing tours, our world class Concierge team is ready to take care of every detail. Concierge service is available Sunday through Wednesday from 11 a.m.–6 p.m. and Thursday through Saturday from 10 a.m.–9 p.m. To contact the concierge, please call +1 (857) 770-7070\\xa0or e-mail conciergeservices@encorebostonharbor.com. We will respond to requests within 24 hours.',\n",
       " 'Fitness Center': 'The Fitness Center is located on the Spa level on the third floor which you can get to by pressing the spa button in the elevator. Private personal sessions are available by request and appointment. Please call us if you have any questions +1 (857) 770-3900. Click here for current hours of operation.',\n",
       " 'Guest Feedback': 'We would love to hear from you. To submit feedback e-mail guest.comments@encorebostonharbor.com or fill out a comment card located at the Main Registration desk.',\n",
       " 'Housekeeping Services': 'Please call Encore Housekeeping at +1 (857) 770-4400 to request to have your room cleaned or for requests such as extra towels, pillows, blankets, soaps, lotions, etc.',\n",
       " 'Lost and Found': 'Lost and Found is open daily from 8 a.m.–12 a.m. and may be reached at +1 (857) 770-4330. To report a lost item, click here.',\n",
       " 'Maintenance Services': 'For maintenance issues, please press the guest services button on your room phone.',\n",
       " 'Room Bill': 'You can view your bill on your in-room iPad or have a copy printed for you at the Front Desk. For more information, please call the Front Desk at +1 (857) 770-4000.',\n",
       " 'Smoking': 'There is a $500 deep cleaning fee charged for smoking in a designated non-smoking room. Smoking areas can be found outdoors. Cannabis products are prohibited in guest rooms and throughout the resort.',\n",
       " 'Telephone Charges': 'Local and domestic long distance calls are\\xa0free as well as toll-free\\xa0calls (800, 833, 844, 855, 866, 877 and 888 prefixes): Direct-Dialed Long-Distance and International Calls: All calls will be charged AT&T operator-assisted daytime rates.',\n",
       " 'WiFi': 'WiFi\\xa0is\\xa0free up to 7 MB per minute. Higher speed upgrade is available for\\xa0$9.99\\xa0per device, per day. To log on, please provide your last name and room number.',\n",
       " 'Dress Code - Casual Dining': 'Open-toed shoes, sleeveless shirts, mid-riffs and baseball caps permitted. Swim wear and sheer, transparent clothing are not permitted.',\n",
       " 'Dress Code - Fine Dining': 'Dressy attire preferred: Open-toed shoes and tank tops for men are not permitted.\\xa0 Baseball caps, sweatpants, swim wear, sheer, transparent clothing and bare mid-riffs are not permitted for all.',\n",
       " 'Restaurant Menus': 'To view our restaurant menus, visit encorebostonharbor.com/dining-and-nightlife.',\n",
       " 'Restaurant Reservations': 'Reservations are accepted and recommended at Rare Steakhouse, Red 8, Mystique and Fratelli. Reservations can be made anytime\\xa0online. You will receive a confirmation text or e-mail once your reservation is confirmed.',\n",
       " 'Vegetarian and Vegan Food': 'Encore Boston Harbor offers vegan and vegetarian selections that are designed and prepared with the same care and attention as any of the signature items served. These deliciously satisfying dishes have been prepared with wholesome, plant-based food prepared in ways that enhance the flavor of each component.',\n",
       " 'Rare Steakhouse': 'In this elegant dining room with stunning views overlooking the Harborwalk and Mystic River, the steakhouse experience is redefined with creative classics and exceptional cuts. Rare features the most uniquely curated steak program in New England, including exclusive Japanese cuts from Kobe and the Kagoshima prefecture, as well as the best of domestic beef from Snake River Farms, Idaho and our partners at La Frieda Meats. To make a reservation, view hours of operation and the restaurant menu, please click\\xa0here.',\n",
       " 'Red 8': 'Red 8’s diverse menu masterfully blends the flavors of China with Western technique to create singularly delicious cuisine. Along with Cantonese and dim sum classics, you’ll find flavors of Shanghai and Sichuan as well as our decadent Peking-style Duck or Ginger-Scallion Steamed Fish. To make a reservation, view hours of operation and the restaurant menu, please click here.',\n",
       " 'Cheese Meet Wine': 'Visit Cheese Meet Wine for pairings of charcuterie favorites and delectable wines. Enjoy imported and domestic carved-to-order meats, fresh soft and hard cheeses, sandwiches, soups, and a curated wine list comprised of grapes from around the globe. Try something new or savor the familiar during your next visit, located next to Wynn Sports. To view hours of operation and the restaurant menu, please click\\xa0here.\\xa0Walk-ins only.',\n",
       " 'On Deck': 'Classic American sports bar favorites and comfort food come together with panoramic views of the gaming floor. The action down on the tables might end up stealing your attention during the 7th inning stretch.\\xa0To view hours of operation and the restaurant menu, please click here.\\xa0Walk-ins only.',\n",
       " 'Night Shift Brewing Kitchen & Tap': \"Night Shift Brewing Kitchen & Tap features an extensive list of Night Shift Brewing's locally crafted beers. Over the last decade Night Shift Brewing, started by a trio of college friends with a shared passion for homebrewing, gained fame for its high-quality craftsmanship and strong community ties. This popular craft brewer is loved by locals. The beverage menu includes more than 20 beers on tap and a wide selection of canned beers and seltzers, including Night Shift Brewing favorites. This collaborative restaurant and bar conveys natural synergies through every sip and every bite. Made especially for Encore Boston Harbor, don’t miss house beer, Local Luck IPA.\\xa0To view hours of operation and the menu, please click here.\\xa0Walk-ins only.\",\n",
       " 'Mystique': 'Enjoy shareable, Asian-inspired dishes and artful sushi in a seductive atmosphere against the backdrop of Boston’s skyline. Open kitchens add to the energy of the sultry room that grows even more spirited as the evening advances. To make a reservation, view hours of operation and the restaurant menu, please click here.',\n",
       " 'Fratelli': 'Famed restaurateurs Frank DePasquale and Nick Varano bring their Southern Italian specialties to Encore Boston Harbor, via Boston’s North End. Look for all the traditional favorites and save room for a cannoli. To make a reservation, view hours of operation and the restaurant menu, please click here.',\n",
       " \"Frank & Nick's\": 'Frank & Nick’s offers a selection of North End favorites such as\\xa0Rosetta’s meatball sub, eggplant and chicken Parmigiana and house made roast beef paninis, in addition to brick oven pizzas, salads and a variety of coffees and desserts. For more information, please click here.\\xa0Walk-ins only.',\n",
       " 'Shake Shack': 'Shake Shack is a modern day “roadside” burger stand known for its delicious 100% Angus beef burgers, crispy white-meat chicken, frozen custard, shakes, crinkle-cut fries, craft beer and wine, plus way more—with no hormones or antibiotics, ever. For more information, please click here.\\xa0Walk-ins only.',\n",
       " \"Dunkin'\": 'Open 24 hours daily, the New England staple roastery Dunkin’ has their flagship location on the gaming floor at Encore Boston Harbor. Find the dark roasted coffee specialties and snacks for which Dunkin’ is loved. For more information, please click here.',\n",
       " 'WynnBET Sportsbook': 'The sportsbook features more than 70 televisions, including a 10-foot high and 123-foot-long video wall, a collection of trophies, an installation of classical inspired sports accessories and a collage of historical images of local sports heroes and events, a full-service bar and cuisine from Shake Shack and Frank & Nick’s, the second concept by Frank DePasquale and Nick Varano within the resort. For hours of operation, please click here.',\n",
       " 'Center Bar': 'Enjoy a beverage at the most popular place on the casino floor, now open. Perfect for video poker, meeting friends or\\xa0sipping a cocktail, Center Bar is right in the middle of all the action. For hours of operation, please click here.',\n",
       " 'Rare Lounge': 'Located next door to Rare, Forbes Travel Guide’s highest-rated Boston steakhouse, Rare Lounge offers seamless transitions between pre-dinner drinks, tantalizing bites and after-dinner nightcaps. The lounge features classic and new interpretations of popular cocktails, approachable menu items and a fresh, locally sourced raw bar. To view hours of operation and the menu please click here.',\n",
       " 'Mémoire': 'The acclaimed operators of The Grand at Boston’s Seaport offer an unparalleled nightlife fantasy experience with top-tier DJ talent and a sophisticated environment. To view hours of operation and upcoming shows, please click here.',\n",
       " 'Mystique Lounge': 'Enjoy the ultimate nightlife experience in Mystique’s luxurious 94-seat lounge featuring unparalleled bottle service and music from top area DJs. To make reservations, view hours of operation and the drink menu, please click here.',\n",
       " 'American': \"Rare Steakhouse, Night Shift Brewing Kitchen & Tap, On Deck, Dunkin', Shake Shack, WynnBET Sportsbook, Rare Lounge\",\n",
       " 'Asian': 'Red 8, Mystique',\n",
       " 'Bar': 'On Deck, Night Shift Brewing Kitchen & Tap, Center Bar, Mémoire, Mystique Lounge, WynnBET Sportsbook, Rare Lounge',\n",
       " 'Breakfast': \"Dunkin', In-Room Dining\",\n",
       " 'Brunch': 'On Deck, In-Room Dining',\n",
       " 'Burger': 'Shake Shack, On Deck',\n",
       " 'Casual Dining': \"Red 8, Fratelli, On Deck, Cheese Meet Wine, Night Shift Brewing Kitchen & Tap, Shake Shack, Frank & Nick's,\\xa0WynnBET Sportsbook, Dunkin'\",\n",
       " 'Chinese': 'Red 8',\n",
       " 'Coffee': \"Dunkin', Frank & Nick's, In-Room Dining\",\n",
       " 'Dessert': \"Rare Steakhouse, Rare Lounge, On Deck, Red 8, Night Shift Brewing Kitchen & Tap, Dunkin', Frank & Nick's\",\n",
       " 'Dinner': 'Rare Steakhouse, Red 8, On Deck, Fratelli, Mystique, Cheese Meet Wine, Night Shift Brewing Kitchen & Tap, Shake Shack, Frank & Nicks',\n",
       " 'Fine Dining': 'Rare Steakhouse, Mystique',\n",
       " 'Italian': \"Fratelli, Frank & Nick's\",\n",
       " 'Japanese': 'Mystique',\n",
       " 'Late Night': \"Red 8, Fratelli, Mystique, Night Shift Brewing Kitchen & Tap, Dunkin', Shake Shack, Frank & Nick's\",\n",
       " 'Lunch': \"On Deck, Red 8, Shake Shack, Frank & Nick's\",\n",
       " 'Noodles': 'Red 8, Mystique',\n",
       " 'Outdoor Dining': 'Rare Steakhouse, Mystique',\n",
       " 'Private Dining': 'Rare Steakhouse, Red 8, Fratelli, Mystique. Semi-private: On Deck, Night Shift Brewing Kitchen & Tap',\n",
       " 'Quick Bite': \"Dunkin', Shake Shack, Frank & Nick's, WynnBET Sportsbook\",\n",
       " 'Seafood': \"Rare Steakhouse, Rare Lounge, Red 8, Fratelli, Mystique, Frank & Nick's\",\n",
       " 'Steak': 'Rare Steakhouse, Rare Lounge, Fratelli, Night Shift Brewing Kitchen & Tap, Mystique',\n",
       " 'Sweets': \"Rare Steakhouse, Rare Lounge, On Deck, Red 8, Night Shift Brewing Kitchen & Tap, Dunkin', Frank & Nick's\",\n",
       " 'Tea': \"Red 8, Dunkin'\",\n",
       " 'Thai': 'Red 8',\n",
       " 'Vegan and Vegetarian Options': 'Red 8, Rare Steakhouse, On Deck, Mystique, Fratelli, Night Shift Brewing Kitchen & Tap',\n",
       " 'When is the casino open?': 'The casino at Encore Boston Harbor is open 24 hours daily.',\n",
       " 'Does Encore Boston Harbor offer Cashier Services?': 'For check cashing, as long as proper ID is provided, guests may cash out up to the limit that our check cashing system, the Everi, approved. Our system will monitor automatically if the amount hits certain threshold required by Compliance. For more information, call +1 (857) 770-4573.',\n",
       " 'How can I establish a line of credit with Encore Boston Harbor?': 'Our Casino Credit Department is available to assist you in establishing an account for gaming activity. The Credit department is open\\xa0daily 8 a.m.–1 a.m.\\xa0For more information, please call +1 (857) 770-4580.',\n",
       " 'What current gaming promotions are available?': 'For information on our current casino promotions, visit the Wynn Rewards desks on the casino floor or call +1 (857) 770-7007.',\n",
       " 'How do I Earn Free Slot Play?': 'For every 500 points earned using your Wynn Rewards card at Encore Boston Harbor, you will receive $5 in free slot play. Minimum redemption amount for free slot play is $5 or 500 points. Slot points will expire after six months of inactivity. You have 30 days to redeem your free slot play once your points are converted.',\n",
       " 'How do I Use Free Slot Play?': 'Use your free slot play in select reel and video poker games - simply enter your PIN to activate your free slot play. Visit any Wynn Rewards desks on the casino floor to set up your confidential four-digit PIN, which will allow you to access your account.',\n",
       " 'What do I do if I Misplaced my Wynn Rewards Card?': 'If you have misplaced your Wynn Rewards card, simply visit the Wynn Rewards desk located on the casino floor to obtain a new one. Must be 21 or older with a valid government-issued identification.',\n",
       " 'Does Encore Boston Harbor have a Poker Room?': \"Encore Boston Harbor's Poker Room, located in The Loft, is open 24 hours daily.\",\n",
       " 'Does Encore have Slot Machines?': 'Encore offers guests a wide variety of\\xa0slot machines to play. Guests may begin playing slots for as little as a penny or as much as $1,000 per game. Our slot machines offer guests the ability to choose denominations and game themes. Our machines accept cash and Ticket In Ticket Out vouchers, they do not take or pay out coins.',\n",
       " 'What kind of Table Games does Encore offer?': 'We have live table games including traditional and contemporary games, such as baccarat, blackjack, pai gow poker, pai gow tiles, Ultimate Texas Hold’em, three card poker, Crazy 4, and War. We offer both Dynasty and a variety of Electronic Table Game units featuring Roulette, Baccarat, Big Six, and Craps. We offer a High Limit area and Salon gaming offering baccarat, high-limit blackjack, craps, and European roulette. To begin playing any of our table games, simply approach a game and ask the dealer about the rules. Dealers will be happy to assist you and explain the rules of the game.',\n",
       " 'What benefits do Wynn Rewards member receive?': 'Wynn Rewards member benefits include complimentary rooms, food and more. Please visit the Wynn Rewards desk located on the casino floor or visit https://www.encorebostonharbor.com/wynn-rewards.',\n",
       " 'How do I sign up for Wynn Rewards?': 'Unlock exclusive benefits at Encore with the Wynn Rewards card. It is your gaming card, and your ticket to exclusive access throughout Encore. To join our Wynn Rewards program, please visit the Wynn Rewards desk located on the casino floor or sign up online.',\n",
       " 'What age do I have to be to gamble or be on the casino floor?': 'You must be 21 or older to gamble or to be on the casino floor at Encore Boston Harbor. Valid identification is required.',\n",
       " 'The Drugstore': 'A selection of convenient items and sundries, plus unusual and signature gift items, stocks The Drugstore. Open 24 hours daily. For more information, please call\\xa0+1 (857) 770-3755.',\n",
       " 'Wynn Collection': \"A specially curated boutique for Boston, Wynn Collection carries women's lines from an A-list of global designers. The best of Wynn Men’s is now available in Wynn Collection.\\xa0Open Sunday through Thursday from 12–7 p.m. and Friday and Saturday from 12–9 p.m.\\xa0For more information, please call\\xa0+1 (857) 770-3740.\",\n",
       " 'Wynn Sports': 'Wynn Sports carries a collection of specially curated sportswear featuring Boston’s favorite teams, Encore branded apparel and souvenirs. Open Sunday through Thursday from 12–7 p.m. and Friday and Saturday from 12–9 p.m.\\xa0For more information, please call\\xa0+1 (857) 770-3745.',\n",
       " 'Retail at the Spa and The Salon': 'Compiling the ultimate beauty and wellness indulgences for face, body and wellbeing. Visit us on the third floor or view our selection of products here.',\n",
       " 'Watches of Switzerland': 'Founded in 1924, Watches of Switzerland has been offering the world’s finest timepieces for more than 90 years. Explore the latest horological collections for men and women from Hublot, IWC Schaffhausen, Omega and Panerai.\\xa0Open Monday through Thursday 12–7 p.m. and Friday through Sunday 10:30 a.m.–8 p.m. For more information, please call\\xa0+1 (617) 936-5868.',\n",
       " 'Wynn at Home': 'Bring home the exquisite luxury of your stay at Encore Boston Harbor. Add a touch of splendor to your home with exclusive bedding and signature products from Wynn and only available online. With the touch of a button, shop our complete collection of bed linens, deluxe sheets, resort towels, and lifestyle goods. Visit WynnAtHome.com.',\n",
       " 'Premium Harbor Shuttle': \"The Premium Harbor Shuttles offers scenic views of Boston Harbor aboard Encore's four luxury motor yachts. The Premium Harbor Shuttle to and from Encore Boston Harbor route serves the Long Wharf. For more information about the Premium Harbor Shuttle schedule, please click here.\",\n",
       " 'Dock Reservation': 'Water taxis and charter vessels wishing to operate at Encore Boston Harbor should contact Encore Boston Harbor’s Dockmaster at transportation@encorebostonharbor.com for more information. To learn more, click here.',\n",
       " 'Neighborhood Runners': 'Neighborhood Runners are bus routes serving Chelsea, Everett, Chinatown and Quincy in Boston. Luxurious motor coaches and mini coaches take guests directly to Encore. For more information, please visit our transportation page\\xa0or contact us at +1 (857) 770-4370.',\n",
       " 'Local Guest Shuttle': \"Encore's complimentary Local Guest Shuttles take guests to and from the resort from Wellington Station on the Orange Line. All buses are wheelchair accessible. For more information, please visit our\\xa0transportation page.\",\n",
       " 'Self-Park Garage': 'The self-park garage is located on our main driveway. Self-parking is complimentary for all visitors. The maximum vehicle height in the garage is 6\\'-10\". On level B2, parking is available for ADA vans. Please call\\xa0+1 (857) 770-4370\\xa0for assistance.',\n",
       " 'Rideshare': 'If you plan on taking rideshare to Encore Boston Harbor, we now have two separate rideshare pick-up and drop-off locations–one for the casino and another for the hotel front drive. Click\\xa0here\\xa0for more information.',\n",
       " 'Rivergreen Parking Facility': 'The Rivergreen parking facility is open 24 hours daily. It is located at One Rivergreen Drive in Everett. Parking is complimentary and limited to 100 spaces. A guest shuttle, also complimentary, operates daily 8 a.m.–10 p.m. For more information, please click here\\xa0or contact us at\\xa0+1 (857) 770-4370.',\n",
       " 'Bicycle Parking': 'Complimentary bicycle parking is available 24 hours daily at Encore in the garage. The bicycle parking area is located just left of the self-park garage entrance lane as you approach from the main driveway.'}"
      ]
     },
     "execution_count": 67,
     "metadata": {},
     "output_type": "execute_result"
    }
   ],
   "source": [
    "merged_dict"
   ]
  },
  {
   "cell_type": "code",
   "execution_count": 69,
   "id": "e98f8156",
   "metadata": {},
   "outputs": [
    {
     "data": {
      "text/html": [
       "<div>\n",
       "<style scoped>\n",
       "    .dataframe tbody tr th:only-of-type {\n",
       "        vertical-align: middle;\n",
       "    }\n",
       "\n",
       "    .dataframe tbody tr th {\n",
       "        vertical-align: top;\n",
       "    }\n",
       "\n",
       "    .dataframe thead th {\n",
       "        text-align: right;\n",
       "    }\n",
       "</style>\n",
       "<table border=\"1\" class=\"dataframe\">\n",
       "  <thead>\n",
       "    <tr style=\"text-align: right;\">\n",
       "      <th></th>\n",
       "      <th>Question/Information</th>\n",
       "      <th>Answer</th>\n",
       "    </tr>\n",
       "  </thead>\n",
       "  <tbody>\n",
       "    <tr>\n",
       "      <th>0</th>\n",
       "      <td>Alexa</td>\n",
       "      <td>As one of the amenities you may wish to enjoy ...</td>\n",
       "    </tr>\n",
       "    <tr>\n",
       "      <th>1</th>\n",
       "      <td>Bell Desk</td>\n",
       "      <td>Our bell staff can assist with luggage transpo...</td>\n",
       "    </tr>\n",
       "    <tr>\n",
       "      <th>2</th>\n",
       "      <td>Business Center</td>\n",
       "      <td>The Business Center is open daily 8 a.m.–12 a....</td>\n",
       "    </tr>\n",
       "    <tr>\n",
       "      <th>3</th>\n",
       "      <td>Check out</td>\n",
       "      <td>Checkout time is at 11 a.m. You may check out ...</td>\n",
       "    </tr>\n",
       "    <tr>\n",
       "      <th>4</th>\n",
       "      <td>Concierge</td>\n",
       "      <td>The Concierge team at Encore Boston Harbor is ...</td>\n",
       "    </tr>\n",
       "    <tr>\n",
       "      <th>...</th>\n",
       "      <td>...</td>\n",
       "      <td>...</td>\n",
       "    </tr>\n",
       "    <tr>\n",
       "      <th>82</th>\n",
       "      <td>Local Guest Shuttle</td>\n",
       "      <td>Encore's complimentary Local Guest Shuttles ta...</td>\n",
       "    </tr>\n",
       "    <tr>\n",
       "      <th>83</th>\n",
       "      <td>Self-Park Garage</td>\n",
       "      <td>The self-park garage is located on our main dr...</td>\n",
       "    </tr>\n",
       "    <tr>\n",
       "      <th>84</th>\n",
       "      <td>Rideshare</td>\n",
       "      <td>If you plan on taking rideshare to Encore Bost...</td>\n",
       "    </tr>\n",
       "    <tr>\n",
       "      <th>85</th>\n",
       "      <td>Rivergreen Parking Facility</td>\n",
       "      <td>The Rivergreen parking facility is open 24 hou...</td>\n",
       "    </tr>\n",
       "    <tr>\n",
       "      <th>86</th>\n",
       "      <td>Bicycle Parking</td>\n",
       "      <td>Complimentary bicycle parking is available 24 ...</td>\n",
       "    </tr>\n",
       "  </tbody>\n",
       "</table>\n",
       "<p>87 rows × 2 columns</p>\n",
       "</div>"
      ],
      "text/plain": [
       "           Question/Information  \\\n",
       "0                         Alexa   \n",
       "1                     Bell Desk   \n",
       "2               Business Center   \n",
       "3                     Check out   \n",
       "4                     Concierge   \n",
       "..                          ...   \n",
       "82          Local Guest Shuttle   \n",
       "83             Self-Park Garage   \n",
       "84                    Rideshare   \n",
       "85  Rivergreen Parking Facility   \n",
       "86              Bicycle Parking   \n",
       "\n",
       "                                               Answer  \n",
       "0   As one of the amenities you may wish to enjoy ...  \n",
       "1   Our bell staff can assist with luggage transpo...  \n",
       "2   The Business Center is open daily 8 a.m.–12 a....  \n",
       "3   Checkout time is at 11 a.m. You may check out ...  \n",
       "4   The Concierge team at Encore Boston Harbor is ...  \n",
       "..                                                ...  \n",
       "82  Encore's complimentary Local Guest Shuttles ta...  \n",
       "83  The self-park garage is located on our main dr...  \n",
       "84  If you plan on taking rideshare to Encore Bost...  \n",
       "85  The Rivergreen parking facility is open 24 hou...  \n",
       "86  Complimentary bicycle parking is available 24 ...  \n",
       "\n",
       "[87 rows x 2 columns]"
      ]
     },
     "execution_count": 69,
     "metadata": {},
     "output_type": "execute_result"
    }
   ],
   "source": [
    "HOTEL_INFORMATION_AND_DIRECTORY_FAQ_df = pd.DataFrame(list(merged_dict.items()), columns=['Question/Information', 'Answer'])\n",
    "HOTEL_INFORMATION_AND_DIRECTORY_FAQ_df"
   ]
  },
  {
   "cell_type": "code",
   "execution_count": 70,
   "id": "d6c2d837",
   "metadata": {},
   "outputs": [
    {
     "name": "stdout",
     "output_type": "stream",
     "text": [
      "           Question/Information  \\\n",
      "0                         Alexa   \n",
      "1                     Bell Desk   \n",
      "2               Business Center   \n",
      "3                     Check out   \n",
      "4                     Concierge   \n",
      "..                          ...   \n",
      "82          Local Guest Shuttle   \n",
      "83             Self-Park Garage   \n",
      "84                    Rideshare   \n",
      "85  Rivergreen Parking Facility   \n",
      "86              Bicycle Parking   \n",
      "\n",
      "                                               Answer  \n",
      "0   As one of the amenities you may wish to enjoy ...  \n",
      "1   Our bell staff can assist with luggage transpo...  \n",
      "2   The Business Center is open daily 8 a.m.–12 a....  \n",
      "3   Checkout time is at 11 a.m. You may check out ...  \n",
      "4   The Concierge team at Encore Boston Harbor is ...  \n",
      "..                                                ...  \n",
      "82  Encore's complimentary Local Guest Shuttles ta...  \n",
      "83  The self-park garage is located on our main dr...  \n",
      "84  If you plan on taking rideshare to Encore Bost...  \n",
      "85  The Rivergreen parking facility is open 24 hou...  \n",
      "86  Complimentary bicycle parking is available 24 ...  \n",
      "\n",
      "[87 rows x 2 columns]\n"
     ]
    }
   ],
   "source": [
    "print(HOTEL_INFORMATION_AND_DIRECTORY_FAQ_df)"
   ]
  },
  {
   "cell_type": "code",
   "execution_count": null,
   "id": "f5a4f396",
   "metadata": {},
   "outputs": [],
   "source": []
  }
 ],
 "metadata": {
  "kernelspec": {
   "display_name": "Python 3 (ipykernel)",
   "language": "python",
   "name": "python3"
  },
  "language_info": {
   "codemirror_mode": {
    "name": "ipython",
    "version": 3
   },
   "file_extension": ".py",
   "mimetype": "text/x-python",
   "name": "python",
   "nbconvert_exporter": "python",
   "pygments_lexer": "ipython3",
   "version": "3.11.4"
  }
 },
 "nbformat": 4,
 "nbformat_minor": 5
}
