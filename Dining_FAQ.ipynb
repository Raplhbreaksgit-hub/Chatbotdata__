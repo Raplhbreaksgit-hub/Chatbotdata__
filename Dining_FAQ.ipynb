{
 "cells": [
  {
   "cell_type": "code",
   "execution_count": 1,
   "id": "bd15cf26",
   "metadata": {},
   "outputs": [],
   "source": [
    "import pandas as pd\n",
    "import requests\n",
    "from bs4 import BeautifulSoup"
   ]
  },
  {
   "cell_type": "code",
   "execution_count": 2,
   "id": "2fefc3b4",
   "metadata": {},
   "outputs": [],
   "source": [
    "webpage = requests.get('https://www.encorebostonharbor.com/dining-and-nightlife/dining/rare-steakhouse').text\n",
    "soup = BeautifulSoup(webpage,'lxml')"
   ]
  },
  {
   "cell_type": "code",
   "execution_count": 9,
   "id": "f36d5a1a",
   "metadata": {
    "scrolled": true
   },
   "outputs": [
    {
     "data": {
      "text/plain": [
       "['Is Rare Steakhouse all about steak?',\n",
       " 'What are the other signature ‘don’t miss’ dishes at Rare Steakhouse?',\n",
       " 'Should I save room for dessert?',\n",
       " 'What about cocktails at Rare Steakhouse?',\n",
       " 'What is the dress code at Rare Steakhouse?']"
      ]
     },
     "execution_count": 9,
     "metadata": {},
     "output_type": "execute_result"
    }
   ],
   "source": [
    "questions_RS = []\n",
    "\n",
    "for i in soup.find_all('div',class_='questions-title'):\n",
    "    questions_RS.append(i.find('span', class_='question-title-clickable').text.strip())\n",
    "\n",
    "questions_RS"
   ]
  },
  {
   "cell_type": "code",
   "execution_count": 10,
   "id": "cc4f8515",
   "metadata": {},
   "outputs": [
    {
     "data": {
      "text/plain": [
       "['Rare Steakhouse is a captivating spot for both sea and land lovers. Fresh, local chilled shellfish, luxurious caviar, and day boat fish are served as starters or as the main course. Organic pan-roasted chicken and rack of lamb.',\n",
       " \"Ideal for sharing, the seafood spectacular is a celebration of Maine lobster, New England oysters, little neck clams, colossal shrimp, Alaskan king crab and seasonal crudo. Other popular appetizers include ‘Steakhouse Wedge’ baby iceberg, black pepper bacon, cherry tomato, buttermilk blue cheese, crispy shallots and the Jumbo Lump Crab Cake with Persian cucumbers, meyer lemon vinaigrette, spicy remoulade . The ‘ora king salmon’ with maple miso glazed, ginger bok choy, roasted shiitake mushrooms and charred scallions and the 'Seared Scallops' with celery root risotto, caviar beurre blanc are a lighter complement to the last half of the menu.\",\n",
       " 'Without question, even if you need to loosen your belt buckle. Choose the Apple Pecan Cheesecake with caramelized pecans, poached apples, caramel or Citrus Rum Baba with citrus soaked rum baba, exotic fruit compote, whipped white chocolate ganache, or Coffee Whiskey Cigar with Jameson Whiskey Cremieux, dried apricot crunch, vanilla ice cream. The best is truly saved for last.',\n",
       " 'The specialty cocktail list complements the creatively classic fare served at Rare Steakhouse with beverages such as “Secret Cinema,” “Pink Moon” and “Buena Vista.” But surely the most popular drink here is the “Lion’s Share” which is a spicy mix of Casamigo Reposado Tequila, Ancho Reyes Verde, guava nectar, house infused habanero agave and fresh lime.',\n",
       " 'Resort elegant. Dressy attire preferred: Open-toed shoes and tank tops for men are not permitted. Baseball caps, sweatpants, swim wear, sheer, transparent clothing and bare mid-riffs are not permitted for all. Children under 5 are not permitted.']"
      ]
     },
     "execution_count": 10,
     "metadata": {},
     "output_type": "execute_result"
    }
   ],
   "source": [
    "answers_RS = []\n",
    "for i in soup.find_all('p'):\n",
    "    answers_RS.append(i.text.strip())\n",
    "\n",
    "answers_RS = [i for i in answers_RS if i != ''][4:9]\n",
    "answers_RS"
   ]
  },
  {
   "cell_type": "code",
   "execution_count": 11,
   "id": "6e77ebf5",
   "metadata": {},
   "outputs": [
    {
     "data": {
      "text/plain": [
       "(5, 5)"
      ]
     },
     "execution_count": 11,
     "metadata": {},
     "output_type": "execute_result"
    }
   ],
   "source": [
    "len(questions_RS), len(answers_RS)"
   ]
  },
  {
   "cell_type": "code",
   "execution_count": 12,
   "id": "19446e8f",
   "metadata": {},
   "outputs": [],
   "source": [
    "webpage = requests.get('https://www.encorebostonharbor.com/dining-and-nightlife/dining/on-deck').text\n",
    "soup = BeautifulSoup(webpage,'lxml')"
   ]
  },
  {
   "cell_type": "code",
   "execution_count": 13,
   "id": "67fec853",
   "metadata": {},
   "outputs": [
    {
     "data": {
      "text/plain": [
       "['What is On Deck best known for?',\n",
       " 'What are the other signature ‘don’t miss’ dishes at On Deck?',\n",
       " 'What is the ambience like at On Deck?',\n",
       " 'What is the beer selection like at On Deck?']"
      ]
     },
     "execution_count": 13,
     "metadata": {},
     "output_type": "execute_result"
    }
   ],
   "source": [
    "questions_OD = []\n",
    "\n",
    "for i in soup.find_all('div',class_='questions-title'):\n",
    "    questions_OD.append(i.find('span', class_='question-title-clickable').text.strip())\n",
    "\n",
    "questions_OD"
   ]
  },
  {
   "cell_type": "code",
   "execution_count": 18,
   "id": "4bc7214a",
   "metadata": {},
   "outputs": [
    {
     "data": {
      "text/plain": [
       "['On Deck features a mouthwatering menu highlighted with gourmet burgers and classic American home style favorites. Items such as The Patriot Burger or Beef Sliders are crafted with Linz Heritage Angus beef, while BBQ Chicken Chopped Salad, Fish and Chips, Pastrami Reuben and more round out the selection. Plus, a variety of craft beers, specialty cocktails and desserts all served under 33 75-inch televisions, makes On Deck one of the best places in Boston to watch a game.',\n",
       " 'The Lobster Roll with lightly dressed Maine lobster meat, lettuce, lemon aioli, toasted brioche roll and the Salmon Teriyaki Bowl with Jasmine rice, edamame, radish, carrots, cucumber, avocado, sesame, and teriyaki. The Waffle Bowl Sundae is the cherry on top of a delicious meal at On Deck.',\n",
       " 'The comfortable atmosphere highlighted by mahogany wood and plaid carpeting features 33 75-inch TVs ensuring prime viewing of every inning, quarter or match from every seat. On Deck also offers a unique “living room” experience complete with a fireplace, and dedicated television that are available for gameday parties. Perched on the mezzanine balcony, On Deck also provides a birds-eye view of the excitement on the gaming floor below.',\n",
       " 'With 24 brews on tap and over a dozen canned beers, finding the perfect pairing to a meal is a sure thing at On Deck. The carefully chosen line-up has an option for all beer lovers, from the tried-and-true lagers and ales to local craft beers.']"
      ]
     },
     "execution_count": 18,
     "metadata": {},
     "output_type": "execute_result"
    }
   ],
   "source": [
    "answers_OD = []\n",
    "for i in soup.find_all('p'):\n",
    "    answers_OD.append(i.text.strip())\n",
    "\n",
    "answers_OD = [i for i in answers_OD if i != ''][2:6]\n",
    "answers_OD"
   ]
  },
  {
   "cell_type": "code",
   "execution_count": 19,
   "id": "e10e9dba",
   "metadata": {},
   "outputs": [
    {
     "data": {
      "text/plain": [
       "(4, 4)"
      ]
     },
     "execution_count": 19,
     "metadata": {},
     "output_type": "execute_result"
    }
   ],
   "source": [
    "len(questions_OD), len(answers_OD)"
   ]
  },
  {
   "cell_type": "code",
   "execution_count": 20,
   "id": "7d0ebd6c",
   "metadata": {},
   "outputs": [],
   "source": [
    "webpage = requests.get('https://www.encorebostonharbor.com/dining-and-nightlife/dining/mystique').text\n",
    "soup = BeautifulSoup(webpage,'lxml')"
   ]
  },
  {
   "cell_type": "code",
   "execution_count": 21,
   "id": "b34a507f",
   "metadata": {},
   "outputs": [
    {
     "data": {
      "text/plain": [
       "['Does Mystique accept COMPDOLLARS?',\n",
       " 'Is Mystique kid friendly?',\n",
       " 'Do you need a reservation?',\n",
       " 'Who/What is Big Night?']"
      ]
     },
     "execution_count": 21,
     "metadata": {},
     "output_type": "execute_result"
    }
   ],
   "source": [
    "questions_Mys = []\n",
    "\n",
    "for i in soup.find_all('div',class_='questions-title'):\n",
    "    questions_Mys.append(i.find('span', class_='question-title-clickable').text.strip())\n",
    "\n",
    "questions_Mys"
   ]
  },
  {
   "cell_type": "code",
   "execution_count": 26,
   "id": "e211165b",
   "metadata": {},
   "outputs": [
    {
     "data": {
      "text/plain": [
       "['Mystique does accept COMPDOLLARS, but a discount is not offered for Platinum and Black Tier Wynn Rewards members.',\n",
       " 'Children under 5 are not permitted. Mystique is 21 or older starting at 8 p.m.',\n",
       " 'Reservations are not required but highly recommended.',\n",
       " 'Mystique is operated by Big Night Entertainment Group. Big Night is a hospitality company that was founded in 2006 by visionary nightclub and hospitality owners Ed Kane, Joe Kane, and Randy Greenstein. Big Night Entertainment Group transforms hospitality and nightlife with destinations that transcend the status quo, including: Big Night Live, The Grand, Mystique, Mémoire, Empire, Guy Fieri’s Tequila Cocina, Red Lantern, Scorpion Bar, and VERSUS in Boston. Big Night Entertainment Group also owns and operates CBS Sporting Club and Scorpion Bar at Patriot Place in Foxboro, and Guy Fieri’s Kitchen & Bar, High Rollers, Red Lantern, Scorpion Bar, and Shrine in Connecticut. Visit bignight.com for more information or follow @BigNight on social for updates.']"
      ]
     },
     "execution_count": 26,
     "metadata": {},
     "output_type": "execute_result"
    }
   ],
   "source": [
    "answers_Mys = []\n",
    "for i in soup.find_all('p'):\n",
    "    answers_Mys.append(i.text.strip())\n",
    "\n",
    "answers_Mys = [i for i in answers_Mys if i != ''][1:5]\n",
    "answers_Mys"
   ]
  },
  {
   "cell_type": "code",
   "execution_count": 27,
   "id": "d1b95d66",
   "metadata": {},
   "outputs": [
    {
     "data": {
      "text/plain": [
       "(4, 4)"
      ]
     },
     "execution_count": 27,
     "metadata": {},
     "output_type": "execute_result"
    }
   ],
   "source": [
    "len(questions_Mys), len(answers_Mys)"
   ]
  },
  {
   "cell_type": "code",
   "execution_count": 28,
   "id": "733fa939",
   "metadata": {},
   "outputs": [],
   "source": [
    "webpage = requests.get('https://www.encorebostonharbor.com/dining-and-nightlife/dining/fratelli').text\n",
    "soup = BeautifulSoup(webpage,'lxml')"
   ]
  },
  {
   "cell_type": "code",
   "execution_count": 29,
   "id": "d19879dd",
   "metadata": {},
   "outputs": [
    {
     "data": {
      "text/plain": [
       "['What is Fratelli best known for?',\n",
       " 'What options does Fratelli have other than pasta?',\n",
       " 'What are other signature ‘don’t miss’ dishes at Fratelli?',\n",
       " 'What about cocktails at Fratelli?',\n",
       " 'Does Fratelli have a late-night menu?']"
      ]
     },
     "execution_count": 29,
     "metadata": {},
     "output_type": "execute_result"
    }
   ],
   "source": [
    "questions_Fra = []\n",
    "\n",
    "for i in soup.find_all('div',class_='questions-title'):\n",
    "    questions_Fra.append(i.find('span', class_='question-title-clickable').text.strip())\n",
    "\n",
    "questions_Fra"
   ]
  },
  {
   "cell_type": "code",
   "execution_count": 34,
   "id": "6f84cfc6",
   "metadata": {},
   "outputs": [
    {
     "data": {
      "text/plain": [
       "['Two friends met in Boston’s North End as friends and their Italian roots and passion for food brought them together as family. Both acclaimed Italian restaurateurs throughout Boston, they now come together to present Fratelli–a world-class Italian restaurant and unparalleled experience.',\n",
       " 'Fratelli offers a full seafood raw bar including local oysters, Alaskan king crab legs, little neck clams, shrimp cocktail and tuna and salmon crudo. Fratelli also serves pizzas made with the freshest ingredients, “under the brick” chicken, veal and more.',\n",
       " 'The zucchini flowers are stuffed with goat cheese and lemon zest, lightly fried, served with tempura zucchini chips and a roasted garlic aioli. The lobster fra diavolo is made with whole Maine lobster, lobster fumet and colino cherry tomatoes, tossed with homemade linguini pasta. The Nerano, inspired from the Amalfi coast of Italy, is made with zucchini pasta, fresh zucchini, provolone del Monaco and finished with shaved parmigiano. Be sure to save room for the “tableside” tiramisu.',\n",
       " 'The most famous of all is the espresso martini, which was created in the North End of Boston. Fratelli has an extensive list of one-of-a-kind cocktails including “Pear of Brothers” (a twist on a pear martini), “Poker Face” (a version of a mule) and “Ciao Bella” (a play on an Old Fashioned). Also be sure to check out their vault selections on the wine list, consisting of extremely hard-to-find wines from Italy, France and California.',\n",
       " 'Fratelli offers its entire menu until 11:30 p.m. Sunday through Thursday and until 1:30 a.m. on Friday and Saturday. In addition to the dinner menu, Fratelli offers a Neapolitan-style pizza and calzone menu on Friday and Saturday nights from 11:30 p.m.–1:30 a.m.']"
      ]
     },
     "execution_count": 34,
     "metadata": {},
     "output_type": "execute_result"
    }
   ],
   "source": [
    "answers_Fra = []\n",
    "for i in soup.find_all('p'):\n",
    "    answers_Fra.append(i.text.strip())\n",
    "\n",
    "answers_Fra = [i for i in answers_Fra if i != ''][2:7]\n",
    "answers_Fra"
   ]
  },
  {
   "cell_type": "code",
   "execution_count": 35,
   "id": "a1db3f78",
   "metadata": {},
   "outputs": [],
   "source": [
    "webpage = requests.get('https://www.encorebostonharbor.com/dining-and-nightlife/bars-and-lounges/wynnbet-sportsbook').text\n",
    "soup = BeautifulSoup(webpage,'lxml')"
   ]
  },
  {
   "cell_type": "code",
   "execution_count": 36,
   "id": "0da99e66",
   "metadata": {},
   "outputs": [
    {
     "data": {
      "text/plain": [
       "['How can I make a wager?',\n",
       " 'Can I make a wager if the sportsbook is closed?',\n",
       " 'What types of wagers do you take?',\n",
       " 'Where can I cash a ticket?',\n",
       " 'Can I cash a ticket if the sportsbook is closed?',\n",
       " 'I have a sports betting voucher, what do I do with it?',\n",
       " 'What sports can I wager on?',\n",
       " 'Can I bet on college sports?',\n",
       " 'What is the minimum age to wager?',\n",
       " 'How long do I have to cash a winning ticket?',\n",
       " 'Can I change my wager?',\n",
       " 'How do I know if I won my wager?',\n",
       " 'Can I mail my ticket in?',\n",
       " 'Where can I see WynnBET odds?',\n",
       " 'Where can I watch my game?',\n",
       " 'Where can I sign up for a Wynn Rewards account?',\n",
       " 'What forms of payment are accepted to make a wager?',\n",
       " 'Can I wager with chips?']"
      ]
     },
     "execution_count": 36,
     "metadata": {},
     "output_type": "execute_result"
    }
   ],
   "source": [
    "questions_WBS = []\n",
    "\n",
    "for i in soup.find_all('div',class_='questions-title'):\n",
    "    questions_WBS.append(i.find('span', class_='question-title-clickable').text.strip())\n",
    "\n",
    "questions_WBS"
   ]
  },
  {
   "cell_type": "code",
   "execution_count": 40,
   "id": "8ebc308c",
   "metadata": {},
   "outputs": [
    {
     "data": {
      "text/plain": [
       "['We have 10 sports betting windows that will have live tellers in the sportsbook, and over 100 WynnBET Sports Kiosks throughout the casino.',\n",
       " 'Yes, select WynnBET Sports Kiosks are open 24/7.',\n",
       " 'We offer a wide variety of wagering opportunities such as straight bets, parlays, teasers, round robins and more.',\n",
       " 'During the hours of 9 a.m.–12 a.m. Tickets can be redeemed at the sportsbook.',\n",
       " 'Yes, you may redeem a ticket at the Main Cage when the sportsbook is closed.',\n",
       " 'Vouchers may be used at either the sportsbook or a WynnBET Sports Kiosks to place another wager, Vouchers may also be redeemed at the sportsbook or the Main Cage if the sportsbook is closed.',\n",
       " 'Guests can wager on all major sporting events. Guests can see a sportsbook representative, visit a WynnBET Sports Kiosk or download the WynnBET app to view the full menu of available events.',\n",
       " 'Yes, but we do not accept wagers on any collegiate teams from the Commonwealth of Massachusetts, unless the team is involved in a collegiate tournament.',\n",
       " 'Guests must be 21 years of age to enter the casino or place a wager.',\n",
       " 'Tickets are void one year after the date of the event.',\n",
       " 'All kiosk wagers are final. Wagers made at the sportsbook will be up to managements discretion before the event is locked out, after that time no changes can be made to a ticket.',\n",
       " 'Guests can scan a ticket at one of the WynnBET Sports Kiosks or bring it to a cashier at the sportsbook to check it.',\n",
       " 'At this time, we do not accept mail in tickets.',\n",
       " 'Odds will be posted in the sportsbook and at the kiosks. Guests can also download the WynnBET app to view odds.',\n",
       " 'Guests can watch the game at WynnBET Sportsbook and throughout the casino. Select dining venues will also play specific games.',\n",
       " 'Wynn Rewards kiosks are located throughout the casino, guests can also visit one of the three Wynn Rewards locations in the casino to sign up during available hours.',\n",
       " 'Wagers can be placed by cash only. ATMs are located at the Casino West.',\n",
       " 'We do not accept wagers with chips. The chips would need to be redeemed at the Main Cage for cash.']"
      ]
     },
     "execution_count": 40,
     "metadata": {},
     "output_type": "execute_result"
    }
   ],
   "source": [
    "answers_WBS = []\n",
    "for i in soup.find_all('p'):\n",
    "    answers_WBS.append(i.text.strip())\n",
    "\n",
    "answers_WBS = [i for i in answers_WBS if i != ''][1:-1]\n",
    "answers_WBS"
   ]
  },
  {
   "cell_type": "code",
   "execution_count": 41,
   "id": "4593f6ed",
   "metadata": {},
   "outputs": [
    {
     "data": {
      "text/plain": [
       "(18, 18)"
      ]
     },
     "execution_count": 41,
     "metadata": {},
     "output_type": "execute_result"
    }
   ],
   "source": [
    "len(questions_WBS), len(answers_WBS)"
   ]
  },
  {
   "cell_type": "code",
   "execution_count": 42,
   "id": "413ce334",
   "metadata": {},
   "outputs": [],
   "source": [
    "questions_dining = []\n",
    "for i in questions_RS:\n",
    "    questions_dining.append(i)\n",
    "for i in questions_OD:\n",
    "    questions_dining.append(i)\n",
    "for i in questions_Mys:\n",
    "    questions_dining.append(i)\n",
    "for i in questions_Fra:\n",
    "    questions_dining.append(i) \n",
    "for i in questions_WBS:\n",
    "    questions_dining.append(i)     "
   ]
  },
  {
   "cell_type": "code",
   "execution_count": 43,
   "id": "b5822114",
   "metadata": {},
   "outputs": [
    {
     "data": {
      "text/plain": [
       "['Is Rare Steakhouse all about steak?',\n",
       " 'What are the other signature ‘don’t miss’ dishes at Rare Steakhouse?',\n",
       " 'Should I save room for dessert?',\n",
       " 'What about cocktails at Rare Steakhouse?',\n",
       " 'What is the dress code at Rare Steakhouse?',\n",
       " 'What is On Deck best known for?',\n",
       " 'What are the other signature ‘don’t miss’ dishes at On Deck?',\n",
       " 'What is the ambience like at On Deck?',\n",
       " 'What is the beer selection like at On Deck?',\n",
       " 'Does Mystique accept COMPDOLLARS?',\n",
       " 'Is Mystique kid friendly?',\n",
       " 'Do you need a reservation?',\n",
       " 'Who/What is Big Night?',\n",
       " 'What is Fratelli best known for?',\n",
       " 'What options does Fratelli have other than pasta?',\n",
       " 'What are other signature ‘don’t miss’ dishes at Fratelli?',\n",
       " 'What about cocktails at Fratelli?',\n",
       " 'Does Fratelli have a late-night menu?',\n",
       " 'How can I make a wager?',\n",
       " 'Can I make a wager if the sportsbook is closed?',\n",
       " 'What types of wagers do you take?',\n",
       " 'Where can I cash a ticket?',\n",
       " 'Can I cash a ticket if the sportsbook is closed?',\n",
       " 'I have a sports betting voucher, what do I do with it?',\n",
       " 'What sports can I wager on?',\n",
       " 'Can I bet on college sports?',\n",
       " 'What is the minimum age to wager?',\n",
       " 'How long do I have to cash a winning ticket?',\n",
       " 'Can I change my wager?',\n",
       " 'How do I know if I won my wager?',\n",
       " 'Can I mail my ticket in?',\n",
       " 'Where can I see WynnBET odds?',\n",
       " 'Where can I watch my game?',\n",
       " 'Where can I sign up for a Wynn Rewards account?',\n",
       " 'What forms of payment are accepted to make a wager?',\n",
       " 'Can I wager with chips?']"
      ]
     },
     "execution_count": 43,
     "metadata": {},
     "output_type": "execute_result"
    }
   ],
   "source": [
    "questions_dining"
   ]
  },
  {
   "cell_type": "code",
   "execution_count": 47,
   "id": "62fe896d",
   "metadata": {},
   "outputs": [],
   "source": [
    "answers_dining = []\n",
    "for i in answers_RS:\n",
    "    answers_dining.append(i)\n",
    "for i in answers_OD:\n",
    "    answers_dining.append(i)\n",
    "for i in answers_Mys:\n",
    "    answers_dining.append(i)\n",
    "for i in answers_Fra:\n",
    "    answers_dining.append(i) \n",
    "for i in answers_WBS:\n",
    "    answers_dining.append(i)  "
   ]
  },
  {
   "cell_type": "code",
   "execution_count": 48,
   "id": "91969b2c",
   "metadata": {},
   "outputs": [
    {
     "data": {
      "text/plain": [
       "['Rare Steakhouse is a captivating spot for both sea and land lovers. Fresh, local chilled shellfish, luxurious caviar, and day boat fish are served as starters or as the main course. Organic pan-roasted chicken and rack of lamb.',\n",
       " \"Ideal for sharing, the seafood spectacular is a celebration of Maine lobster, New England oysters, little neck clams, colossal shrimp, Alaskan king crab and seasonal crudo. Other popular appetizers include ‘Steakhouse Wedge’ baby iceberg, black pepper bacon, cherry tomato, buttermilk blue cheese, crispy shallots and the Jumbo Lump Crab Cake with Persian cucumbers, meyer lemon vinaigrette, spicy remoulade . The ‘ora king salmon’ with maple miso glazed, ginger bok choy, roasted shiitake mushrooms and charred scallions and the 'Seared Scallops' with celery root risotto, caviar beurre blanc are a lighter complement to the last half of the menu.\",\n",
       " 'Without question, even if you need to loosen your belt buckle. Choose the Apple Pecan Cheesecake with caramelized pecans, poached apples, caramel or Citrus Rum Baba with citrus soaked rum baba, exotic fruit compote, whipped white chocolate ganache, or Coffee Whiskey Cigar with Jameson Whiskey Cremieux, dried apricot crunch, vanilla ice cream. The best is truly saved for last.',\n",
       " 'The specialty cocktail list complements the creatively classic fare served at Rare Steakhouse with beverages such as “Secret Cinema,” “Pink Moon” and “Buena Vista.” But surely the most popular drink here is the “Lion’s Share” which is a spicy mix of Casamigo Reposado Tequila, Ancho Reyes Verde, guava nectar, house infused habanero agave and fresh lime.',\n",
       " 'Resort elegant. Dressy attire preferred: Open-toed shoes and tank tops for men are not permitted. Baseball caps, sweatpants, swim wear, sheer, transparent clothing and bare mid-riffs are not permitted for all. Children under 5 are not permitted.',\n",
       " 'On Deck features a mouthwatering menu highlighted with gourmet burgers and classic American home style favorites. Items such as The Patriot Burger or Beef Sliders are crafted with Linz Heritage Angus beef, while BBQ Chicken Chopped Salad, Fish and Chips, Pastrami Reuben and more round out the selection. Plus, a variety of craft beers, specialty cocktails and desserts all served under 33 75-inch televisions, makes On Deck one of the best places in Boston to watch a game.',\n",
       " 'The Lobster Roll with lightly dressed Maine lobster meat, lettuce, lemon aioli, toasted brioche roll and the Salmon Teriyaki Bowl with Jasmine rice, edamame, radish, carrots, cucumber, avocado, sesame, and teriyaki. The Waffle Bowl Sundae is the cherry on top of a delicious meal at On Deck.',\n",
       " 'The comfortable atmosphere highlighted by mahogany wood and plaid carpeting features 33 75-inch TVs ensuring prime viewing of every inning, quarter or match from every seat. On Deck also offers a unique “living room” experience complete with a fireplace, and dedicated television that are available for gameday parties. Perched on the mezzanine balcony, On Deck also provides a birds-eye view of the excitement on the gaming floor below.',\n",
       " 'With 24 brews on tap and over a dozen canned beers, finding the perfect pairing to a meal is a sure thing at On Deck. The carefully chosen line-up has an option for all beer lovers, from the tried-and-true lagers and ales to local craft beers.',\n",
       " 'Mystique does accept COMPDOLLARS, but a discount is not offered for Platinum and Black Tier Wynn Rewards members.',\n",
       " 'Children under 5 are not permitted. Mystique is 21 or older starting at 8 p.m.',\n",
       " 'Reservations are not required but highly recommended.',\n",
       " 'Mystique is operated by Big Night Entertainment Group. Big Night is a hospitality company that was founded in 2006 by visionary nightclub and hospitality owners Ed Kane, Joe Kane, and Randy Greenstein. Big Night Entertainment Group transforms hospitality and nightlife with destinations that transcend the status quo, including: Big Night Live, The Grand, Mystique, Mémoire, Empire, Guy Fieri’s Tequila Cocina, Red Lantern, Scorpion Bar, and VERSUS in Boston. Big Night Entertainment Group also owns and operates CBS Sporting Club and Scorpion Bar at Patriot Place in Foxboro, and Guy Fieri’s Kitchen & Bar, High Rollers, Red Lantern, Scorpion Bar, and Shrine in Connecticut. Visit bignight.com for more information or follow @BigNight on social for updates.',\n",
       " 'Two friends met in Boston’s North End as friends and their Italian roots and passion for food brought them together as family. Both acclaimed Italian restaurateurs throughout Boston, they now come together to present Fratelli–a world-class Italian restaurant and unparalleled experience.',\n",
       " 'Fratelli offers a full seafood raw bar including local oysters, Alaskan king crab legs, little neck clams, shrimp cocktail and tuna and salmon crudo. Fratelli also serves pizzas made with the freshest ingredients, “under the brick” chicken, veal and more.',\n",
       " 'The zucchini flowers are stuffed with goat cheese and lemon zest, lightly fried, served with tempura zucchini chips and a roasted garlic aioli. The lobster fra diavolo is made with whole Maine lobster, lobster fumet and colino cherry tomatoes, tossed with homemade linguini pasta. The Nerano, inspired from the Amalfi coast of Italy, is made with zucchini pasta, fresh zucchini, provolone del Monaco and finished with shaved parmigiano. Be sure to save room for the “tableside” tiramisu.',\n",
       " 'The most famous of all is the espresso martini, which was created in the North End of Boston. Fratelli has an extensive list of one-of-a-kind cocktails including “Pear of Brothers” (a twist on a pear martini), “Poker Face” (a version of a mule) and “Ciao Bella” (a play on an Old Fashioned). Also be sure to check out their vault selections on the wine list, consisting of extremely hard-to-find wines from Italy, France and California.',\n",
       " 'Fratelli offers its entire menu until 11:30 p.m. Sunday through Thursday and until 1:30 a.m. on Friday and Saturday. In addition to the dinner menu, Fratelli offers a Neapolitan-style pizza and calzone menu on Friday and Saturday nights from 11:30 p.m.–1:30 a.m.',\n",
       " 'We have 10 sports betting windows that will have live tellers in the sportsbook, and over 100 WynnBET Sports Kiosks throughout the casino.',\n",
       " 'Yes, select WynnBET Sports Kiosks are open 24/7.',\n",
       " 'We offer a wide variety of wagering opportunities such as straight bets, parlays, teasers, round robins and more.',\n",
       " 'During the hours of 9 a.m.–12 a.m. Tickets can be redeemed at the sportsbook.',\n",
       " 'Yes, you may redeem a ticket at the Main Cage when the sportsbook is closed.',\n",
       " 'Vouchers may be used at either the sportsbook or a WynnBET Sports Kiosks to place another wager, Vouchers may also be redeemed at the sportsbook or the Main Cage if the sportsbook is closed.',\n",
       " 'Guests can wager on all major sporting events. Guests can see a sportsbook representative, visit a WynnBET Sports Kiosk or download the WynnBET app to view the full menu of available events.',\n",
       " 'Yes, but we do not accept wagers on any collegiate teams from the Commonwealth of Massachusetts, unless the team is involved in a collegiate tournament.',\n",
       " 'Guests must be 21 years of age to enter the casino or place a wager.',\n",
       " 'Tickets are void one year after the date of the event.',\n",
       " 'All kiosk wagers are final. Wagers made at the sportsbook will be up to managements discretion before the event is locked out, after that time no changes can be made to a ticket.',\n",
       " 'Guests can scan a ticket at one of the WynnBET Sports Kiosks or bring it to a cashier at the sportsbook to check it.',\n",
       " 'At this time, we do not accept mail in tickets.',\n",
       " 'Odds will be posted in the sportsbook and at the kiosks. Guests can also download the WynnBET app to view odds.',\n",
       " 'Guests can watch the game at WynnBET Sportsbook and throughout the casino. Select dining venues will also play specific games.',\n",
       " 'Wynn Rewards kiosks are located throughout the casino, guests can also visit one of the three Wynn Rewards locations in the casino to sign up during available hours.',\n",
       " 'Wagers can be placed by cash only. ATMs are located at the Casino West.',\n",
       " 'We do not accept wagers with chips. The chips would need to be redeemed at the Main Cage for cash.']"
      ]
     },
     "execution_count": 48,
     "metadata": {},
     "output_type": "execute_result"
    }
   ],
   "source": [
    "answers_dining "
   ]
  },
  {
   "cell_type": "code",
   "execution_count": 49,
   "id": "e8a6e0d9",
   "metadata": {},
   "outputs": [],
   "source": [
    "faq_dict_dining = dict(zip(questions_dining,answers_dining))"
   ]
  },
  {
   "cell_type": "code",
   "execution_count": 50,
   "id": "c52c360f",
   "metadata": {},
   "outputs": [
    {
     "data": {
      "text/html": [
       "<div>\n",
       "<style scoped>\n",
       "    .dataframe tbody tr th:only-of-type {\n",
       "        vertical-align: middle;\n",
       "    }\n",
       "\n",
       "    .dataframe tbody tr th {\n",
       "        vertical-align: top;\n",
       "    }\n",
       "\n",
       "    .dataframe thead th {\n",
       "        text-align: right;\n",
       "    }\n",
       "</style>\n",
       "<table border=\"1\" class=\"dataframe\">\n",
       "  <thead>\n",
       "    <tr style=\"text-align: right;\">\n",
       "      <th></th>\n",
       "      <th>Question</th>\n",
       "      <th>Answer</th>\n",
       "    </tr>\n",
       "  </thead>\n",
       "  <tbody>\n",
       "    <tr>\n",
       "      <th>0</th>\n",
       "      <td>Is Rare Steakhouse all about steak?</td>\n",
       "      <td>Rare Steakhouse is a captivating spot for both...</td>\n",
       "    </tr>\n",
       "    <tr>\n",
       "      <th>1</th>\n",
       "      <td>What are the other signature ‘don’t miss’ dish...</td>\n",
       "      <td>Ideal for sharing, the seafood spectacular is ...</td>\n",
       "    </tr>\n",
       "    <tr>\n",
       "      <th>2</th>\n",
       "      <td>Should I save room for dessert?</td>\n",
       "      <td>Without question, even if you need to loosen y...</td>\n",
       "    </tr>\n",
       "    <tr>\n",
       "      <th>3</th>\n",
       "      <td>What about cocktails at Rare Steakhouse?</td>\n",
       "      <td>The specialty cocktail list complements the cr...</td>\n",
       "    </tr>\n",
       "    <tr>\n",
       "      <th>4</th>\n",
       "      <td>What is the dress code at Rare Steakhouse?</td>\n",
       "      <td>Resort elegant. Dressy attire preferred: Open-...</td>\n",
       "    </tr>\n",
       "    <tr>\n",
       "      <th>5</th>\n",
       "      <td>What is On Deck best known for?</td>\n",
       "      <td>On Deck features a mouthwatering menu highligh...</td>\n",
       "    </tr>\n",
       "    <tr>\n",
       "      <th>6</th>\n",
       "      <td>What are the other signature ‘don’t miss’ dish...</td>\n",
       "      <td>The Lobster Roll with lightly dressed Maine lo...</td>\n",
       "    </tr>\n",
       "    <tr>\n",
       "      <th>7</th>\n",
       "      <td>What is the ambience like at On Deck?</td>\n",
       "      <td>The comfortable atmosphere highlighted by maho...</td>\n",
       "    </tr>\n",
       "    <tr>\n",
       "      <th>8</th>\n",
       "      <td>What is the beer selection like at On Deck?</td>\n",
       "      <td>With 24 brews on tap and over a dozen canned b...</td>\n",
       "    </tr>\n",
       "    <tr>\n",
       "      <th>9</th>\n",
       "      <td>Does Mystique accept COMPDOLLARS?</td>\n",
       "      <td>Mystique does accept COMPDOLLARS, but a discou...</td>\n",
       "    </tr>\n",
       "    <tr>\n",
       "      <th>10</th>\n",
       "      <td>Is Mystique kid friendly?</td>\n",
       "      <td>Children under 5 are not permitted. Mystique i...</td>\n",
       "    </tr>\n",
       "    <tr>\n",
       "      <th>11</th>\n",
       "      <td>Do you need a reservation?</td>\n",
       "      <td>Reservations are not required but highly recom...</td>\n",
       "    </tr>\n",
       "    <tr>\n",
       "      <th>12</th>\n",
       "      <td>Who/What is Big Night?</td>\n",
       "      <td>Mystique is operated by Big Night Entertainmen...</td>\n",
       "    </tr>\n",
       "    <tr>\n",
       "      <th>13</th>\n",
       "      <td>What is Fratelli best known for?</td>\n",
       "      <td>Two friends met in Boston’s North End as frien...</td>\n",
       "    </tr>\n",
       "    <tr>\n",
       "      <th>14</th>\n",
       "      <td>What options does Fratelli have other than pasta?</td>\n",
       "      <td>Fratelli offers a full seafood raw bar includi...</td>\n",
       "    </tr>\n",
       "    <tr>\n",
       "      <th>15</th>\n",
       "      <td>What are other signature ‘don’t miss’ dishes a...</td>\n",
       "      <td>The zucchini flowers are stuffed with goat che...</td>\n",
       "    </tr>\n",
       "    <tr>\n",
       "      <th>16</th>\n",
       "      <td>What about cocktails at Fratelli?</td>\n",
       "      <td>The most famous of all is the espresso martini...</td>\n",
       "    </tr>\n",
       "    <tr>\n",
       "      <th>17</th>\n",
       "      <td>Does Fratelli have a late-night menu?</td>\n",
       "      <td>Fratelli offers its entire menu until 11:30 p....</td>\n",
       "    </tr>\n",
       "    <tr>\n",
       "      <th>18</th>\n",
       "      <td>How can I make a wager?</td>\n",
       "      <td>We have 10 sports betting windows that will ha...</td>\n",
       "    </tr>\n",
       "    <tr>\n",
       "      <th>19</th>\n",
       "      <td>Can I make a wager if the sportsbook is closed?</td>\n",
       "      <td>Yes, select WynnBET Sports Kiosks are open 24/7.</td>\n",
       "    </tr>\n",
       "    <tr>\n",
       "      <th>20</th>\n",
       "      <td>What types of wagers do you take?</td>\n",
       "      <td>We offer a wide variety of wagering opportunit...</td>\n",
       "    </tr>\n",
       "    <tr>\n",
       "      <th>21</th>\n",
       "      <td>Where can I cash a ticket?</td>\n",
       "      <td>During the hours of 9 a.m.–12 a.m. Tickets can...</td>\n",
       "    </tr>\n",
       "    <tr>\n",
       "      <th>22</th>\n",
       "      <td>Can I cash a ticket if the sportsbook is closed?</td>\n",
       "      <td>Yes, you may redeem a ticket at the Main Cage ...</td>\n",
       "    </tr>\n",
       "    <tr>\n",
       "      <th>23</th>\n",
       "      <td>I have a sports betting voucher, what do I do ...</td>\n",
       "      <td>Vouchers may be used at either the sportsbook ...</td>\n",
       "    </tr>\n",
       "    <tr>\n",
       "      <th>24</th>\n",
       "      <td>What sports can I wager on?</td>\n",
       "      <td>Guests can wager on all major sporting events....</td>\n",
       "    </tr>\n",
       "    <tr>\n",
       "      <th>25</th>\n",
       "      <td>Can I bet on college sports?</td>\n",
       "      <td>Yes, but we do not accept wagers on any colleg...</td>\n",
       "    </tr>\n",
       "    <tr>\n",
       "      <th>26</th>\n",
       "      <td>What is the minimum age to wager?</td>\n",
       "      <td>Guests must be 21 years of age to enter the ca...</td>\n",
       "    </tr>\n",
       "    <tr>\n",
       "      <th>27</th>\n",
       "      <td>How long do I have to cash a winning ticket?</td>\n",
       "      <td>Tickets are void one year after the date of th...</td>\n",
       "    </tr>\n",
       "    <tr>\n",
       "      <th>28</th>\n",
       "      <td>Can I change my wager?</td>\n",
       "      <td>All kiosk wagers are final. Wagers made at the...</td>\n",
       "    </tr>\n",
       "    <tr>\n",
       "      <th>29</th>\n",
       "      <td>How do I know if I won my wager?</td>\n",
       "      <td>Guests can scan a ticket at one of the WynnBET...</td>\n",
       "    </tr>\n",
       "    <tr>\n",
       "      <th>30</th>\n",
       "      <td>Can I mail my ticket in?</td>\n",
       "      <td>At this time, we do not accept mail in tickets.</td>\n",
       "    </tr>\n",
       "    <tr>\n",
       "      <th>31</th>\n",
       "      <td>Where can I see WynnBET odds?</td>\n",
       "      <td>Odds will be posted in the sportsbook and at t...</td>\n",
       "    </tr>\n",
       "    <tr>\n",
       "      <th>32</th>\n",
       "      <td>Where can I watch my game?</td>\n",
       "      <td>Guests can watch the game at WynnBET Sportsboo...</td>\n",
       "    </tr>\n",
       "    <tr>\n",
       "      <th>33</th>\n",
       "      <td>Where can I sign up for a Wynn Rewards account?</td>\n",
       "      <td>Wynn Rewards kiosks are located throughout the...</td>\n",
       "    </tr>\n",
       "    <tr>\n",
       "      <th>34</th>\n",
       "      <td>What forms of payment are accepted to make a w...</td>\n",
       "      <td>Wagers can be placed by cash only. ATMs are lo...</td>\n",
       "    </tr>\n",
       "    <tr>\n",
       "      <th>35</th>\n",
       "      <td>Can I wager with chips?</td>\n",
       "      <td>We do not accept wagers with chips. The chips ...</td>\n",
       "    </tr>\n",
       "  </tbody>\n",
       "</table>\n",
       "</div>"
      ],
      "text/plain": [
       "                                             Question  \\\n",
       "0                 Is Rare Steakhouse all about steak?   \n",
       "1   What are the other signature ‘don’t miss’ dish...   \n",
       "2                     Should I save room for dessert?   \n",
       "3            What about cocktails at Rare Steakhouse?   \n",
       "4          What is the dress code at Rare Steakhouse?   \n",
       "5                     What is On Deck best known for?   \n",
       "6   What are the other signature ‘don’t miss’ dish...   \n",
       "7               What is the ambience like at On Deck?   \n",
       "8         What is the beer selection like at On Deck?   \n",
       "9                   Does Mystique accept COMPDOLLARS?   \n",
       "10                          Is Mystique kid friendly?   \n",
       "11                         Do you need a reservation?   \n",
       "12                             Who/What is Big Night?   \n",
       "13                   What is Fratelli best known for?   \n",
       "14  What options does Fratelli have other than pasta?   \n",
       "15  What are other signature ‘don’t miss’ dishes a...   \n",
       "16                  What about cocktails at Fratelli?   \n",
       "17              Does Fratelli have a late-night menu?   \n",
       "18                            How can I make a wager?   \n",
       "19    Can I make a wager if the sportsbook is closed?   \n",
       "20                  What types of wagers do you take?   \n",
       "21                         Where can I cash a ticket?   \n",
       "22   Can I cash a ticket if the sportsbook is closed?   \n",
       "23  I have a sports betting voucher, what do I do ...   \n",
       "24                        What sports can I wager on?   \n",
       "25                       Can I bet on college sports?   \n",
       "26                  What is the minimum age to wager?   \n",
       "27       How long do I have to cash a winning ticket?   \n",
       "28                             Can I change my wager?   \n",
       "29                   How do I know if I won my wager?   \n",
       "30                           Can I mail my ticket in?   \n",
       "31                      Where can I see WynnBET odds?   \n",
       "32                         Where can I watch my game?   \n",
       "33    Where can I sign up for a Wynn Rewards account?   \n",
       "34  What forms of payment are accepted to make a w...   \n",
       "35                            Can I wager with chips?   \n",
       "\n",
       "                                               Answer  \n",
       "0   Rare Steakhouse is a captivating spot for both...  \n",
       "1   Ideal for sharing, the seafood spectacular is ...  \n",
       "2   Without question, even if you need to loosen y...  \n",
       "3   The specialty cocktail list complements the cr...  \n",
       "4   Resort elegant. Dressy attire preferred: Open-...  \n",
       "5   On Deck features a mouthwatering menu highligh...  \n",
       "6   The Lobster Roll with lightly dressed Maine lo...  \n",
       "7   The comfortable atmosphere highlighted by maho...  \n",
       "8   With 24 brews on tap and over a dozen canned b...  \n",
       "9   Mystique does accept COMPDOLLARS, but a discou...  \n",
       "10  Children under 5 are not permitted. Mystique i...  \n",
       "11  Reservations are not required but highly recom...  \n",
       "12  Mystique is operated by Big Night Entertainmen...  \n",
       "13  Two friends met in Boston’s North End as frien...  \n",
       "14  Fratelli offers a full seafood raw bar includi...  \n",
       "15  The zucchini flowers are stuffed with goat che...  \n",
       "16  The most famous of all is the espresso martini...  \n",
       "17  Fratelli offers its entire menu until 11:30 p....  \n",
       "18  We have 10 sports betting windows that will ha...  \n",
       "19   Yes, select WynnBET Sports Kiosks are open 24/7.  \n",
       "20  We offer a wide variety of wagering opportunit...  \n",
       "21  During the hours of 9 a.m.–12 a.m. Tickets can...  \n",
       "22  Yes, you may redeem a ticket at the Main Cage ...  \n",
       "23  Vouchers may be used at either the sportsbook ...  \n",
       "24  Guests can wager on all major sporting events....  \n",
       "25  Yes, but we do not accept wagers on any colleg...  \n",
       "26  Guests must be 21 years of age to enter the ca...  \n",
       "27  Tickets are void one year after the date of th...  \n",
       "28  All kiosk wagers are final. Wagers made at the...  \n",
       "29  Guests can scan a ticket at one of the WynnBET...  \n",
       "30    At this time, we do not accept mail in tickets.  \n",
       "31  Odds will be posted in the sportsbook and at t...  \n",
       "32  Guests can watch the game at WynnBET Sportsboo...  \n",
       "33  Wynn Rewards kiosks are located throughout the...  \n",
       "34  Wagers can be placed by cash only. ATMs are lo...  \n",
       "35  We do not accept wagers with chips. The chips ...  "
      ]
     },
     "execution_count": 50,
     "metadata": {},
     "output_type": "execute_result"
    }
   ],
   "source": [
    "Dining_df = pd.DataFrame(list(faq_dict_dining.items()), columns=[\"Question\", \"Answer\"])\n",
    "Dining_df"
   ]
  },
  {
   "cell_type": "code",
   "execution_count": null,
   "id": "656ab30c",
   "metadata": {},
   "outputs": [],
   "source": []
  }
 ],
 "metadata": {
  "kernelspec": {
   "display_name": "Python 3 (ipykernel)",
   "language": "python",
   "name": "python3"
  },
  "language_info": {
   "codemirror_mode": {
    "name": "ipython",
    "version": 3
   },
   "file_extension": ".py",
   "mimetype": "text/x-python",
   "name": "python",
   "nbconvert_exporter": "python",
   "pygments_lexer": "ipython3",
   "version": "3.11.4"
  }
 },
 "nbformat": 4,
 "nbformat_minor": 5
}
