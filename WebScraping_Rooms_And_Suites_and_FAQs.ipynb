{
 "cells": [
  {
   "cell_type": "code",
   "execution_count": 249,
   "id": "e8c4e749",
   "metadata": {},
   "outputs": [],
   "source": [
    "import pandas as pd\n",
    "import requests \n",
    "from bs4 import BeautifulSoup"
   ]
  },
  {
   "cell_type": "code",
   "execution_count": 250,
   "id": "093cc4b0",
   "metadata": {},
   "outputs": [],
   "source": [
    "webpage = requests.get('https://www.encorebostonharbor.com/rooms-and-suites/encore-rooms/premier-double').text"
   ]
  },
  {
   "cell_type": "code",
   "execution_count": 251,
   "id": "af3419ab",
   "metadata": {},
   "outputs": [],
   "source": [
    "soup = BeautifulSoup(webpage,'lxml')"
   ]
  },
  {
   "cell_type": "code",
   "execution_count": 252,
   "id": "e7c2206e",
   "metadata": {},
   "outputs": [],
   "source": [
    "Encore_Rooms = []\n",
    "Encore_Suites = []\n",
    "Dinning = []\n",
    "Fast_Casual = []\n",
    "Bar_And_Lounges = []\n",
    "\n",
    "menu_lists = soup.find_all('a', class_='menulist-links')\n",
    "\n",
    "for i in range(0, len(menu_lists)):\n",
    "    if i < 4:\n",
    "        Encore_Rooms.append(menu_lists[i].text.strip())\n",
    "    elif i < 7:\n",
    "        Encore_Suites.append(menu_lists[i].text.strip())\n",
    "    elif i>8 and i<19:\n",
    "        Dinning.append(menu_lists[i].text.strip())\n",
    "    elif i>18 and i<22:\n",
    "        Fast_Casual.append(menu_lists[i].text.strip())\n",
    "    elif i>21:\n",
    "        Bar_And_Lounges.append(menu_lists[i].text.strip())\n",
    "    if menu_lists[i].text == 'Mystique Lounge':\n",
    "        break"
   ]
  },
  {
   "cell_type": "markdown",
   "id": "06cf6e74",
   "metadata": {},
   "source": [
    "------------------------------------------------ROOMS AND SUITES---------------------------------------------------------------"
   ]
  },
  {
   "cell_type": "markdown",
   "id": "e4b05c00",
   "metadata": {},
   "source": [
    "# Code of  Web scraping data of encore rooms , A dictionary is made for each type/kind of Room\n",
    "\n",
    "## Further made a dictionary with keys as (Preview , Overview , Details , Features) for each room type of room\n",
    "\n",
    "### The whole data of the rooms is saved in dictionary named room_dict "
   ]
  },
  {
   "cell_type": "code",
   "execution_count": 253,
   "id": "cbacf26c",
   "metadata": {},
   "outputs": [],
   "source": [
    "room_template = {\n",
    "    'Preview' : '',\n",
    "    'Overview': '',\n",
    "    'Details': '',\n",
    "    'Features': ''\n",
    "}\n",
    "# Createing a dictionary with Encore_Rooms as keys and the template as values\n",
    "room_dict = {room: room_template.copy() for room in Encore_Rooms}"
   ]
  },
  {
   "cell_type": "code",
   "execution_count": 254,
   "id": "3b446349",
   "metadata": {},
   "outputs": [],
   "source": [
    "listed_room_features_Premier_Double = [\n",
    "    \"650-square-foot room\",\n",
    "    \"55-inch flat-screen 4K Ultra HDTV in bedroom\",\n",
    "    \"Executive desk area with high-speed wireless internet access\",\n",
    "    \"Bedside phone with dual lines and speaker\",\n",
    "    \"Double Encore Dream Beds with 507-thread-count linens\",\n",
    "    \"Voice-activated device to control curtains, lighting, heating and air conditioning, room service, and privacy settings\",\n",
    "    \"Signature Wynn Resorts slippers\",\n",
    "    \"Wireless, detachable bedside iPad for one-touch access to room controls, guest services, digital media, and resort information\",\n",
    "    \"In-room laptop safe and stocked mini-bar\",\n",
    "    \"Spacious marble bathroom with a separate shower and soaking tub, dual sinks, and 24-inch flat-screen HDTV\",\n",
    "    \"Seated vanity with a lighted mirror\",\n",
    "    \"Iron, ironing board, hairdryer, and umbrella\",\n",
    "    \"Connecting rooms available\"\n",
    "]\n",
    "\n",
    "listed_room_features_Premier_Harbor_View_Double = [\n",
    "    \"650-square-foot room\",\n",
    "    \"55-inch flat-screen 4K Ultra HDTV in bedroom\",\n",
    "    \"Executive desk area with high-speed wireless internet access\",\n",
    "    \"Bedside phone with dual lines and speaker\",\n",
    "    \"Double Encore Dream Beds with 507-thread-count linens\",\n",
    "    \"Voice-activated device to control curtains, lighting, heating and air conditioning, room service, and privacy settings\",\n",
    "    \"Signature Wynn Resorts slippers\",\n",
    "    \"Wireless, detachable bedside iPad for one-touch access to room controls, guest services, digital media, and resort information\",\n",
    "    \"In-room laptop safe and stocked mini-bar\",\n",
    "    \"Spacious marble bathroom with a separate shower and soaking tub, dual sinks, and 24-inch flat-screen HDTV\",\n",
    "    \"Seated vanity with a lighted mirror\",\n",
    "    \"Iron, ironing board, hairdryer, and umbrella\",\n",
    "    \"Connecting rooms available\"\n",
    "]\n",
    "\n",
    "listed_room_features_Premier_King = [\n",
    "    \"650-square-foot room\",\n",
    "    \"55-inch flat-screen 4K Ultra HDTV in bedroom\",\n",
    "    \"Executive desk area with high-speed wireless internet access\",\n",
    "    \"Bedside phone with dual lines and speaker\",\n",
    "    \"Double Encore Dream Beds with 507-thread-count linens\",\n",
    "    \"Voice-activated device to control curtains, lighting, heating and air conditioning, room service, and privacy settings\",\n",
    "    \"Signature Wynn Resorts slippers\",\n",
    "    \"Wireless, detachable bedside iPad for one-touch access to room controls, guest services, digital media, and resort information\",\n",
    "    \"In-room laptop safe and stocked mini-bar\",\n",
    "    \"Spacious marble bathroom with separate shower and soaking tub, dual sinks, and 24-inch flat-screen HDTV\",\n",
    "    \"Seated vanity with lighted mirror\",\n",
    "    \"Iron, ironing board, hairdryer, and umbrella\",\n",
    "    \"Connecting rooms available\"\n",
    "]\n",
    "\n",
    "listed_room_features_Premier_Harbor_View_King = [\n",
    "    \"650-square-foot room\",\n",
    "    \"55-inch flat-screen 4K Ultra HDTV in bedroom\",\n",
    "    \"Executive desk area with high-speed wireless internet access\",\n",
    "    \"Bedside phone with dual lines and speaker\",\n",
    "    \"King Encore Dream Bed with 507-thread-count linens\",\n",
    "    \"Voice-activated device to control curtains, lighting, heating and air conditioning, room service, and privacy settings\",\n",
    "    \"Signature Wynn Resorts slippers\",\n",
    "    \"Wireless, detachable bedside iPad for one-touch access to room controls, guest services, digital media, and resort information\",\n",
    "    \"In-room laptop safe and stocked mini-bar\",\n",
    "    \"Spacious marble bathroom with separate shower and soaking tub, dual sinks, and 24-inch flat-screen HDTV\",\n",
    "    \"Seated vanity with lighted mirror\",\n",
    "    \"Iron, ironing board, hairdryer, and umbrella\",\n",
    "    \"Connecting rooms available\"\n",
    "]"
   ]
  },
  {
   "cell_type": "code",
   "execution_count": 255,
   "id": "e0514d72",
   "metadata": {},
   "outputs": [],
   "source": [
    "room_dict['Premier Double']['Preview'] = \"THE LARGEST STANDARD HOTEL ROOM IN NEW ENGLAND.\"\n",
    "room_dict['Premier Double']['Overview'] = \"Bright, neutral décor with natural light from floor-to-ceiling windows, these accommodations include double Encore Dream Beds created exclusively for Encore Boston Harbor.\"\n",
    "room_dict['Premier Double']['Details'] = \"Our Premier Double combines comfort and convenience into the ultimate hotel accommodation. Measuring 650 square feet with two double beds, the Premier Double offers an expansive floor plan for friend or family stays.Tap your key, open the door and let the natural light from the floor-to-ceiling windows warmly welcome you into your home away from home.After a thrilling day exploring all that Encore Boston Harbor has to offer from spa to dining to gaming, relax into the better-than-home comforts of the Premier Double with two double Encore Dream Beds dressed in sumptuous 507-thread-count linens. A desk with a desk chair and two additional accent chairs allow ample space to comfortably work “out of office.”Tech-friendly essentials range from flat-screen 4K ultra-high-definition televisions and high-speed Wi-Fi to bedside mobile charging devices and a wireless iPad for one-touch access to room controls, resort information and access to all of your favorite digital media, including streaming services such as Netflix, Prime Video, Hulu and Chromecast.Every room is equipped with an Amazon Echo and Alexa AI to assist with playing music; powering the television; setting clock, timer and volume controls; answering questions; adjusting the curtains, lighting and heating and air-conditioning; and enabling privacy settings such as housekeeping and do not disturb notifications.Generously sized bathrooms offer separate showers and deep-soaking tubs, dual sinks, marble floors, seated vanity areas with lighted mirrors and flat-screen, high-definition televisions and our signature slippers, available throughout your stay.Each one of the 671 lavishly appointed guest rooms takes an unparalleled approach to comfort and design. Encore Boston Harbor bears the Forbes Travel Guide Five-Star distinction for its hotel and spa, the largest regional resort casino outside of Las Vegas and the largest resort on the East Coast to be awarded the honor.\"\n",
    "room_dict['Premier Double']['Features'] = listed_room_features_Premier_Double"
   ]
  },
  {
   "cell_type": "code",
   "execution_count": 256,
   "id": "99af691d",
   "metadata": {},
   "outputs": [],
   "source": [
    "room_dict['Premier Harbor View Double']['Preview'] = \"THE LARGEST STANDARD HOTEL ROOM IN NEW ENGLAND.\"\n",
    "room_dict['Premier Harbor View Double']['Overview'] = \"Bright, neutral décor with natural light from floor-to-ceiling windows, these accommodations include double Encore Dream Beds created exclusively for Encore Boston Harbor..\"\n",
    "room_dict['Premier Harbor View Double']['Details'] = \"Our Premier Harbor View Double combines comfort and convenience into the ultimate hotel accommodation with stunning views of Boston Harbor and the city skyline. Measuring 650 square feet with two double beds, the Premier Harbor View Double offers an expansive floor plan for friend or family stays. Tap your key, open the door and let the natural light from the floor-to-ceiling windows warmly welcome you into your home away from home. After a thrilling day exploring all that Encore Boston Harbor has to offer from spa to dining to gaming, relax into the better-than-home comforts of the Premier Harbor View Double with two double Encore Dream Beds dressed in sumptuous 507-thread-count linens.  A desk with two chairs allows ample space to comfortably work “out of office.”  Tech-friendly essentials range from flat-screen 4K ultra-high-definition televisions and high-speed Wi-Fi to bedside mobile charging devices and a wireless iPad for one-touch access to room controls, resort information and access to all your favorite digital media, including streaming services such as Netflix, Prime Video, Hulu and Chromecast. Every room is equipped with an Amazon Echo and Alexa AI to assist with playing music; powering the television; setting clock, timer and volume controls; answering questions; adjusting the curtains, lighting and heating and air-conditioning; and enabling privacy settings such as housekeeping and do not disturb notifications. Generously sized bathrooms offer separate showers and deep-soaking tubs, dual sinks, marble floors, seated vanity areas with lighted mirrors and flat-screen, high-definition televisions and our signature slippers, available throughout your stay. Each one of the 671 lavishly appointed guest rooms takes an unparalleled approach to comfort and design. Encore Boston Harbor bears the Forbes Travel Guide Five-Star distinction for its hotel and spa, the largest regional resort casino outside of Las Vegas and the largest resort on the East Coast to be awarded the honor.\"\n",
    "room_dict['Premier Harbor View Double']['Features'] = listed_room_features_Premier_Harbor_View_Double"
   ]
  },
  {
   "cell_type": "code",
   "execution_count": 257,
   "id": "41531c33",
   "metadata": {},
   "outputs": [],
   "source": [
    "room_dict['Premier King']['Preview'] = \"THE LARGEST STANDARD HOTEL ROOM IN NEW ENGLAND.\"\n",
    "room_dict['Premier King']['Overview'] = \"Bright, neutral décor with natural light from floor-to-ceiling windows, these accommodations include double Encore Dream Beds created exclusively for Encore Boston Harbor.\"\n",
    "room_dict['Premier King']['Details'] = \"Our Premier Harbor View Double combines comfort and convenience into the ultimate hotel accommodation with stunning views of Boston Harbor and the city skyline. Measuring 650 square feet with two double beds, the Premier Harbor View Double offers an expansive floor plan for friend or family stays. Tap your key, open the door and let the natural light from the floor-to-ceiling windows warmly welcome you into your home away from home. After a thrilling day exploring all that Encore Boston Harbor has to offer from spa to dining to gaming, relax into the better-than-home comforts of the Premier Harbor View Double with two double Encore Dream Beds dressed in sumptuous 507-thread-count linens.  A desk with two chairs allows ample space to comfortably work “out of office.”  Tech-friendly essentials range from flat-screen 4K ultra-high-definition televisions and high-speed Wi-Fi to bedside mobile charging devices and a wireless iPad for one-touch access to room controls, resort information and access to all your favorite digital media, including streaming services such as Netflix, Prime Video, Hulu and Chromecast. Every room is equipped with an Amazon Echo and Alexa AI to assist with playing music; powering the television; setting clock, timer and volume controls; answering questions; adjusting the curtains, lighting and heating and air-conditioning; and enabling privacy settings such as housekeeping and do not disturb notifications. Generously sized bathrooms offer separate showers and deep-soaking tubs, dual sinks, marble floors, seated vanity areas with lighted mirrors and flat-screen, high-definition televisions and our signature slippers, available throughout your stay. Each one of the 671 lavishly appointed guest rooms takes an unparalleled approach to comfort and design. Encore Boston Harbor bears the Forbes Travel Guide Five-Star distinction for its hotel and spa, the largest regional resort casino outside of Las Vegas and the largest resort on the East Coast to be awarded the honor.\"\n",
    "room_dict['Premier King']['Features'] = listed_room_features_Premier_King"
   ]
  },
  {
   "cell_type": "code",
   "execution_count": 258,
   "id": "9faf8476",
   "metadata": {},
   "outputs": [],
   "source": [
    "room_dict['Premier Harbor View King']['Preview'] = \"THE LARGEST STANDARD HOTEL ROOM IN NEW ENGLAND.\"\n",
    "room_dict['Premier Harbor View King']['Overview'] = \"Bright, neutral décor with natural light from floor-to-ceiling windows, these accommodations include a King Encore Dream Bed created exclusively for Encore Boston Harbor.\"\n",
    "room_dict['Premier Harbor View King']['Details'] = \"With views spanning Boston Harbor and the city skyline, our Premier Harbor View King is for those who rise with the sun and thrive off the electricity of the “Hub.” The largest standard room in New England combines comfort and convenience into the ultimate hotel accommodation. The size of an apartment, measuring 650 square feet with one King bed, the Premier Harbor View King is the ideal pied-à-terre.Tap your key, open the door and let the natural light from the floor-to-ceiling windows warmly welcome you into your home away from home.After a thrilling day exploring all that Encore Boston Harbor has to offer from spa to dining to gaming, relax into the better-than-home comforts of the Premier Harbor View King with an Encore Dream Bed dressed in sumptuous 507-thread-count linens. The room configuration creates different environments for both leisure and business. A couch with an ottoman, a table and two chairs and a desk and desk chair convert into endless possibilities.Tech-friendly essentials range from flat-screen 4K ultra-high-definition televisions and high-speed Wi-Fi to bedside mobile charging devices and a wireless iPad for one-touch access to room controls, resort information and access to all of your favorite digital media, including streaming services such as Netflix, Prime Video, Hulu and Chromecast.Every room is equipped with an Amazon Echo and Alexa AI to assist with playing music; powering the television; setting clock, timer and volume controls; answering questions; adjusting the curtains, lighting and heating and air-conditioning; and enabling privacy settings such as housekeeping and do not disturb notifications.Generously sized bathrooms offer separate showers and deep-soaking tubs, dual sinks, marble floors, seated vanity areas with lighted mirrors and flat-screen, high-definition televisions and our signature slippers, available throughout your stay.Each one of the 671 lavishly appointed guest rooms takes an unparalleled approach to comfort and design. Encore Boston Harbor bears the Forbes Travel Guide Five-Star distinction for its hotel and spa, the largest regional resort casino outside of Las Vegas and the largest resort on the East Coast to be awarded the honor.\"\n",
    "room_dict['Premier Harbor View King']['Features'] = listed_room_features_Premier_King"
   ]
  },
  {
   "cell_type": "code",
   "execution_count": 259,
   "id": "0843a776",
   "metadata": {},
   "outputs": [
    {
     "data": {
      "text/plain": [
       "{'Premier Double': {'Preview': 'THE LARGEST STANDARD HOTEL ROOM IN NEW ENGLAND.',\n",
       "  'Overview': 'Bright, neutral décor with natural light from floor-to-ceiling windows, these accommodations include double Encore Dream Beds created exclusively for Encore Boston Harbor.',\n",
       "  'Details': 'Our Premier Double combines comfort and convenience into the ultimate hotel accommodation. Measuring 650 square feet with two double beds, the Premier Double offers an expansive floor plan for friend or family stays.Tap your key, open the door and let the natural light from the floor-to-ceiling windows warmly welcome you into your home away from home.After a thrilling day exploring all that Encore Boston Harbor has to offer from spa to dining to gaming, relax into the better-than-home comforts of the Premier Double with two double Encore Dream Beds dressed in sumptuous 507-thread-count linens. A desk with a desk chair and two additional accent chairs allow ample space to comfortably work “out of office.”Tech-friendly essentials range from flat-screen 4K ultra-high-definition televisions and high-speed Wi-Fi to bedside mobile charging devices and a wireless iPad for one-touch access to room controls, resort information and access to all of your favorite digital media, including streaming services such as Netflix, Prime Video, Hulu and Chromecast.Every room is equipped with an Amazon Echo and Alexa AI to assist with playing music; powering the television; setting clock, timer and volume controls; answering questions; adjusting the curtains, lighting and heating and air-conditioning; and enabling privacy settings such as housekeeping and do not disturb notifications.Generously sized bathrooms offer separate showers and deep-soaking tubs, dual sinks, marble floors, seated vanity areas with lighted mirrors and flat-screen, high-definition televisions and our signature slippers, available throughout your stay.Each one of the 671 lavishly appointed guest rooms takes an unparalleled approach to comfort and design. Encore Boston Harbor bears the Forbes Travel Guide Five-Star distinction for its hotel and spa, the largest regional resort casino outside of Las Vegas and the largest resort on the East Coast to be awarded the honor.',\n",
       "  'Features': ['650-square-foot room',\n",
       "   '55-inch flat-screen 4K Ultra HDTV in bedroom',\n",
       "   'Executive desk area with high-speed wireless internet access',\n",
       "   'Bedside phone with dual lines and speaker',\n",
       "   'Double Encore Dream Beds with 507-thread-count linens',\n",
       "   'Voice-activated device to control curtains, lighting, heating and air conditioning, room service, and privacy settings',\n",
       "   'Signature Wynn Resorts slippers',\n",
       "   'Wireless, detachable bedside iPad for one-touch access to room controls, guest services, digital media, and resort information',\n",
       "   'In-room laptop safe and stocked mini-bar',\n",
       "   'Spacious marble bathroom with a separate shower and soaking tub, dual sinks, and 24-inch flat-screen HDTV',\n",
       "   'Seated vanity with a lighted mirror',\n",
       "   'Iron, ironing board, hairdryer, and umbrella',\n",
       "   'Connecting rooms available']},\n",
       " 'Premier Harbor View Double': {'Preview': 'THE LARGEST STANDARD HOTEL ROOM IN NEW ENGLAND.',\n",
       "  'Overview': 'Bright, neutral décor with natural light from floor-to-ceiling windows, these accommodations include double Encore Dream Beds created exclusively for Encore Boston Harbor..',\n",
       "  'Details': 'Our Premier Harbor View Double combines comfort and convenience into the ultimate hotel accommodation with stunning views of Boston Harbor and the city skyline. Measuring 650 square feet with two double beds, the Premier Harbor View Double offers an expansive floor plan for friend or family stays. Tap your key, open the door and let the natural light from the floor-to-ceiling windows warmly welcome you into your home away from home. After a thrilling day exploring all that Encore Boston Harbor has to offer from spa to dining to gaming, relax into the better-than-home comforts of the Premier Harbor View Double with two double Encore Dream Beds dressed in sumptuous 507-thread-count linens.  A desk with two chairs allows ample space to comfortably work “out of office.”  Tech-friendly essentials range from flat-screen 4K ultra-high-definition televisions and high-speed Wi-Fi to bedside mobile charging devices and a wireless iPad for one-touch access to room controls, resort information and access to all your favorite digital media, including streaming services such as Netflix, Prime Video, Hulu and Chromecast. Every room is equipped with an Amazon Echo and Alexa AI to assist with playing music; powering the television; setting clock, timer and volume controls; answering questions; adjusting the curtains, lighting and heating and air-conditioning; and enabling privacy settings such as housekeeping and do not disturb notifications. Generously sized bathrooms offer separate showers and deep-soaking tubs, dual sinks, marble floors, seated vanity areas with lighted mirrors and flat-screen, high-definition televisions and our signature slippers, available throughout your stay. Each one of the 671 lavishly appointed guest rooms takes an unparalleled approach to comfort and design. Encore Boston Harbor bears the Forbes Travel Guide Five-Star distinction for its hotel and spa, the largest regional resort casino outside of Las Vegas and the largest resort on the East Coast to be awarded the honor.',\n",
       "  'Features': ['650-square-foot room',\n",
       "   '55-inch flat-screen 4K Ultra HDTV in bedroom',\n",
       "   'Executive desk area with high-speed wireless internet access',\n",
       "   'Bedside phone with dual lines and speaker',\n",
       "   'Double Encore Dream Beds with 507-thread-count linens',\n",
       "   'Voice-activated device to control curtains, lighting, heating and air conditioning, room service, and privacy settings',\n",
       "   'Signature Wynn Resorts slippers',\n",
       "   'Wireless, detachable bedside iPad for one-touch access to room controls, guest services, digital media, and resort information',\n",
       "   'In-room laptop safe and stocked mini-bar',\n",
       "   'Spacious marble bathroom with a separate shower and soaking tub, dual sinks, and 24-inch flat-screen HDTV',\n",
       "   'Seated vanity with a lighted mirror',\n",
       "   'Iron, ironing board, hairdryer, and umbrella',\n",
       "   'Connecting rooms available']},\n",
       " 'Premier King': {'Preview': 'THE LARGEST STANDARD HOTEL ROOM IN NEW ENGLAND.',\n",
       "  'Overview': 'Bright, neutral décor with natural light from floor-to-ceiling windows, these accommodations include double Encore Dream Beds created exclusively for Encore Boston Harbor.',\n",
       "  'Details': 'Our Premier Harbor View Double combines comfort and convenience into the ultimate hotel accommodation with stunning views of Boston Harbor and the city skyline. Measuring 650 square feet with two double beds, the Premier Harbor View Double offers an expansive floor plan for friend or family stays. Tap your key, open the door and let the natural light from the floor-to-ceiling windows warmly welcome you into your home away from home. After a thrilling day exploring all that Encore Boston Harbor has to offer from spa to dining to gaming, relax into the better-than-home comforts of the Premier Harbor View Double with two double Encore Dream Beds dressed in sumptuous 507-thread-count linens.  A desk with two chairs allows ample space to comfortably work “out of office.”  Tech-friendly essentials range from flat-screen 4K ultra-high-definition televisions and high-speed Wi-Fi to bedside mobile charging devices and a wireless iPad for one-touch access to room controls, resort information and access to all your favorite digital media, including streaming services such as Netflix, Prime Video, Hulu and Chromecast. Every room is equipped with an Amazon Echo and Alexa AI to assist with playing music; powering the television; setting clock, timer and volume controls; answering questions; adjusting the curtains, lighting and heating and air-conditioning; and enabling privacy settings such as housekeeping and do not disturb notifications. Generously sized bathrooms offer separate showers and deep-soaking tubs, dual sinks, marble floors, seated vanity areas with lighted mirrors and flat-screen, high-definition televisions and our signature slippers, available throughout your stay. Each one of the 671 lavishly appointed guest rooms takes an unparalleled approach to comfort and design. Encore Boston Harbor bears the Forbes Travel Guide Five-Star distinction for its hotel and spa, the largest regional resort casino outside of Las Vegas and the largest resort on the East Coast to be awarded the honor.',\n",
       "  'Features': ['650-square-foot room',\n",
       "   '55-inch flat-screen 4K Ultra HDTV in bedroom',\n",
       "   'Executive desk area with high-speed wireless internet access',\n",
       "   'Bedside phone with dual lines and speaker',\n",
       "   'Double Encore Dream Beds with 507-thread-count linens',\n",
       "   'Voice-activated device to control curtains, lighting, heating and air conditioning, room service, and privacy settings',\n",
       "   'Signature Wynn Resorts slippers',\n",
       "   'Wireless, detachable bedside iPad for one-touch access to room controls, guest services, digital media, and resort information',\n",
       "   'In-room laptop safe and stocked mini-bar',\n",
       "   'Spacious marble bathroom with separate shower and soaking tub, dual sinks, and 24-inch flat-screen HDTV',\n",
       "   'Seated vanity with lighted mirror',\n",
       "   'Iron, ironing board, hairdryer, and umbrella',\n",
       "   'Connecting rooms available']},\n",
       " 'Premier Harbor View King': {'Preview': 'THE LARGEST STANDARD HOTEL ROOM IN NEW ENGLAND.',\n",
       "  'Overview': 'Bright, neutral décor with natural light from floor-to-ceiling windows, these accommodations include a King Encore Dream Bed created exclusively for Encore Boston Harbor.',\n",
       "  'Details': 'With views spanning Boston Harbor and the city skyline, our Premier Harbor View King is for those who rise with the sun and thrive off the electricity of the “Hub.” The largest standard room in New England combines comfort and convenience into the ultimate hotel accommodation. The size of an apartment, measuring 650 square feet with one King bed, the Premier Harbor View King is the ideal pied-à-terre.Tap your key, open the door and let the natural light from the floor-to-ceiling windows warmly welcome you into your home away from home.After a thrilling day exploring all that Encore Boston Harbor has to offer from spa to dining to gaming, relax into the better-than-home comforts of the Premier Harbor View King with an Encore Dream Bed dressed in sumptuous 507-thread-count linens. The room configuration creates different environments for both leisure and business. A couch with an ottoman, a table and two chairs and a desk and desk chair convert into endless possibilities.Tech-friendly essentials range from flat-screen 4K ultra-high-definition televisions and high-speed Wi-Fi to bedside mobile charging devices and a wireless iPad for one-touch access to room controls, resort information and access to all of your favorite digital media, including streaming services such as Netflix, Prime Video, Hulu and Chromecast.Every room is equipped with an Amazon Echo and Alexa AI to assist with playing music; powering the television; setting clock, timer and volume controls; answering questions; adjusting the curtains, lighting and heating and air-conditioning; and enabling privacy settings such as housekeeping and do not disturb notifications.Generously sized bathrooms offer separate showers and deep-soaking tubs, dual sinks, marble floors, seated vanity areas with lighted mirrors and flat-screen, high-definition televisions and our signature slippers, available throughout your stay.Each one of the 671 lavishly appointed guest rooms takes an unparalleled approach to comfort and design. Encore Boston Harbor bears the Forbes Travel Guide Five-Star distinction for its hotel and spa, the largest regional resort casino outside of Las Vegas and the largest resort on the East Coast to be awarded the honor.',\n",
       "  'Features': ['650-square-foot room',\n",
       "   '55-inch flat-screen 4K Ultra HDTV in bedroom',\n",
       "   'Executive desk area with high-speed wireless internet access',\n",
       "   'Bedside phone with dual lines and speaker',\n",
       "   'Double Encore Dream Beds with 507-thread-count linens',\n",
       "   'Voice-activated device to control curtains, lighting, heating and air conditioning, room service, and privacy settings',\n",
       "   'Signature Wynn Resorts slippers',\n",
       "   'Wireless, detachable bedside iPad for one-touch access to room controls, guest services, digital media, and resort information',\n",
       "   'In-room laptop safe and stocked mini-bar',\n",
       "   'Spacious marble bathroom with separate shower and soaking tub, dual sinks, and 24-inch flat-screen HDTV',\n",
       "   'Seated vanity with lighted mirror',\n",
       "   'Iron, ironing board, hairdryer, and umbrella',\n",
       "   'Connecting rooms available']}}"
      ]
     },
     "execution_count": 259,
     "metadata": {},
     "output_type": "execute_result"
    }
   ],
   "source": [
    "room_dict"
   ]
  },
  {
   "cell_type": "markdown",
   "id": "fdedcf0e",
   "metadata": {},
   "source": [
    "# Code of  Web scraping data of encore suites , A dictionary is made for each type/kind of suite\n",
    "\n",
    "## Further made a dictionary with keys as (Preview , Overview , Details , Features) for each room type of room\n",
    "\n",
    "### The whole data of the rooms is saved in dictionary named suite_dict "
   ]
  },
  {
   "cell_type": "code",
   "execution_count": 260,
   "id": "3890eaae",
   "metadata": {},
   "outputs": [],
   "source": [
    "suite_template = {\n",
    "    'Preview' : '',\n",
    "    'Overview': '',\n",
    "    'Details': '',\n",
    "    'Features': ''\n",
    "}\n",
    "# Createing a dictionary with Encore_Rooms as keys and the template as values\n",
    "suite_dict = {suite: suite_template.copy() for suite in Encore_Suites}"
   ]
  },
  {
   "cell_type": "code",
   "execution_count": 261,
   "id": "9e9894c1",
   "metadata": {},
   "outputs": [],
   "source": [
    "listed_suite_features_Signature_Suite = [\n",
    "    \"1,350-square-foot suite\",\n",
    "    \"King Encore Dream Bed with 507-thread-count linens\",\n",
    "    \"Entry foyer with powder room\",\n",
    "    \"Separate living room area with 65-inch flat-screen 4K Ultra HDTV and On Demand movies\",\n",
    "    \"Executive desk area with high-speed wireless internet access\",\n",
    "    \"Bedside phone with dual lines and speaker\",\n",
    "    \"Walk-through luggage and wardrobe closet leading to vanity seating area with a lighted mirror\",\n",
    "    \"Signature Wynn Resorts robes\",\n",
    "    \"55-inch flat-screen 4K Ultra HDTV in bedroom\",\n",
    "    \"Bedside mobile charging device\",\n",
    "    \"Wireless, detachable bedside iPad for one-touch access to room controls, guest services, digital media, and resort information\",\n",
    "    \"Voice-activated device to control curtains, lighting, heating and air conditioning, room service, and privacy settings\",\n",
    "    \"In-room laptop safe and stocked mini-bar\",\n",
    "    \"Iron, ironing board, hairdryer, and umbrella\",\n",
    "    \"Spacious marble bathroom with a separate shower and soaking tub, dual sinks, and 24-inch flat-screen HDTV\"\n",
    "]\n",
    "\n",
    "listed_suite_features_Signature_Harbor_View_Suite = [\n",
    "    \"1,350-square-foot suite with views of Boston Harbor and the city skyline\",\n",
    "    \"King Encore Dream Bed with 507-thread-count linens\",\n",
    "    \"Entry foyer with powder room\",\n",
    "    \"Separate living room area with 65-inch flat-screen 4K Ultra HDTV and On Demand movies\",\n",
    "    \"Executive desk area with high-speed wireless internet access\",\n",
    "    \"Bedside phone with dual lines and speaker\",\n",
    "    \"Bedside mobile charging device\",\n",
    "    \"In-room laptop safe and stocked mini-bar\",\n",
    "    \"55-inch flat-screen 4K Ultra HDTV in bedroom\",\n",
    "    \"Spacious marble bathroom with a separate shower and soaking tub, dual sinks, and 24-inch flat-screen HDTV\",\n",
    "    \"Walk-through luggage and wardrobe closet leading to a vanity seating area with a lighted mirror\",\n",
    "    \"Signature Wynn Resorts robes\",\n",
    "    \"Iron, ironing board, hairdryer, and umbrella\",\n",
    "    \"Wireless, detachable bedside iPad for one-touch access to room controls, guest services, digital media, and resort information\",\n",
    "    \"Voice-activated device to control curtains, lighting, heating and air conditioning, room service, and privacy settings\"\n",
    "]\n",
    "\n",
    "listed_suite_features_Two_Bedroom_Residence = [\n",
    "    \"3,350-square-foot suite with views of Boston Harbor and the city skyline\",\n",
    "    \"Entry foyer with powder room\",\n",
    "    \"Separate living room area with 75-inch flat-screen 4K Ultra HDTV and On Demand movies\",\n",
    "    \"King Encore Dream Bed with 507-thread-count linens\",\n",
    "    \"40-inch pop-up television in bedroom\",\n",
    "    \"Executive desk area with high-speed wireless internet access\",\n",
    "    \"Bedside phone with dual lines and speaker\",\n",
    "    \"Bedside mobile charging device\",\n",
    "    \"Spacious marble bathroom with a separate shower and soaking tub, dual sinks, and 24-inch flat-screen HDTV\",\n",
    "    \"Signature Wynn Resorts robes\",\n",
    "    \"Wireless, detachable bedside iPad for one-touch access to room controls, guest services, digital media, and resort information\",\n",
    "    \"Voice-activated device to control curtains, lighting, heating and air conditioning, room service, and privacy settings\",\n",
    "    \"Walk-in closets in both bedrooms\",\n",
    "    \"Iron, ironing board, hairdryer, and umbrella\",\n",
    "    \"In-room laptop safe and stocked mini-bar\"\n",
    "]"
   ]
  },
  {
   "cell_type": "code",
   "execution_count": 262,
   "id": "58e2ea07",
   "metadata": {},
   "outputs": [],
   "source": [
    "suite_dict['Signature Suite']['Preview'] = \"THE LARGEST STANDARD SUITE IN NEW ENGLAND\"\n",
    "suite_dict['Signature Suite']['Overview'] = \"The 1,350 square-foot Signature Suite is the perfect one-bedroom retreat for concentration or relaxation.\"\n",
    "suite_dict['Signature Suite']['Details'] = \"Featuring bright, neutral décor with natural light from floor-to-ceiling windows, Encore Boston Harbor boasts the largest hotel accommodations in New England. The 1,350-square-foot Signature Suite blends every comfort imaginable with a design that exudes elegance and convenience.Enter the living and dining area through an entry foyer with its own powder room. The room configuration creates different environments for both business and leisure. Corner banquette seating with a dining table and two chairs can be used for meetings or a lavish in-room dining spread for a quiet dinner. A sofa with an adjacent swivel chair is the perfect place to decompress from a busy day; and an executive desk with a chair is the dedicated space to get last minute work done.In the bedroom, the exclusive King Encore Dream Bed is dressed in 507-thread-count linens. Tech-friendly essentials include a 65-inch 4K Ultra HDTV in the living room and a 55-inch 4K Ultra HDTV in the bedroom; bedside mobile-charging devices; and a wireless iPad for one-touch access to room controls, guest services, resort information and access to all your favorite digital media, including streaming services such as Netflix, Prime Video, Hulu and Chromecast.Every room is equipped with an Amazon Echo and Alexa AI to assist with playing music; powering the television; setting clock, timer and volume controls; answering questions; adjusting the curtains, lighting and heating and air-conditioning; and enabling privacy settings such as housekeeping and do not disturb notifications.The expansive bathroom features a separate shower and deep-soaking tub, dual sinks, marble floors, seated vanity areas with lighted mirrors and 24-inch flat-screen HDTV. Slip into our signature robes and slippers, available throughout your stay.Within the 671 lavishly appointed guest rooms, find an unparalleled approach to comfort and design. Encore Boston Harbor bears the Forbes Travel Guide Five-Star distinction for its hotel and spa, the largest regional resort casino outside of Las Vegas and the largest resort on the East Coast to be awarded the honor.Additional connecting room available subject to rates and availability.Floor plans of the Signature Suite at Encore Boston Harbor\"\n",
    "suite_dict['Signature Suite']['Features'] = listed_suite_features_Signature_Suite "
   ]
  },
  {
   "cell_type": "code",
   "execution_count": 263,
   "id": "823ff1ee",
   "metadata": {},
   "outputs": [],
   "source": [
    "suite_dict['Signature Harbor View Suite']['Preview'] = \"THE LARGEST STANDARD SUITE IN NEW ENGLAND\"\n",
    "suite_dict['Signature Harbor View Suite']['Overview'] = \"The 1,350 square-foot Signature Suite is the perfect one-bedroom retreat for concentration or relaxation.\"\n",
    "suite_dict['Signature Harbor View Suite']['Details'] = \"Featuring bright, neutral décor with natural light from floor-to-ceiling windows with views spanning Boston Harbor and the city skyline, Encore Boston Harbor boasts the largest hotel accommodations in New England. The 1,350-square-foot Signature Harbor View Suite blends every comfort imaginable with a design that exudes elegance and convenience.Enter the living and dining area through an entry foyer with its own powder room. The room configuration creates different environments for both business and leisure. Corner banquette seating with a dining table and two chairs can be used for meetings or a lavish in-room dining spread for a quiet dinner. A sofa with an adjacent swivel chair is the perfect place to decompress from a busy day; and an executive desk with a chair is the dedicated space to get last minute work done.In the bedroom, the exclusive King Encore Dream Bed is dressed in 507-thread-count linens. Tech-friendly essentials include a 65-inch 4K Ultra HDTV in the living room and a 55-inch 4K Ultra HDTV in the bedroom; bedside mobile-charging devices; and a wireless iPad for one-touch access to room controls, guest services, resort information and access to all your favorite digital media, including streaming services such as Netflix, Prime Video, Hulu and Chromecast.Every room is equipped with an Amazon Echo and Alexa AI to assist with playing music; powering the television; setting clock, timer and volume controls; answering questions; adjusting the curtains, lighting and heating and air-conditioning; and enabling privacy settings such as housekeeping and do not disturb notifications.The expansive bathroom features a separate shower and deep-soaking tub, dual sinks, marble floors, seated vanity areas with lighted mirrors and 24-inch flat-screen HDTV. Slip into our signature robes and slippers, available throughout your stay.Within the 671 lavishly appointed guest rooms, find an unparalleled approach to comfort and design. Encore Boston Harbor bears the Forbes Travel Guide Five-Star distinction for its hotel and spa, the largest regional resort casino outside of Las Vegas and the largest resort on the East Coast to be awarded the honor.Additional connecting room available subject to rates and availability\"\n",
    "suite_dict['Signature Harbor View Suite']['Features'] = listed_suite_features_Signature_Harbor_View_Suite "
   ]
  },
  {
   "cell_type": "code",
   "execution_count": 264,
   "id": "728fbe3b",
   "metadata": {},
   "outputs": [],
   "source": [
    "suite_dict['Two-Bedroom Residence']['Preview'] = \"THE ULTIMATE EXPERIENCE\"\n",
    "suite_dict['Two-Bedroom Residence']['Overview'] = \"Our Two-Bedroom Residence measures 3,350 square feet and offers stunning views of Boston Harbor and the city skyline.\"\n",
    "suite_dict['Two-Bedroom Residence']['Details'] = \"The ultimate experience, our Two-Bedroom Residence measures 3,350 square feet and offers stunning views of Boston Harbor and the city skyline.This space starts with a guest powder room in the foyer leading into a living and dining area with seating for eight and a granite wet bar. Each corner bedroom offers panoramic views via floor-to-ceiling windows, as well as our King Encore Dream Bed, dressed in 507-thread-count linens. Tech-friendly amenities include a 75-inch 4K ultra HDTV in the living area and a 40-inch pop-up 4K ultra HDTV at the foot of each bed, as well as bedside mobile-charging devices and wireless iPads for one-touch access to room controls, guest services and resort information.Each bedroom’s bathroom includes a separate shower and deep-soaking air bubble tub, dual sinks, seated vanity area and 24-inch flat-screen HDTV.\"\n",
    "suite_dict['Two-Bedroom Residence']['Features'] = listed_suite_features_Two_Bedroom_Residence"
   ]
  },
  {
   "cell_type": "code",
   "execution_count": 265,
   "id": "54c798e5",
   "metadata": {},
   "outputs": [
    {
     "data": {
      "text/plain": [
       "{'Signature Suite': {'Preview': 'THE LARGEST STANDARD SUITE IN NEW ENGLAND',\n",
       "  'Overview': 'The 1,350 square-foot Signature Suite is the perfect one-bedroom retreat for concentration or relaxation.',\n",
       "  'Details': 'Featuring bright, neutral décor with natural light from floor-to-ceiling windows, Encore Boston Harbor boasts the largest hotel accommodations in New England. The 1,350-square-foot Signature Suite blends every comfort imaginable with a design that exudes elegance and convenience.Enter the living and dining area through an entry foyer with its own powder room. The room configuration creates different environments for both business and leisure. Corner banquette seating with a dining table and two chairs can be used for meetings or a lavish in-room dining spread for a quiet dinner. A sofa with an adjacent swivel chair is the perfect place to decompress from a busy day; and an executive desk with a chair is the dedicated space to get last minute work done.In the bedroom, the exclusive King Encore Dream Bed is dressed in 507-thread-count linens. Tech-friendly essentials include a 65-inch 4K Ultra HDTV in the living room and a 55-inch 4K Ultra HDTV in the bedroom; bedside mobile-charging devices; and a wireless iPad for one-touch access to room controls, guest services, resort information and access to all your favorite digital media, including streaming services such as Netflix, Prime Video, Hulu and Chromecast.Every room is equipped with an Amazon Echo and Alexa AI to assist with playing music; powering the television; setting clock, timer and volume controls; answering questions; adjusting the curtains, lighting and heating and air-conditioning; and enabling privacy settings such as housekeeping and do not disturb notifications.The expansive bathroom features a separate shower and deep-soaking tub, dual sinks, marble floors, seated vanity areas with lighted mirrors and 24-inch flat-screen HDTV. Slip into our signature robes and slippers, available throughout your stay.Within the 671 lavishly appointed guest rooms, find an unparalleled approach to comfort and design. Encore Boston Harbor bears the Forbes Travel Guide Five-Star distinction for its hotel and spa, the largest regional resort casino outside of Las Vegas and the largest resort on the East Coast to be awarded the honor.Additional connecting room available subject to rates and availability.Floor plans of the Signature Suite at Encore Boston Harbor',\n",
       "  'Features': ['1,350-square-foot suite',\n",
       "   'King Encore Dream Bed with 507-thread-count linens',\n",
       "   'Entry foyer with powder room',\n",
       "   'Separate living room area with 65-inch flat-screen 4K Ultra HDTV and On Demand movies',\n",
       "   'Executive desk area with high-speed wireless internet access',\n",
       "   'Bedside phone with dual lines and speaker',\n",
       "   'Walk-through luggage and wardrobe closet leading to vanity seating area with a lighted mirror',\n",
       "   'Signature Wynn Resorts robes',\n",
       "   '55-inch flat-screen 4K Ultra HDTV in bedroom',\n",
       "   'Bedside mobile charging device',\n",
       "   'Wireless, detachable bedside iPad for one-touch access to room controls, guest services, digital media, and resort information',\n",
       "   'Voice-activated device to control curtains, lighting, heating and air conditioning, room service, and privacy settings',\n",
       "   'In-room laptop safe and stocked mini-bar',\n",
       "   'Iron, ironing board, hairdryer, and umbrella',\n",
       "   'Spacious marble bathroom with a separate shower and soaking tub, dual sinks, and 24-inch flat-screen HDTV']},\n",
       " 'Signature Harbor View Suite': {'Preview': 'THE LARGEST STANDARD SUITE IN NEW ENGLAND',\n",
       "  'Overview': 'The 1,350 square-foot Signature Suite is the perfect one-bedroom retreat for concentration or relaxation.',\n",
       "  'Details': 'Featuring bright, neutral décor with natural light from floor-to-ceiling windows with views spanning Boston Harbor and the city skyline, Encore Boston Harbor boasts the largest hotel accommodations in New England. The 1,350-square-foot Signature Harbor View Suite blends every comfort imaginable with a design that exudes elegance and convenience.Enter the living and dining area through an entry foyer with its own powder room. The room configuration creates different environments for both business and leisure. Corner banquette seating with a dining table and two chairs can be used for meetings or a lavish in-room dining spread for a quiet dinner. A sofa with an adjacent swivel chair is the perfect place to decompress from a busy day; and an executive desk with a chair is the dedicated space to get last minute work done.In the bedroom, the exclusive King Encore Dream Bed is dressed in 507-thread-count linens. Tech-friendly essentials include a 65-inch 4K Ultra HDTV in the living room and a 55-inch 4K Ultra HDTV in the bedroom; bedside mobile-charging devices; and a wireless iPad for one-touch access to room controls, guest services, resort information and access to all your favorite digital media, including streaming services such as Netflix, Prime Video, Hulu and Chromecast.Every room is equipped with an Amazon Echo and Alexa AI to assist with playing music; powering the television; setting clock, timer and volume controls; answering questions; adjusting the curtains, lighting and heating and air-conditioning; and enabling privacy settings such as housekeeping and do not disturb notifications.The expansive bathroom features a separate shower and deep-soaking tub, dual sinks, marble floors, seated vanity areas with lighted mirrors and 24-inch flat-screen HDTV. Slip into our signature robes and slippers, available throughout your stay.Within the 671 lavishly appointed guest rooms, find an unparalleled approach to comfort and design. Encore Boston Harbor bears the Forbes Travel Guide Five-Star distinction for its hotel and spa, the largest regional resort casino outside of Las Vegas and the largest resort on the East Coast to be awarded the honor.Additional connecting room available subject to rates and availability',\n",
       "  'Features': ['1,350-square-foot suite with views of Boston Harbor and the city skyline',\n",
       "   'King Encore Dream Bed with 507-thread-count linens',\n",
       "   'Entry foyer with powder room',\n",
       "   'Separate living room area with 65-inch flat-screen 4K Ultra HDTV and On Demand movies',\n",
       "   'Executive desk area with high-speed wireless internet access',\n",
       "   'Bedside phone with dual lines and speaker',\n",
       "   'Bedside mobile charging device',\n",
       "   'In-room laptop safe and stocked mini-bar',\n",
       "   '55-inch flat-screen 4K Ultra HDTV in bedroom',\n",
       "   'Spacious marble bathroom with a separate shower and soaking tub, dual sinks, and 24-inch flat-screen HDTV',\n",
       "   'Walk-through luggage and wardrobe closet leading to a vanity seating area with a lighted mirror',\n",
       "   'Signature Wynn Resorts robes',\n",
       "   'Iron, ironing board, hairdryer, and umbrella',\n",
       "   'Wireless, detachable bedside iPad for one-touch access to room controls, guest services, digital media, and resort information',\n",
       "   'Voice-activated device to control curtains, lighting, heating and air conditioning, room service, and privacy settings']},\n",
       " 'Two-Bedroom Residence': {'Preview': 'THE ULTIMATE EXPERIENCE',\n",
       "  'Overview': 'Our Two-Bedroom Residence measures 3,350 square feet and offers stunning views of Boston Harbor and the city skyline.',\n",
       "  'Details': 'The ultimate experience, our Two-Bedroom Residence measures 3,350 square feet and offers stunning views of Boston Harbor and the city skyline.This space starts with a guest powder room in the foyer leading into a living and dining area with seating for eight and a granite wet bar. Each corner bedroom offers panoramic views via floor-to-ceiling windows, as well as our King Encore Dream Bed, dressed in 507-thread-count linens. Tech-friendly amenities include a 75-inch 4K ultra HDTV in the living area and a 40-inch pop-up 4K ultra HDTV at the foot of each bed, as well as bedside mobile-charging devices and wireless iPads for one-touch access to room controls, guest services and resort information.Each bedroom’s bathroom includes a separate shower and deep-soaking air bubble tub, dual sinks, seated vanity area and 24-inch flat-screen HDTV.',\n",
       "  'Features': ['3,350-square-foot suite with views of Boston Harbor and the city skyline',\n",
       "   'Entry foyer with powder room',\n",
       "   'Separate living room area with 75-inch flat-screen 4K Ultra HDTV and On Demand movies',\n",
       "   'King Encore Dream Bed with 507-thread-count linens',\n",
       "   '40-inch pop-up television in bedroom',\n",
       "   'Executive desk area with high-speed wireless internet access',\n",
       "   'Bedside phone with dual lines and speaker',\n",
       "   'Bedside mobile charging device',\n",
       "   'Spacious marble bathroom with a separate shower and soaking tub, dual sinks, and 24-inch flat-screen HDTV',\n",
       "   'Signature Wynn Resorts robes',\n",
       "   'Wireless, detachable bedside iPad for one-touch access to room controls, guest services, digital media, and resort information',\n",
       "   'Voice-activated device to control curtains, lighting, heating and air conditioning, room service, and privacy settings',\n",
       "   'Walk-in closets in both bedrooms',\n",
       "   'Iron, ironing board, hairdryer, and umbrella',\n",
       "   'In-room laptop safe and stocked mini-bar']}}"
      ]
     },
     "execution_count": 265,
     "metadata": {},
     "output_type": "execute_result"
    }
   ],
   "source": [
    "suite_dict"
   ]
  },
  {
   "cell_type": "code",
   "execution_count": 125,
   "id": "e9331a05",
   "metadata": {},
   "outputs": [],
   "source": [
    "answers = []\n",
    "for i in soup.find_all('p')[4:1]:\n",
    "    answers.append(i.text.strip())"
   ]
  },
  {
   "cell_type": "code",
   "execution_count": 126,
   "id": "dc8ae353",
   "metadata": {},
   "outputs": [
    {
     "data": {
      "text/plain": [
       "['Encore Boston Harbor limits occupancy in this room to a maximum of four (4) guests.',\n",
       " 'Check in is available at 4 p.m. daily.',\n",
       " 'Our published and recommended check-in time is 4 p.m. on your day of arrival. However, if we have your room/suite available, we are always happy to check the reservation in early. Please call the Front Desk at\\xa0(857) 770-4001\\xa0if you need to check-in early, as early check-in is based on availability.',\n",
       " 'Check out time is at 11 a.m. Late check out is based on availability. Please call the Front Desk at (857) 770-4001.',\n",
       " 'Smoking is not allowed inside of Encore Boston Harbor. There is a $500 deep-cleaning fee charged for smoking in a guest room. Cannabis products are prohibited in guest rooms and throughout the resort.',\n",
       " 'Guests may not bring more than one (1) bottle of wine, one (1) six-pack or a fifth of liquor. Outside food (other than small snacks) and coolers are not permitted. Guests arriving with these items will be required to check them at the Bell Desk or leave them in their vehicle for the duration of their visit.',\n",
       " 'Enjoy a variety of dining options without leaving the comfort of your room. Press the In-Room Dining button on the home screen of the guestroom iPad to place an order.\\xa0For more information, please click here.',\n",
       " 'Our promise to you: The rates offered on our website are the lowest available anywhere online, guaranteed. In the unlikely event that you do find a better rate elsewhere, we promise to match it and upgrade your room. Click here to learn more.',\n",
       " 'Pets are not permitted within the resort. Guests may be accompanied by a service animal.',\n",
       " \"Cancel 72 hours prior to arrival to avoid the penalty of one night's room rate and tax. For promotional complimentary room offers that cancel or no show, a $100 fee plus taxes will be applied to the credit card provided.\"]"
      ]
     },
     "execution_count": 126,
     "metadata": {},
     "output_type": "execute_result"
    }
   ],
   "source": [
    "answers"
   ]
  },
  {
   "cell_type": "code",
   "execution_count": 127,
   "id": "6f45e3d0",
   "metadata": {},
   "outputs": [],
   "source": [
    "questions = []\n",
    "\n",
    "for i in soup.find_all('h3',class_='h3-question'):\n",
    "    questions.append(i.find('span', class_='question-title-clickable').text.strip())\n",
    "    "
   ]
  },
  {
   "cell_type": "code",
   "execution_count": 128,
   "id": "3582a699",
   "metadata": {},
   "outputs": [
    {
     "data": {
      "text/plain": [
       "['How many guests can be accommodated within the Premier Double room?',\n",
       " 'When can I check in to my room?',\n",
       " 'Can I check in early?',\n",
       " 'What time is check out?',\n",
       " 'Is smoking allowed in my room?',\n",
       " 'Are outside food and drink allowed?',\n",
       " 'Do you offer In-Room Dining?',\n",
       " 'What is the Encore Boston Harbor Rate Promise?',\n",
       " 'Is this room pet-friendly?',\n",
       " 'What if I need to cancel my reservation?']"
      ]
     },
     "execution_count": 128,
     "metadata": {},
     "output_type": "execute_result"
    }
   ],
   "source": [
    "questions"
   ]
  },
  {
   "cell_type": "code",
   "execution_count": 130,
   "id": "f40ab7bd",
   "metadata": {},
   "outputs": [],
   "source": [
    "faq_dict = dict(zip(questions, answers))\n",
    "    "
   ]
  },
  {
   "cell_type": "code",
   "execution_count": 131,
   "id": "43fea599",
   "metadata": {},
   "outputs": [
    {
     "name": "stdout",
     "output_type": "stream",
     "text": [
      "\n",
      "\n"
     ]
    }
   ],
   "source": [
    "for i in soup.find_all('p',class_='info'):\n",
    "    print(i.text.strip())"
   ]
  },
  {
   "cell_type": "code",
   "execution_count": 135,
   "id": "21093baa",
   "metadata": {},
   "outputs": [
    {
     "data": {
      "text/plain": [
       "{'How many guests can be accommodated within the Premier Double room?': 'Encore Boston Harbor limits occupancy in this room to a maximum of four (4) guests.',\n",
       " 'When can I check in to my room?': 'Check in is available at 4 p.m. daily.',\n",
       " 'Can I check in early?': 'Our published and recommended check-in time is 4 p.m. on your day of arrival. However, if we have your room/suite available, we are always happy to check the reservation in early. Please call the Front Desk at\\xa0(857) 770-4001\\xa0if you need to check-in early, as early check-in is based on availability.',\n",
       " 'What time is check out?': 'Check out time is at 11 a.m. Late check out is based on availability. Please call the Front Desk at (857) 770-4001.',\n",
       " 'Is smoking allowed in my room?': 'Smoking is not allowed inside of Encore Boston Harbor. There is a $500 deep-cleaning fee charged for smoking in a guest room. Cannabis products are prohibited in guest rooms and throughout the resort.',\n",
       " 'Are outside food and drink allowed?': 'Guests may not bring more than one (1) bottle of wine, one (1) six-pack or a fifth of liquor. Outside food (other than small snacks) and coolers are not permitted. Guests arriving with these items will be required to check them at the Bell Desk or leave them in their vehicle for the duration of their visit.',\n",
       " 'Do you offer In-Room Dining?': 'Enjoy a variety of dining options without leaving the comfort of your room. Press the In-Room Dining button on the home screen of the guestroom iPad to place an order.\\xa0For more information, please click here.',\n",
       " 'What is the Encore Boston Harbor Rate Promise?': 'Our promise to you: The rates offered on our website are the lowest available anywhere online, guaranteed. In the unlikely event that you do find a better rate elsewhere, we promise to match it and upgrade your room. Click here to learn more.',\n",
       " 'Is this room pet-friendly?': 'Pets are not permitted within the resort. Guests may be accompanied by a service animal.',\n",
       " 'What if I need to cancel my reservation?': \"Cancel 72 hours prior to arrival to avoid the penalty of one night's room rate and tax. For promotional complimentary room offers that cancel or no show, a $100 fee plus taxes will be applied to the credit card provided.\"}"
      ]
     },
     "execution_count": 135,
     "metadata": {},
     "output_type": "execute_result"
    }
   ],
   "source": [
    "faq_dict"
   ]
  },
  {
   "cell_type": "code",
   "execution_count": 133,
   "id": "1fcac69f",
   "metadata": {},
   "outputs": [],
   "source": [
    "faq_df = pd.DataFrame(list(faq_dict.items()), columns=[\"Question\", \"Answer\"])"
   ]
  },
  {
   "cell_type": "code",
   "execution_count": 134,
   "id": "101cab90",
   "metadata": {},
   "outputs": [
    {
     "data": {
      "text/html": [
       "<div>\n",
       "<style scoped>\n",
       "    .dataframe tbody tr th:only-of-type {\n",
       "        vertical-align: middle;\n",
       "    }\n",
       "\n",
       "    .dataframe tbody tr th {\n",
       "        vertical-align: top;\n",
       "    }\n",
       "\n",
       "    .dataframe thead th {\n",
       "        text-align: right;\n",
       "    }\n",
       "</style>\n",
       "<table border=\"1\" class=\"dataframe\">\n",
       "  <thead>\n",
       "    <tr style=\"text-align: right;\">\n",
       "      <th></th>\n",
       "      <th>Question</th>\n",
       "      <th>Answer</th>\n",
       "    </tr>\n",
       "  </thead>\n",
       "  <tbody>\n",
       "    <tr>\n",
       "      <th>0</th>\n",
       "      <td>How many guests can be accommodated within the...</td>\n",
       "      <td>Encore Boston Harbor limits occupancy in this ...</td>\n",
       "    </tr>\n",
       "    <tr>\n",
       "      <th>1</th>\n",
       "      <td>When can I check in to my room?</td>\n",
       "      <td>Check in is available at 4 p.m. daily.</td>\n",
       "    </tr>\n",
       "    <tr>\n",
       "      <th>2</th>\n",
       "      <td>Can I check in early?</td>\n",
       "      <td>Our published and recommended check-in time is...</td>\n",
       "    </tr>\n",
       "    <tr>\n",
       "      <th>3</th>\n",
       "      <td>What time is check out?</td>\n",
       "      <td>Check out time is at 11 a.m. Late check out is...</td>\n",
       "    </tr>\n",
       "    <tr>\n",
       "      <th>4</th>\n",
       "      <td>Is smoking allowed in my room?</td>\n",
       "      <td>Smoking is not allowed inside of Encore Boston...</td>\n",
       "    </tr>\n",
       "    <tr>\n",
       "      <th>5</th>\n",
       "      <td>Are outside food and drink allowed?</td>\n",
       "      <td>Guests may not bring more than one (1) bottle ...</td>\n",
       "    </tr>\n",
       "    <tr>\n",
       "      <th>6</th>\n",
       "      <td>Do you offer In-Room Dining?</td>\n",
       "      <td>Enjoy a variety of dining options without leav...</td>\n",
       "    </tr>\n",
       "    <tr>\n",
       "      <th>7</th>\n",
       "      <td>What is the Encore Boston Harbor Rate Promise?</td>\n",
       "      <td>Our promise to you: The rates offered on our w...</td>\n",
       "    </tr>\n",
       "    <tr>\n",
       "      <th>8</th>\n",
       "      <td>Is this room pet-friendly?</td>\n",
       "      <td>Pets are not permitted within the resort. Gues...</td>\n",
       "    </tr>\n",
       "    <tr>\n",
       "      <th>9</th>\n",
       "      <td>What if I need to cancel my reservation?</td>\n",
       "      <td>Cancel 72 hours prior to arrival to avoid the ...</td>\n",
       "    </tr>\n",
       "  </tbody>\n",
       "</table>\n",
       "</div>"
      ],
      "text/plain": [
       "                                            Question  \\\n",
       "0  How many guests can be accommodated within the...   \n",
       "1                    When can I check in to my room?   \n",
       "2                              Can I check in early?   \n",
       "3                            What time is check out?   \n",
       "4                     Is smoking allowed in my room?   \n",
       "5                Are outside food and drink allowed?   \n",
       "6                       Do you offer In-Room Dining?   \n",
       "7     What is the Encore Boston Harbor Rate Promise?   \n",
       "8                         Is this room pet-friendly?   \n",
       "9           What if I need to cancel my reservation?   \n",
       "\n",
       "                                              Answer  \n",
       "0  Encore Boston Harbor limits occupancy in this ...  \n",
       "1             Check in is available at 4 p.m. daily.  \n",
       "2  Our published and recommended check-in time is...  \n",
       "3  Check out time is at 11 a.m. Late check out is...  \n",
       "4  Smoking is not allowed inside of Encore Boston...  \n",
       "5  Guests may not bring more than one (1) bottle ...  \n",
       "6  Enjoy a variety of dining options without leav...  \n",
       "7  Our promise to you: The rates offered on our w...  \n",
       "8  Pets are not permitted within the resort. Gues...  \n",
       "9  Cancel 72 hours prior to arrival to avoid the ...  "
      ]
     },
     "execution_count": 134,
     "metadata": {},
     "output_type": "execute_result"
    }
   ],
   "source": [
    "faq_df"
   ]
  },
  {
   "cell_type": "code",
   "execution_count": null,
   "id": "64148e8c",
   "metadata": {},
   "outputs": [],
   "source": []
  },
  {
   "cell_type": "code",
   "execution_count": null,
   "id": "88d7d576",
   "metadata": {},
   "outputs": [],
   "source": []
  },
  {
   "cell_type": "code",
   "execution_count": null,
   "id": "e843336b",
   "metadata": {},
   "outputs": [],
   "source": []
  },
  {
   "cell_type": "code",
   "execution_count": null,
   "id": "f7cfab0c",
   "metadata": {},
   "outputs": [],
   "source": []
  },
  {
   "cell_type": "code",
   "execution_count": null,
   "id": "d7127621",
   "metadata": {},
   "outputs": [],
   "source": []
  }
 ],
 "metadata": {
  "kernelspec": {
   "display_name": "Python 3 (ipykernel)",
   "language": "python",
   "name": "python3"
  },
  "language_info": {
   "codemirror_mode": {
    "name": "ipython",
    "version": 3
   },
   "file_extension": ".py",
   "mimetype": "text/x-python",
   "name": "python",
   "nbconvert_exporter": "python",
   "pygments_lexer": "ipython3",
   "version": "3.11.4"
  }
 },
 "nbformat": 4,
 "nbformat_minor": 5
}
