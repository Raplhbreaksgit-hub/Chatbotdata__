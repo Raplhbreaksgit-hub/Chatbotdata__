{
 "cells": [
  {
   "cell_type": "code",
   "execution_count": 1,
   "id": "5b3f9d38",
   "metadata": {},
   "outputs": [],
   "source": [
    "import pandas as pd\n",
    "import requests\n",
    "from bs4 import BeautifulSoup"
   ]
  },
  {
   "cell_type": "code",
   "execution_count": 2,
   "id": "eed5ee9e",
   "metadata": {},
   "outputs": [],
   "source": [
    "webpage = requests.get('https://www.encorebostonharbor.com/casino/poker').text\n",
    "soup = BeautifulSoup(webpage,'lxml')"
   ]
  },
  {
   "cell_type": "code",
   "execution_count": 3,
   "id": "05a03acc",
   "metadata": {},
   "outputs": [
    {
     "data": {
      "text/plain": [
       "['Where is the poker room located?',\n",
       " 'What are the hours of operation?',\n",
       " 'Where should I park for easy access to the poker room?']"
      ]
     },
     "execution_count": 3,
     "metadata": {},
     "output_type": "execute_result"
    }
   ],
   "source": [
    "questions_PRT = []\n",
    "\n",
    "for i in soup.find_all('div',class_='questions-title'):\n",
    "    questions_PRT.append(i.find('span', class_='question-title-clickable').text.strip())\n",
    "\n",
    "questions_PRT"
   ]
  },
  {
   "cell_type": "code",
   "execution_count": 5,
   "id": "fefc3df1",
   "metadata": {},
   "outputs": [
    {
     "data": {
      "text/plain": [
       "['The poker room is located in center section of The Loft, on the second floor mezzanine level.',\n",
       " 'The poker room is open 24 hours daily.',\n",
       " 'For easiest access to our Poker Room, park at the Casino North entrance and take the elevator the the mezzanine level.']"
      ]
     },
     "execution_count": 5,
     "metadata": {},
     "output_type": "execute_result"
    }
   ],
   "source": [
    "answers_PRT = []\n",
    "for i in soup.find_all('p'):\n",
    "    answers_PRT.append(i.text.strip())\n",
    "\n",
    "answers_PRT = [i for i in answers_PRT if i != ''][3:6]\n",
    "answers_PRT"
   ]
  },
  {
   "cell_type": "code",
   "execution_count": 8,
   "id": "c0196c33",
   "metadata": {},
   "outputs": [],
   "source": [
    "faq_dict_casino = dict(zip(questions_PRT,answers_PRT))"
   ]
  },
  {
   "cell_type": "code",
   "execution_count": 9,
   "id": "844c08b3",
   "metadata": {},
   "outputs": [
    {
     "data": {
      "text/html": [
       "<div>\n",
       "<style scoped>\n",
       "    .dataframe tbody tr th:only-of-type {\n",
       "        vertical-align: middle;\n",
       "    }\n",
       "\n",
       "    .dataframe tbody tr th {\n",
       "        vertical-align: top;\n",
       "    }\n",
       "\n",
       "    .dataframe thead th {\n",
       "        text-align: right;\n",
       "    }\n",
       "</style>\n",
       "<table border=\"1\" class=\"dataframe\">\n",
       "  <thead>\n",
       "    <tr style=\"text-align: right;\">\n",
       "      <th></th>\n",
       "      <th>Question</th>\n",
       "      <th>Answer</th>\n",
       "    </tr>\n",
       "  </thead>\n",
       "  <tbody>\n",
       "    <tr>\n",
       "      <th>0</th>\n",
       "      <td>Where is the poker room located?</td>\n",
       "      <td>The poker room is located in center section of...</td>\n",
       "    </tr>\n",
       "    <tr>\n",
       "      <th>1</th>\n",
       "      <td>What are the hours of operation?</td>\n",
       "      <td>The poker room is open 24 hours daily.</td>\n",
       "    </tr>\n",
       "    <tr>\n",
       "      <th>2</th>\n",
       "      <td>Where should I park for easy access to the pok...</td>\n",
       "      <td>For easiest access to our Poker Room, park at ...</td>\n",
       "    </tr>\n",
       "  </tbody>\n",
       "</table>\n",
       "</div>"
      ],
      "text/plain": [
       "                                            Question  \\\n",
       "0                   Where is the poker room located?   \n",
       "1                   What are the hours of operation?   \n",
       "2  Where should I park for easy access to the pok...   \n",
       "\n",
       "                                              Answer  \n",
       "0  The poker room is located in center section of...  \n",
       "1             The poker room is open 24 hours daily.  \n",
       "2  For easiest access to our Poker Room, park at ...  "
      ]
     },
     "execution_count": 9,
     "metadata": {},
     "output_type": "execute_result"
    }
   ],
   "source": [
    "Casino_df = pd.DataFrame(list(faq_dict_casino.items()), columns=[\"Question\", \"Answer\"])\n",
    "Casino_df"
   ]
  },
  {
   "cell_type": "code",
   "execution_count": null,
   "id": "8ca8f648",
   "metadata": {},
   "outputs": [],
   "source": []
  }
 ],
 "metadata": {
  "kernelspec": {
   "display_name": "Python 3 (ipykernel)",
   "language": "python",
   "name": "python3"
  },
  "language_info": {
   "codemirror_mode": {
    "name": "ipython",
    "version": 3
   },
   "file_extension": ".py",
   "mimetype": "text/x-python",
   "name": "python",
   "nbconvert_exporter": "python",
   "pygments_lexer": "ipython3",
   "version": "3.11.4"
  }
 },
 "nbformat": 4,
 "nbformat_minor": 5
}
