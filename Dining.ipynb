{
 "cells": [
  {
   "cell_type": "code",
   "execution_count": 1,
   "id": "6fdad108",
   "metadata": {},
   "outputs": [],
   "source": [
    "dining = [\n",
    "    {'DINING': [\"Rare Steakhouse\", \"On Deck\", \"Red 8\", \"Cheese Meet Wine\", \"Night Shift Brewing Kitchen & Tap\", \"Mystique\", \"Fratelli\", \"In-Room Dining\"]},\n",
    "    {'FAST CASUAL': [\"Frank & Nick's\", \"Shake Shack\", \"Dunkin'\"]},\n",
    "    {'BARS AND LOUNGES': [\"WynnBET Sportsbook\", \"Rare Lounge\", \"Center Bar\", \"Mémoire\", \"Mystique Lounge\"]}\n",
    "]"
   ]
  },
  {
   "cell_type": "code",
   "execution_count": 3,
   "id": "cea87bea",
   "metadata": {},
   "outputs": [],
   "source": [
    "dining_dict = {restaurant: {'description': None, 'Hours of Operation': None, 'Dress Code': None, 'Telephone Number': None, 'Location': None} for category in dining for restaurant in category.get(list(category.keys())[0])}"
   ]
  },
  {
   "cell_type": "code",
   "execution_count": 5,
   "id": "800ba3d1",
   "metadata": {},
   "outputs": [],
   "source": [
    "dining_dict['Rare Steakhouse'] = {\n",
    "    'description': 'Rare Steakhouse at Encore Boston Harbor redefines the classic steakhouse experience. Rare features the most uniquely curated steak program in New England, including exclusive Japanese cuts from Kobe and the Kagoshima prefecture, as well as American wagyu. Our aged steaks and chops are procured from the finest Midwestern ranchers.\\n\\nOne of less than 10 restaurants nationwide with true Kobe beef, Rare is the sole registered Kobe Beef Federation user in Massachusetts. Steaks are aged in our custom-built dry aging cabinet and served alongside a choice of creatively inspired side dishes. Additionally, a sommelier curated wine list, hard-to-find bourbons, scotch and cognac selections round out the menu for the perfect steakhouse experience.\\n\\nA carefully curated 700-label wine list is a wine lovers’ playground with selections from around the world, focusing on renowned winemakers and coveted grapes from California and France. The list is a perfect complement to the offerings of expertly charred steaks, hard-to-find Japanese Wagyu, including Kobe beef from the Hyogo Prefecture and Sanuki olive beef from the Seto Inland Sea and fresh local seafood.\\n\\nNamed after the ideal temperature to enjoy steak, Rare’s elegant dining room showcases stunning views overlooking the Harborwalk and Mystic River. The gold-and-cream decor is a stunning departure from the dark-toned hues for which steakhouses are known. Contemporary chairs and spacious tables add to the chic and glamorous vibe. Floor-to-ceiling windows reveal an al fresco dining terrace. Rare’s intimate private dining room provides one of the most sought-after private dining experiences in the city.',\n",
    "    'Hours of Operation': 'Thursday through Sunday 5–10 p.m.',\n",
    "    'Dress Code': 'Resort elegant. Learn More\\nChildren under 5 are not permitted.',\n",
    "    'Telephone Number': '+1 (857) 770-3300',\n",
    "    'Location': 'First Floor – 1 Broadway, Everett, MA 02149',\n",
    "}"
   ]
  },
  {
   "cell_type": "code",
   "execution_count": 6,
   "id": "e343d32a",
   "metadata": {},
   "outputs": [],
   "source": [
    "dining_dict['On Deck'] = {\n",
    "    'description': \"No matter which team you root for, watching them play at On Deck means everyone's a winner for lunch and dinner. This American sports bar is the go-to for game days and comfort food—perched on the mezzanine balcony above the excitement of the casino floor. With 33 75-inch TVs and more than a dozen types of sandwiches and entrees, On Deck is a sports lover’s paradise with a competitive menu to match. For the tried-and-true fans, the Patriot® Burger for the 6X Champions is a can’t miss classic.\\n\\nFun and approachable, the finger foods we all love like tots and skins receive gourmet twists—share them or keep all for yourself. From lighter options such as salads and wraps to hearty dippers and decadent dishes, you might even call for a replay or two.\\n\\nAnd that’s all before overtime—what others call “dessert”—however, at On Deck it is an unmissable part of the festivities.\\n\\nMahogany wood and plaid carpeting punctuate the comfortable atmosphere; and a unique “living room” experience, complete with a fireplace and dedicated television, is available for parties.\\n\\nOn Deck makes game-day fare its business, so you can rally behind your team.\",\n",
    "    'Hours of Operation': 'Monday–Thursday 11:30 a.m.–10 p.m.\\nFriday 11:30 a.m.–11 p.m.\\nSaturday 8 a.m.–11 p.m.\\nSunday 8 a.m.–10 p.m.\\nBrunch Saturday and Sunday 8 a.m.–12 p.m.\\nWalk-ins only.',\n",
    "    'Dress Code': 'Casual. Learn More\\nGuests must be 21 or older to dine at On Deck.',\n",
    "    'Telephone Number': '+1 (857) 770-3320',\n",
    "    'Location': 'Second Floor – 1 Broadway, Everett, MA 02149',\n",
    "}\n"
   ]
  },
  {
   "cell_type": "code",
   "execution_count": 7,
   "id": "26206e85",
   "metadata": {},
   "outputs": [],
   "source": [
    "dining_dict['Red 8'] = {\n",
    "    'description': \"Red 8 is Encore Boston Harbor’s signature Asian restaurant for casual and celebratory dining experiences, featuring both classic dishes and the surprising, hard-to-find delicacies.\\n\\nDim sum, wok-tossed noodles, duck and seafood capture the spotlight on Red 8’s menu, which is punctuated with authentic, regional, Asian specialties. Known for serving Boston’s best Chinese food, the skillfully prepared Peking Duck comes straight from the wood-fire oven and the whole steamed fish presentation is a feast for the eyes and the palate. From the tank Maine Lobster or Oysters with Black Bean Sauce pair it with Yang Chow Fried Rice or hand-pulled BBQ Pork & Vegetable Chow Mein.\\n\\nThe main dining room is saturated with rich reds and layers of unique textures, including mahogany and brass accents, red crocodile walls and railings, blue and white chinoiserie, marble floors, and coved ceilings. The restaurant features two of the most exclusive private dining rooms in the city, which allow for elegant and intimate experiences, complete with glowing alabaster urns, chandeliers of Venetian Rubino glass and Lazy Susans on grand, round tables.\",\n",
    "    'Hours of Operation': 'Monday through Thursday 5–11 p.m.\\nFriday 5 p.m.–2 a.m.\\nSaturday 12 p.m.–2 a.m.\\nSunday 12 p.m.–12 a.m.\\nAvailable for Dine In or Take Out.',\n",
    "    'Dress Code': 'Resort Casual. Learn More',\n",
    "    'Telephone Number': '+1 (857) 770-3388',\n",
    "    'Location': 'First Floor – 1 Broadway, Everett, MA 02149',\n",
    "}\n"
   ]
  },
  {
   "cell_type": "code",
   "execution_count": 8,
   "id": "4cab665d",
   "metadata": {},
   "outputs": [],
   "source": [
    "dining_dict['Cheese Meet Wine'] = {\n",
    "    'description': \"Make a date for Cheese Meet Wine and enjoy a robust selection of charcuterie, cheese and wine. The upscale-casual bar and table seating accommodates all dining styles from light bites to a full meal. The adventure is yours—try one of the artfully crafted specialty boards or build our own from a curated menu of imported and domestic meat and cheese. The serving boards themselves are custom-made of exotic woods for Cheese Meet Wine. A raw bar, sandwiches, savory and sweet fondue and small bites round out the offerings.\\n\\nWatch the culinary team up close as they craft the food and wine to your liking, using a rotating roster of the best purveyors from our backyard and abroad.\\n\\nStop in before dinner for a glass of wine and a snack; make it a great date night with multiple courses over engaging conversation and a bottle of reserve; or pop by post dinner for a nightcap—Cheese Meet Wine creates an intimate experience for all eating and drinking occasions.\",\n",
    "    'Hours of Operation': 'Thursday and Sunday 4–10 p.m.\\nFriday and Saturday 4–11 p.m.\\nSunrise Menu Grab & Go Breakfast daily 7 a.m.–12 p.m.\\nValentine\\'s Day 4–10 p.m.\\nWalk-ins only.',\n",
    "    'Dress Code': 'Casual. Learn More',\n",
    "    'Telephone Number': '+1 (857) 770-3463',\n",
    "    'Location': 'First Floor – 1 Broadway, Everett, MA 02149',\n",
    "}\n"
   ]
  },
  {
   "cell_type": "code",
   "execution_count": 9,
   "id": "c7e9706a",
   "metadata": {},
   "outputs": [],
   "source": [
    "dining_dict['Night Shift Brewing Kitchen & Tap'] = {\n",
    "    'description': \"Night Shift Brewing Kitchen & Tap features elevated pub fare and an extensive list of Night Shift Brewing's locally crafted beers. Over the last decade Night Shift Brewing, started by a trio of college friends with a shared passion for homebrewing, gained fame for its high-quality craftsmanship and strong community ties. This popular craft brewer is loved by locals.\\n\\nTry all the comfortable bar-food favorites you love kicked up a notch with surprising twists. Even accented with Night Shift Brewing beer in some of the recipes. The beverage menu includes more than 20 beers on tap and a wide selection of canned beers and seltzers, including Night Shift Brewing favorites and seasonal limited editions.\\n\\nThis collaborative restaurant and bar conveys natural synergies through every sip and every bite. Unwind after a long day at this gathering spot that feels familiar and fun. Watch the game, catch up with friends and share a great beer or two, and all your favorite comfort foods created with a bit of whimsy in their preparation and presentation. Allow the knowledgeable service team to expertly guide you through the best beer and food pairings.\\n\\nMade especially for Encore Boston Harbor, don’t miss the house beer, Local Luck IPA.\",\n",
    "    'Hours of Operation': 'Friday and Saturday 5–11 p.m. Bar is open 5 p.m.–12 a.m.\\nWalk-ins only. Guests must be 21 or older after 9 p.m.',\n",
    "    'Dress Code': 'Casual. Learn More',\n",
    "    'Telephone Number': '+1 (857) 770-DINE',\n",
    "    'Location': 'First Floor – 1 Broadway, Everett, MA 02149',\n",
    "}\n"
   ]
  },
  {
   "cell_type": "code",
   "execution_count": 10,
   "id": "33db0d82",
   "metadata": {},
   "outputs": [],
   "source": [
    "dining_dict['Mystique Asian Restaurant & Lounge'] = {\n",
    "    'description': \"Mystique Asian Restaurant & Lounge is unlike anything the Northeast has experienced before. With interiors conceived by world-renowned designer Peter Niemitz, this majestic 16,400 sq. ft. space offers a glamorous open kitchen, several private dining areas, a luxury dining room, a wrap-around stone bar, and captivating waterfront views of Boston Harbor and beyond.\\n\\nYou will be transported on a mystical journey. Upon entry, you will find a plush, luxury salon and a 94-seat lounge adorned with Asian-inspired décor curated from throughout the globe.\\n\\nOur innovative menu features carefully-crafted robata, sushi selections, and an array of dishes that put a modern spin on traditional pan-Asian delicacies. Delicious appetizers like 'salt & pepper' calamari and scallion pancakes, to the robata grill's avocado bomb. Sharable favorites like tik tok chicken, sesame beef, and Singapore street noodles. For the fans of wagyu - A5 10oz Miyazaki sirloin or the aged tomahawk.\\n\\nMystique’s beverage selection has an extensive wine and champagne list, distinctive Sake selection, unique hand-crafted cocktails, and special large format 'party drinks' perfect for sharing. The lounge area offers live DJ entertainment Thursday, Friday, and Saturday night.\\n\\nMystique offers a breathtaking space, exquisite cuisine, and an attentive staff to make your special event one to remember. It is the perfect venue for your next cocktail reception, private dinner, anniversary party, rehearsal dinner, or other special celebration. For more information, email Mystique's events team at events@mystiqueboston.com or call (617) 896-5221.\\n\\n**Children under 5 are not permitted. Mystique is 21 or older starting at 8 p.m. daily.\",\n",
    "    'Hours of Operation': 'Dining Room:\\nSunday through Thursday 5–10 p.m.\\nFriday and Saturday 5–11 p.m.\\nBar & Lounge:\\nSunday through Thursday 5–11 p.m.\\nFriday and Saturday 5 p.m.–2 a.m.',\n",
    "    'Telephone Number': '+1 (857) 770-3488',\n",
    "    'Location': 'First Floor – 1 Broadway, Everett, MA 02149',\n",
    "}\n"
   ]
  },
  {
   "cell_type": "code",
   "execution_count": 11,
   "id": "d7a9f2f1",
   "metadata": {},
   "outputs": [],
   "source": [
    "dining_dict['Fratelli'] = {\n",
    "    'description': \"Fratelli, meaning brothers in Italian, is the celebration of the passion for food and hospitality shared by renowned Boston restaurateurs Frank DePasquale and Nick Varano. They met in Boston’s North End as friends and their Italian roots brought them together as family.\\n\\nReflecting the personality and culture of the neighborhood, the inviting black, white and red dining room is situated within the casino and features a lively bar where the evening’s festivities start and end. Order the Famous Espresso Martini or a glass of wine from the expansive list of Italian, French and California varietals while engaging in conversation with both old and new friends. For a more casual night, stay planted at the bar and enjoy the full menu of Italian favorites inspired by DePasquale and Varano’s annual adventures eating together along the Amalfi Coast.\\n\\nFor an elevated experience, transition into the dining room, which accommodates both intimate occasions and celebratory gatherings with warmth and sincerity. The menu showcases made-to-order pasta dishes, delicious brick oven pizza and traditional Italian specialties such as lobster fra diavolo, veal Milanese, zucchini flowers, zuppa di pesce, risotto and gnocchi alla Sorrentina.\\n\\nWith a combined 45-plus years of experience operating some of the area's top culinary destinations, the co-owners deliver the same high-quality service and food synonymous with their downtown locations. In addition to Frank and Nick’s, also at Encore Boston Harbor, the Varano Group owns/operates Strega North End, Rina’s and Nico. DePasquale Ventures owns/operates Umbria, Bricco Ristorante, Mare Oyster Bar, AquaPazza, Quattro, Assaggio, Trattoria Il Panino, Bricco Salumeria & Pasta Shop, Dolce Gelateria and Bricco Panetteria.\",\n",
    "    'Hours of Operation': 'Sunday through Thursday 4 p.m.–12 a.m.\\nFriday and Saturday 4 p.m.–2 a.m.',\n",
    "    'Dress Code': 'Proper attire required.\\nGuests must be 21 or older to dine at Fratelli.',\n",
    "    'Telephone Number': '+1 (857) 770-3480',\n",
    "    'Location': 'First Floor – 1 Broadway, Everett, MA 02149',\n",
    "}\n"
   ]
  },
  {
   "cell_type": "code",
   "execution_count": 12,
   "id": "338feb72",
   "metadata": {},
   "outputs": [],
   "source": [
    "dining_dict['In-Room Dining'] = {\n",
    "    'description': \"Enjoy a variety of dining options without leaving the comfort of your room. Start the day off with our signature buttermilk pancakes or satisfy your evening cravings with crispy chicken fingers and seashore fries.\\nFollow the three easy steps below on your guestroom iPad to try something new during your next visit.\\n\\nStep 1: Press the In-Room Dining button on the home screen.\\nStep 2: Add menu items to your cart and customize based on your preferences.\\nStep 3: Submit your order, await your contactless delivery and enjoy.\",\n",
    "    'Hours of Operation': 'Brunch | Daily | 6 a.m.–2 p.m.\\nDinner | Daily | 5–10 p.m.',\n",
    "}\n"
   ]
  },
  {
   "cell_type": "code",
   "execution_count": 13,
   "id": "68976e0d",
   "metadata": {},
   "outputs": [],
   "source": [
    "dining_dict['Frank & Nick\\'s'] = {\n",
    "    'description': \"Taste the best of Boston’s North End inside the WynnBET Sportsbook. At Frank & Nick’s, Little Italy restaurateurs Frank DePasquale and Nick Varano offer a fast-casual Italian experience.\\n\\nOrder at the counter, online, or grab-and-go. The menu includes highlights from several of Frank and Nick’s restaurants in the North End of Boston. Artisanal hot paninis such as Strega’s award-winning meatballs done Rosetta-style with whipped ricotta and marinara sauce, classic Chicken Parmigiana, and the old-fashioned Potato & Egg are served on bread from Bricco Panetteria.\\n\\nFor a quick lunch or a late-night bite, grab a slice or a whole pie of Margherita or pepperoni pizza inspired by Varano’s Rina’s Pizzeria. Signature sandwiches include the famous Panino with prosciutto, fresh mozzarella, basil, and tomatoes; and Frank & Nick’s Northshore Roast Beef slathered on an onion roll with James River BBQ Sauce.\\n\\nThe perfect accompaniment to every game day gathering, wings come Buffalo, dry-rub or barbecue. Frank & Nick’s also features a variety of salads; Italian pastries and gelato; and cappuccino, espresso, and traditional coffee options. Also available, beer, wine, soda, and DePasquale’s Bricco Espresso Martini.\\n\\nWith a combined 45-plus years of experience operating some of Boston’s top dining destinations, the co-owners deliver the same high-quality service and cuisine synonymous with their downtown locations. In addition to Fratelli — also at Encore Boston Harbor — and Frank and Nick’s, the Varano Group owns/operates Strega North End, Rina’s and Nico. DePasquale Ventures owns/operates Umbria, Bricco Ristorante, Mare Oyster Bar, AquaPazza, Quattro, Assaggio, Trattoria Il Panino, Bricco Salumeria & Pasta Shop, Dolce Gelateria and Bricco Panetteria.\",\n",
    "    'Hours of Operation': 'Sunday through Thursday 11 a.m.–12 a.m.\\nFriday and Saturday 11 a.m.–3 a.m.\\nWalk-ins only.',\n",
    "    'Dress Code': 'Proper attire required.\\nGuests must be 21 or older to dine at Frank & Nick\\'s.',\n",
    "    'Telephone Number': '+1 (857) 770-3483',\n",
    "    'Location': 'First Floor – 1 Broadway, Everett, MA 02149',\n",
    "}\n"
   ]
  },
  {
   "cell_type": "code",
   "execution_count": 14,
   "id": "b134a2bc",
   "metadata": {},
   "outputs": [],
   "source": [
    "dining_dict['Shake Shack'] = {\n",
    "    'description': \"Shake Shack is a modern day “roadside” burger stand known for its delicious 100% Angus beef burgers, crispy white-meat chicken, frozen custard, shakes, crinkle-cut fries, craft beer and wine, plus way more—with no hormones or antibiotics, ever.\",\n",
    "    'Hours of Operation': 'Sunday through Thursday 11 a.m.–12 a.m.\\nFriday and Saturday 11 a.m.–2 a.m.\\nWalk-ins only.',\n",
    "    'Dress Code': 'Proper attire required.\\nGuests must be 21 or older to dine at Shake Shack.',\n",
    "    'Telephone Number': '+1 (857) 770-3498',\n",
    "    'Location': 'First Floor – 1 Broadway, Everett, MA 02149',\n",
    "}\n"
   ]
  },
  {
   "cell_type": "code",
   "execution_count": 15,
   "id": "e9f9563a",
   "metadata": {},
   "outputs": [],
   "source": [
    "dining_dict['Dunkin\\''] = {\n",
    "    'description': \"The flagship location of the New England staple roastery Dunkin’ on the gaming floor at Encore Boston Harbor. Enjoy the dark-roasted coffee specialties and snacks for which Dunkin’ is loved.\",\n",
    "    'Hours of Operation': 'Open 24 hours daily.',\n",
    "    'Dress Code': 'Resort casual.\\nGuests must be 21+ to dine at Dunkin\\'.',\n",
    "    'Location': 'First Floor – 1 Broadway, Everett, MA 02149',\n",
    "}\n"
   ]
  },
  {
   "cell_type": "code",
   "execution_count": 16,
   "id": "08d1f11e",
   "metadata": {},
   "outputs": [],
   "source": [
    "dining_dict['WynnBET Sportsbook'] = {\n",
    "    'description': \"The premier destination in New England to place a sports wager. The sportsbook features more than 70 televisions, including a 10-foot high and 123-foot-long video wall, a collection of trophies, an installation of classical-inspired sports accessories, and a collage of historical images of local sports heroes and events, a full-service bar, and cuisine from Shake Shack and Frank & Nick’s, the second concept by Frank DePasquale and Nick Varano within the resort.\\n\\nShake Shack offerings include 100% Angus beef burgers, crispy white-meat chicken, frozen custard, shakes, crinkle-cut fries, craft beer, and wine. Frank & Nick’s offers a selection of artisanal paninis and North End favorites such as Rosetta's meatball sub, eggplant and chicken Parmigiana, and house-made roast beef paninis, in addition to brick oven pizzas, salads, and a variety of coffees and desserts. Visit to watch your favorite team on the big screen close to the gaming floor action.\",\n",
    "    'Hours of Operation': 'Venue 12 p.m.–2 a.m.\\nBetting windows:\\nMonday through Friday 3–11 p.m.\\nSaturday 10 a.m.–11 p.m.\\nSunday 9:30 a.m.–9:30 p.m.\\nSunday, February 11 9:30 a.m.–12 a.m.\\nWalk-ins only.',\n",
    "    'Telephone Number': '+1 (857) 770-3453',\n",
    "    'Location': 'First Floor – 1 Broadway, Everett, MA 02149',\n",
    "}\n"
   ]
  },
  {
   "cell_type": "code",
   "execution_count": 17,
   "id": "2d9b3b1b",
   "metadata": {},
   "outputs": [],
   "source": [
    "dining_dict['Rare Lounge'] = {\n",
    "    'description': \"Intimate lounge with richly textured interiors is the perfect accompaniment to Rare Steakhouse. Located next door to Rare, Forbes Travel Guide’s highest-rated Boston steakhouse, Rare Lounge offers seamless transitions between pre-dinner drinks, tantalizing bites, and after-dinner nightcaps. The lounge features classic and new interpretations of popular cocktails, approachable menu items, and a fresh, locally sourced raw bar.\\n\\nWith its stylish and contemporary design and alluring black-and-white photography, Rare Lounge exudes a comfortable and welcoming atmosphere providing guests with an intimate alternative to Rare Steakhouse’s elegant dining room. Pass through the gilded wood-paneled doors and slide into one of Rare Lounge’s signature cream leather chairs with plush chocolate upholstery — either at the well-appointed bar or at an opulent quartz cocktail table.\\n\\nStart with light snacks such as Crudité and Steakhouse Wedge Salad; opt for heartier comfort foods like the steakhouse burger, pigs in a blanket, and a jumbo lump crab cake; or end the evening with Apple Pecan Cheesecake.\\n\\nThe cocktail menu presents well-balanced, fresh flavors and ingredients complemented by a selection of premium curated spirits.\\n\\nRare Lounge favors flavors that are surprising, fun, and unexpected. The decadent truffle grilled cheese, a gooey delight with Gruyère, aged cheddar, and truffle aioli — created by Executive Chef Megan Vaughan — pairs perfectly with the Wild Wood, a Rare Lounge spin on the classic whiskey sour with Makers Mark “Encore Select” cask-strength bourbon whiskey.\\n\\nFor those seeking truly extraordinary sips, Rare Lounge’s limited selections include unique and aged bourbon, rare scotch and rye, specialty tequila, and prized Japanese whisky.\\n\\nMeet best friends, make new ones and begin — or end — every Everett night with an unforgettable Rare Lounge experience.\",\n",
    "    'Hours of Operation': 'Sunday through Thursday 5–11 p.m. Bar is open 4–11 p.m.\\nFriday and Saturday 5 p.m.–12 a.m. Bar is open 4–12 a.m.\\nWalk-ins only.',\n",
    "    'Dress Code': 'Resort Casual.\\nChildren under 5 are not permitted.',\n",
    "    'Location': 'First Floor – 1 Broadway, Everett, MA 02149',\n",
    "}\n"
   ]
  },
  {
   "cell_type": "code",
   "execution_count": 18,
   "id": "119f973e",
   "metadata": {},
   "outputs": [],
   "source": [
    "dining_dict['Center Bar'] = {\n",
    "    'description': \"Enjoy a beverage at the most popular place on the casino floor. Perfect for video poker, meeting friends, or sipping a cocktail, Center Bar is right in the middle of all the action.\",\n",
    "    'Hours of Operation': 'Daily 2 p.m.–2 a.m.\\nWalk-ins only.',\n",
    "    'Dress Code': 'Proper attire required.',\n",
    "    'Location': 'First Floor – 1 Broadway, Everett, MA 02149',\n",
    "}\n"
   ]
  },
  {
   "cell_type": "code",
   "execution_count": 19,
   "id": "d8e663c5",
   "metadata": {},
   "outputs": [],
   "source": [
    "dining_dict['Mémoire'] = {\n",
    "    'description': \"The acclaimed operators of The Grand at Boston’s Seaport offer an unparalleled nightlife fantasy experience with top-tier DJ talent and a sophisticated environment. Mémoire tells a story that elevates the senses on every level. Flaunting lustrous gold surfaces, plush leather accents, custom marble tables, glistening chandeliers, state-of-the-art video technology, intelligent lighting, and a Funktion One sound system commanded by an unrivaled curation of world-class DJs, Encore Boston Harbor’s flagship live music destination is a marvel that transcends convention at every turn.\\n\\nMémoire is outfitted with 20 luxurious VIP tables – each powered by signature and unparalleled bottle service – along with multiple VIP bars and alluring private areas that set the scene for a night punctuated by defining moments. Accommodating up to 650 guests, Mémoire offers 8,000 square feet of breathtaking space, sleek design, luxurious private areas, exquisite catering options, and an attentive staff to make your private event one to remember. Rewrite the night at Mémoire.\",\n",
    "    'Hours of Operation': 'Friday and Saturday 10 p.m.–2 a.m.',\n",
    "    'Dress Code': 'Resort elegant attire is required. Learn more.\\nGuests must be 21 or older to enter Mémoire.',\n",
    "    'Telephone Number': '+1 (857) 770-3490',\n",
    "    'Location': 'Second Floor – 1 Broadway, Everett, MA 02149',\n",
    "}\n"
   ]
  },
  {
   "cell_type": "code",
   "execution_count": 20,
   "id": "f3dd16cf",
   "metadata": {},
   "outputs": [],
   "source": [
    "dining_dict['Mystique Lounge'] = {\n",
    "    'description': \"Enjoy the ultimate nightlife experience in Mystique’s luxurious 94-seat lounge featuring unparalleled bottle service and music from top area DJs. Mystique Asian Restaurant & Lounge is unlike anything the Northeast has experienced before. With interiors conceived by world-renowned designer Peter Niemitz, this majestic 16,400 sq. ft. space offers a glamorous open kitchen, several private dining areas, a luxury dining room, a wrap-around stone bar, and captivating waterfront views of Boston Harbor and beyond. You will be transported on a mystical journey. Upon entry, you will find a plush, luxury salon and a 94-seat lounge adorned with Asian-inspired décor curated from throughout the globe. Our innovative menu features carefully-crafted robata, sushi selections, and an array of dishes that put a modern spin on traditional pan-Asian delicacies. Delicious appetizers like 'salt & pepper' calamari and scallion pancakes, to the robata grill's avocado bomb. Sharable favorites like tik tok chicken, sesame beef, and Singapore street noodles. For the fans of wagyu - A5 10oz Miyazaki sirloin or the aged tomahawk.\\n\\nMystique’s beverage selection has an extensive wine and champagne list, distinctive Sake selection, unique hand-crafted cocktails, and special large format 'party drinks' perfect for sharing. The lounge area offers live DJ entertainment Thursday, Friday, and Saturday night. Mystique offers a breathtaking space, exquisite cuisine, and an attentive staff to make your special event one to remember. It is the perfect venue for your next cocktail reception, private dinner, anniversary party, rehearsal dinner, or other special celebration. For more information, email Mystique's events team at events@mystiqueboston.com or call (617) 896-5221.\\n\\n**Children under 5 are not permitted. Mystique is 21 or older starting at 8 p.m. daily.\",\n",
    "    'Hours of Operation': 'Sunday through Thursday 5–11 p.m.\\nFriday and Saturday 5 p.m.–2 a.m.',\n",
    "    'Dress Code': 'Stylish Nightlife Attire. Learn More\\n\\nChildren under 5 are not permitted.\\nMystique is 21 or older after 8 p.m.',\n",
    "    'Telephone Number': '+1 (857) 770-3488',\n",
    "    'Location': 'First Floor – 1 Broadway, Everett, MA 02149',\n",
    "}\n"
   ]
  },
  {
   "cell_type": "code",
   "execution_count": 21,
   "id": "694ac1eb",
   "metadata": {},
   "outputs": [
    {
     "data": {
      "text/plain": [
       "{'Rare Steakhouse': {'description': 'Rare Steakhouse at Encore Boston Harbor redefines the classic steakhouse experience. Rare features the most uniquely curated steak program in New England, including exclusive Japanese cuts from Kobe and the Kagoshima prefecture, as well as American wagyu. Our aged steaks and chops are procured from the finest Midwestern ranchers.\\n\\nOne of less than 10 restaurants nationwide with true Kobe beef, Rare is the sole registered Kobe Beef Federation user in Massachusetts. Steaks are aged in our custom-built dry aging cabinet and served alongside a choice of creatively inspired side dishes. Additionally, a sommelier curated wine list, hard-to-find bourbons, scotch and cognac selections round out the menu for the perfect steakhouse experience.\\n\\nA carefully curated 700-label wine list is a wine lovers’ playground with selections from around the world, focusing on renowned winemakers and coveted grapes from California and France. The list is a perfect complement to the offerings of expertly charred steaks, hard-to-find Japanese Wagyu, including Kobe beef from the Hyogo Prefecture and Sanuki olive beef from the Seto Inland Sea and fresh local seafood.\\n\\nNamed after the ideal temperature to enjoy steak, Rare’s elegant dining room showcases stunning views overlooking the Harborwalk and Mystic River. The gold-and-cream decor is a stunning departure from the dark-toned hues for which steakhouses are known. Contemporary chairs and spacious tables add to the chic and glamorous vibe. Floor-to-ceiling windows reveal an al fresco dining terrace. Rare’s intimate private dining room provides one of the most sought-after private dining experiences in the city.',\n",
       "  'Hours of Operation': 'Thursday through Sunday 5–10 p.m.',\n",
       "  'Dress Code': 'Resort elegant. Learn More\\nChildren under 5 are not permitted.',\n",
       "  'Telephone Number': '+1 (857) 770-3300',\n",
       "  'Location': 'First Floor – 1 Broadway, Everett, MA 02149'},\n",
       " 'On Deck': {'description': \"No matter which team you root for, watching them play at On Deck means everyone's a winner for lunch and dinner. This American sports bar is the go-to for game days and comfort food—perched on the mezzanine balcony above the excitement of the casino floor. With 33 75-inch TVs and more than a dozen types of sandwiches and entrees, On Deck is a sports lover’s paradise with a competitive menu to match. For the tried-and-true fans, the Patriot® Burger for the 6X Champions is a can’t miss classic.\\n\\nFun and approachable, the finger foods we all love like tots and skins receive gourmet twists—share them or keep all for yourself. From lighter options such as salads and wraps to hearty dippers and decadent dishes, you might even call for a replay or two.\\n\\nAnd that’s all before overtime—what others call “dessert”—however, at On Deck it is an unmissable part of the festivities.\\n\\nMahogany wood and plaid carpeting punctuate the comfortable atmosphere; and a unique “living room” experience, complete with a fireplace and dedicated television, is available for parties.\\n\\nOn Deck makes game-day fare its business, so you can rally behind your team.\",\n",
       "  'Hours of Operation': 'Monday–Thursday 11:30 a.m.–10 p.m.\\nFriday 11:30 a.m.–11 p.m.\\nSaturday 8 a.m.–11 p.m.\\nSunday 8 a.m.–10 p.m.\\nBrunch Saturday and Sunday 8 a.m.–12 p.m.\\nWalk-ins only.',\n",
       "  'Dress Code': 'Casual. Learn More\\nGuests must be 21 or older to dine at On Deck.',\n",
       "  'Telephone Number': '+1 (857) 770-3320',\n",
       "  'Location': 'Second Floor – 1 Broadway, Everett, MA 02149'},\n",
       " 'Red 8': {'description': 'Red 8 is Encore Boston Harbor’s signature Asian restaurant for casual and celebratory dining experiences, featuring both classic dishes and the surprising, hard-to-find delicacies.\\n\\nDim sum, wok-tossed noodles, duck and seafood capture the spotlight on Red 8’s menu, which is punctuated with authentic, regional, Asian specialties. Known for serving Boston’s best Chinese food, the skillfully prepared Peking Duck comes straight from the wood-fire oven and the whole steamed fish presentation is a feast for the eyes and the palate. From the tank Maine Lobster or Oysters with Black Bean Sauce pair it with Yang Chow Fried Rice or hand-pulled BBQ Pork & Vegetable Chow Mein.\\n\\nThe main dining room is saturated with rich reds and layers of unique textures, including mahogany and brass accents, red crocodile walls and railings, blue and white chinoiserie, marble floors, and coved ceilings. The restaurant features two of the most exclusive private dining rooms in the city, which allow for elegant and intimate experiences, complete with glowing alabaster urns, chandeliers of Venetian Rubino glass and Lazy Susans on grand, round tables.',\n",
       "  'Hours of Operation': 'Monday through Thursday 5–11 p.m.\\nFriday 5 p.m.–2 a.m.\\nSaturday 12 p.m.–2 a.m.\\nSunday 12 p.m.–12 a.m.\\nAvailable for Dine In or Take Out.',\n",
       "  'Dress Code': 'Resort Casual. Learn More',\n",
       "  'Telephone Number': '+1 (857) 770-3388',\n",
       "  'Location': 'First Floor – 1 Broadway, Everett, MA 02149'},\n",
       " 'Cheese Meet Wine': {'description': 'Make a date for Cheese Meet Wine and enjoy a robust selection of charcuterie, cheese and wine. The upscale-casual bar and table seating accommodates all dining styles from light bites to a full meal. The adventure is yours—try one of the artfully crafted specialty boards or build our own from a curated menu of imported and domestic meat and cheese. The serving boards themselves are custom-made of exotic woods for Cheese Meet Wine. A raw bar, sandwiches, savory and sweet fondue and small bites round out the offerings.\\n\\nWatch the culinary team up close as they craft the food and wine to your liking, using a rotating roster of the best purveyors from our backyard and abroad.\\n\\nStop in before dinner for a glass of wine and a snack; make it a great date night with multiple courses over engaging conversation and a bottle of reserve; or pop by post dinner for a nightcap—Cheese Meet Wine creates an intimate experience for all eating and drinking occasions.',\n",
       "  'Hours of Operation': \"Thursday and Sunday 4–10 p.m.\\nFriday and Saturday 4–11 p.m.\\nSunrise Menu Grab & Go Breakfast daily 7 a.m.–12 p.m.\\nValentine's Day 4–10 p.m.\\nWalk-ins only.\",\n",
       "  'Dress Code': 'Casual. Learn More',\n",
       "  'Telephone Number': '+1 (857) 770-3463',\n",
       "  'Location': 'First Floor – 1 Broadway, Everett, MA 02149'},\n",
       " 'Night Shift Brewing Kitchen & Tap': {'description': \"Night Shift Brewing Kitchen & Tap features elevated pub fare and an extensive list of Night Shift Brewing's locally crafted beers. Over the last decade Night Shift Brewing, started by a trio of college friends with a shared passion for homebrewing, gained fame for its high-quality craftsmanship and strong community ties. This popular craft brewer is loved by locals.\\n\\nTry all the comfortable bar-food favorites you love kicked up a notch with surprising twists. Even accented with Night Shift Brewing beer in some of the recipes. The beverage menu includes more than 20 beers on tap and a wide selection of canned beers and seltzers, including Night Shift Brewing favorites and seasonal limited editions.\\n\\nThis collaborative restaurant and bar conveys natural synergies through every sip and every bite. Unwind after a long day at this gathering spot that feels familiar and fun. Watch the game, catch up with friends and share a great beer or two, and all your favorite comfort foods created with a bit of whimsy in their preparation and presentation. Allow the knowledgeable service team to expertly guide you through the best beer and food pairings.\\n\\nMade especially for Encore Boston Harbor, don’t miss the house beer, Local Luck IPA.\",\n",
       "  'Hours of Operation': 'Friday and Saturday 5–11 p.m. Bar is open 5 p.m.–12 a.m.\\nWalk-ins only. Guests must be 21 or older after 9 p.m.',\n",
       "  'Dress Code': 'Casual. Learn More',\n",
       "  'Telephone Number': '+1 (857) 770-DINE',\n",
       "  'Location': 'First Floor – 1 Broadway, Everett, MA 02149'},\n",
       " 'Mystique': {'description': None,\n",
       "  'Hours of Operation': None,\n",
       "  'Dress Code': None,\n",
       "  'Telephone Number': None,\n",
       "  'Location': None},\n",
       " 'Fratelli': {'description': \"Fratelli, meaning brothers in Italian, is the celebration of the passion for food and hospitality shared by renowned Boston restaurateurs Frank DePasquale and Nick Varano. They met in Boston’s North End as friends and their Italian roots brought them together as family.\\n\\nReflecting the personality and culture of the neighborhood, the inviting black, white and red dining room is situated within the casino and features a lively bar where the evening’s festivities start and end. Order the Famous Espresso Martini or a glass of wine from the expansive list of Italian, French and California varietals while engaging in conversation with both old and new friends. For a more casual night, stay planted at the bar and enjoy the full menu of Italian favorites inspired by DePasquale and Varano’s annual adventures eating together along the Amalfi Coast.\\n\\nFor an elevated experience, transition into the dining room, which accommodates both intimate occasions and celebratory gatherings with warmth and sincerity. The menu showcases made-to-order pasta dishes, delicious brick oven pizza and traditional Italian specialties such as lobster fra diavolo, veal Milanese, zucchini flowers, zuppa di pesce, risotto and gnocchi alla Sorrentina.\\n\\nWith a combined 45-plus years of experience operating some of the area's top culinary destinations, the co-owners deliver the same high-quality service and food synonymous with their downtown locations. In addition to Frank and Nick’s, also at Encore Boston Harbor, the Varano Group owns/operates Strega North End, Rina’s and Nico. DePasquale Ventures owns/operates Umbria, Bricco Ristorante, Mare Oyster Bar, AquaPazza, Quattro, Assaggio, Trattoria Il Panino, Bricco Salumeria & Pasta Shop, Dolce Gelateria and Bricco Panetteria.\",\n",
       "  'Hours of Operation': 'Sunday through Thursday 4 p.m.–12 a.m.\\nFriday and Saturday 4 p.m.–2 a.m.',\n",
       "  'Dress Code': 'Proper attire required.\\nGuests must be 21 or older to dine at Fratelli.',\n",
       "  'Telephone Number': '+1 (857) 770-3480',\n",
       "  'Location': 'First Floor – 1 Broadway, Everett, MA 02149'},\n",
       " 'In-Room Dining': {'description': 'Enjoy a variety of dining options without leaving the comfort of your room. Start the day off with our signature buttermilk pancakes or satisfy your evening cravings with crispy chicken fingers and seashore fries.\\nFollow the three easy steps below on your guestroom iPad to try something new during your next visit.\\n\\nStep 1: Press the In-Room Dining button on the home screen.\\nStep 2: Add menu items to your cart and customize based on your preferences.\\nStep 3: Submit your order, await your contactless delivery and enjoy.',\n",
       "  'Hours of Operation': 'Brunch | Daily | 6 a.m.–2 p.m.\\nDinner | Daily | 5–10 p.m.'},\n",
       " \"Frank & Nick's\": {'description': 'Taste the best of Boston’s North End inside the WynnBET Sportsbook. At Frank & Nick’s, Little Italy restaurateurs Frank DePasquale and Nick Varano offer a fast-casual Italian experience.\\n\\nOrder at the counter, online, or grab-and-go. The menu includes highlights from several of Frank and Nick’s restaurants in the North End of Boston. Artisanal hot paninis such as Strega’s award-winning meatballs done Rosetta-style with whipped ricotta and marinara sauce, classic Chicken Parmigiana, and the old-fashioned Potato & Egg are served on bread from Bricco Panetteria.\\n\\nFor a quick lunch or a late-night bite, grab a slice or a whole pie of Margherita or pepperoni pizza inspired by Varano’s Rina’s Pizzeria. Signature sandwiches include the famous Panino with prosciutto, fresh mozzarella, basil, and tomatoes; and Frank & Nick’s Northshore Roast Beef slathered on an onion roll with James River BBQ Sauce.\\n\\nThe perfect accompaniment to every game day gathering, wings come Buffalo, dry-rub or barbecue. Frank & Nick’s also features a variety of salads; Italian pastries and gelato; and cappuccino, espresso, and traditional coffee options. Also available, beer, wine, soda, and DePasquale’s Bricco Espresso Martini.\\n\\nWith a combined 45-plus years of experience operating some of Boston’s top dining destinations, the co-owners deliver the same high-quality service and cuisine synonymous with their downtown locations. In addition to Fratelli — also at Encore Boston Harbor — and Frank and Nick’s, the Varano Group owns/operates Strega North End, Rina’s and Nico. DePasquale Ventures owns/operates Umbria, Bricco Ristorante, Mare Oyster Bar, AquaPazza, Quattro, Assaggio, Trattoria Il Panino, Bricco Salumeria & Pasta Shop, Dolce Gelateria and Bricco Panetteria.',\n",
       "  'Hours of Operation': 'Sunday through Thursday 11 a.m.–12 a.m.\\nFriday and Saturday 11 a.m.–3 a.m.\\nWalk-ins only.',\n",
       "  'Dress Code': \"Proper attire required.\\nGuests must be 21 or older to dine at Frank & Nick's.\",\n",
       "  'Telephone Number': '+1 (857) 770-3483',\n",
       "  'Location': 'First Floor – 1 Broadway, Everett, MA 02149'},\n",
       " 'Shake Shack': {'description': 'Shake Shack is a modern day “roadside” burger stand known for its delicious 100% Angus beef burgers, crispy white-meat chicken, frozen custard, shakes, crinkle-cut fries, craft beer and wine, plus way more—with no hormones or antibiotics, ever.',\n",
       "  'Hours of Operation': 'Sunday through Thursday 11 a.m.–12 a.m.\\nFriday and Saturday 11 a.m.–2 a.m.\\nWalk-ins only.',\n",
       "  'Dress Code': 'Proper attire required.\\nGuests must be 21 or older to dine at Shake Shack.',\n",
       "  'Telephone Number': '+1 (857) 770-3498',\n",
       "  'Location': 'First Floor – 1 Broadway, Everett, MA 02149'},\n",
       " \"Dunkin'\": {'description': 'The flagship location of the New England staple roastery Dunkin’ on the gaming floor at Encore Boston Harbor. Enjoy the dark-roasted coffee specialties and snacks for which Dunkin’ is loved.',\n",
       "  'Hours of Operation': 'Open 24 hours daily.',\n",
       "  'Dress Code': \"Resort casual.\\nGuests must be 21+ to dine at Dunkin'.\",\n",
       "  'Location': 'First Floor – 1 Broadway, Everett, MA 02149'},\n",
       " 'WynnBET Sportsbook': {'description': \"The premier destination in New England to place a sports wager. The sportsbook features more than 70 televisions, including a 10-foot high and 123-foot-long video wall, a collection of trophies, an installation of classical-inspired sports accessories, and a collage of historical images of local sports heroes and events, a full-service bar, and cuisine from Shake Shack and Frank & Nick’s, the second concept by Frank DePasquale and Nick Varano within the resort.\\n\\nShake Shack offerings include 100% Angus beef burgers, crispy white-meat chicken, frozen custard, shakes, crinkle-cut fries, craft beer, and wine. Frank & Nick’s offers a selection of artisanal paninis and North End favorites such as Rosetta's meatball sub, eggplant and chicken Parmigiana, and house-made roast beef paninis, in addition to brick oven pizzas, salads, and a variety of coffees and desserts. Visit to watch your favorite team on the big screen close to the gaming floor action.\",\n",
       "  'Hours of Operation': 'Venue 12 p.m.–2 a.m.\\nBetting windows:\\nMonday through Friday 3–11 p.m.\\nSaturday 10 a.m.–11 p.m.\\nSunday 9:30 a.m.–9:30 p.m.\\nSunday, February 11 9:30 a.m.–12 a.m.\\nWalk-ins only.',\n",
       "  'Telephone Number': '+1 (857) 770-3453',\n",
       "  'Location': 'First Floor – 1 Broadway, Everett, MA 02149'},\n",
       " 'Rare Lounge': {'description': 'Intimate lounge with richly textured interiors is the perfect accompaniment to Rare Steakhouse. Located next door to Rare, Forbes Travel Guide’s highest-rated Boston steakhouse, Rare Lounge offers seamless transitions between pre-dinner drinks, tantalizing bites, and after-dinner nightcaps. The lounge features classic and new interpretations of popular cocktails, approachable menu items, and a fresh, locally sourced raw bar.\\n\\nWith its stylish and contemporary design and alluring black-and-white photography, Rare Lounge exudes a comfortable and welcoming atmosphere providing guests with an intimate alternative to Rare Steakhouse’s elegant dining room. Pass through the gilded wood-paneled doors and slide into one of Rare Lounge’s signature cream leather chairs with plush chocolate upholstery — either at the well-appointed bar or at an opulent quartz cocktail table.\\n\\nStart with light snacks such as Crudité and Steakhouse Wedge Salad; opt for heartier comfort foods like the steakhouse burger, pigs in a blanket, and a jumbo lump crab cake; or end the evening with Apple Pecan Cheesecake.\\n\\nThe cocktail menu presents well-balanced, fresh flavors and ingredients complemented by a selection of premium curated spirits.\\n\\nRare Lounge favors flavors that are surprising, fun, and unexpected. The decadent truffle grilled cheese, a gooey delight with Gruyère, aged cheddar, and truffle aioli — created by Executive Chef Megan Vaughan — pairs perfectly with the Wild Wood, a Rare Lounge spin on the classic whiskey sour with Makers Mark “Encore Select” cask-strength bourbon whiskey.\\n\\nFor those seeking truly extraordinary sips, Rare Lounge’s limited selections include unique and aged bourbon, rare scotch and rye, specialty tequila, and prized Japanese whisky.\\n\\nMeet best friends, make new ones and begin — or end — every Everett night with an unforgettable Rare Lounge experience.',\n",
       "  'Hours of Operation': 'Sunday through Thursday 5–11 p.m. Bar is open 4–11 p.m.\\nFriday and Saturday 5 p.m.–12 a.m. Bar is open 4–12 a.m.\\nWalk-ins only.',\n",
       "  'Dress Code': 'Resort Casual.\\nChildren under 5 are not permitted.',\n",
       "  'Location': 'First Floor – 1 Broadway, Everett, MA 02149'},\n",
       " 'Center Bar': {'description': 'Enjoy a beverage at the most popular place on the casino floor. Perfect for video poker, meeting friends, or sipping a cocktail, Center Bar is right in the middle of all the action.',\n",
       "  'Hours of Operation': 'Daily 2 p.m.–2 a.m.\\nWalk-ins only.',\n",
       "  'Dress Code': 'Proper attire required.',\n",
       "  'Location': 'First Floor – 1 Broadway, Everett, MA 02149'},\n",
       " 'Mémoire': {'description': 'The acclaimed operators of The Grand at Boston’s Seaport offer an unparalleled nightlife fantasy experience with top-tier DJ talent and a sophisticated environment. Mémoire tells a story that elevates the senses on every level. Flaunting lustrous gold surfaces, plush leather accents, custom marble tables, glistening chandeliers, state-of-the-art video technology, intelligent lighting, and a Funktion One sound system commanded by an unrivaled curation of world-class DJs, Encore Boston Harbor’s flagship live music destination is a marvel that transcends convention at every turn.\\n\\nMémoire is outfitted with 20 luxurious VIP tables – each powered by signature and unparalleled bottle service – along with multiple VIP bars and alluring private areas that set the scene for a night punctuated by defining moments. Accommodating up to 650 guests, Mémoire offers 8,000 square feet of breathtaking space, sleek design, luxurious private areas, exquisite catering options, and an attentive staff to make your private event one to remember. Rewrite the night at Mémoire.',\n",
       "  'Hours of Operation': 'Friday and Saturday 10 p.m.–2 a.m.',\n",
       "  'Dress Code': 'Resort elegant attire is required. Learn more.\\nGuests must be 21 or older to enter Mémoire.',\n",
       "  'Telephone Number': '+1 (857) 770-3490',\n",
       "  'Location': 'Second Floor – 1 Broadway, Everett, MA 02149'},\n",
       " 'Mystique Lounge': {'description': \"Enjoy the ultimate nightlife experience in Mystique’s luxurious 94-seat lounge featuring unparalleled bottle service and music from top area DJs. Mystique Asian Restaurant & Lounge is unlike anything the Northeast has experienced before. With interiors conceived by world-renowned designer Peter Niemitz, this majestic 16,400 sq. ft. space offers a glamorous open kitchen, several private dining areas, a luxury dining room, a wrap-around stone bar, and captivating waterfront views of Boston Harbor and beyond. You will be transported on a mystical journey. Upon entry, you will find a plush, luxury salon and a 94-seat lounge adorned with Asian-inspired décor curated from throughout the globe. Our innovative menu features carefully-crafted robata, sushi selections, and an array of dishes that put a modern spin on traditional pan-Asian delicacies. Delicious appetizers like 'salt & pepper' calamari and scallion pancakes, to the robata grill's avocado bomb. Sharable favorites like tik tok chicken, sesame beef, and Singapore street noodles. For the fans of wagyu - A5 10oz Miyazaki sirloin or the aged tomahawk.\\n\\nMystique’s beverage selection has an extensive wine and champagne list, distinctive Sake selection, unique hand-crafted cocktails, and special large format 'party drinks' perfect for sharing. The lounge area offers live DJ entertainment Thursday, Friday, and Saturday night. Mystique offers a breathtaking space, exquisite cuisine, and an attentive staff to make your special event one to remember. It is the perfect venue for your next cocktail reception, private dinner, anniversary party, rehearsal dinner, or other special celebration. For more information, email Mystique's events team at events@mystiqueboston.com or call (617) 896-5221.\\n\\n**Children under 5 are not permitted. Mystique is 21 or older starting at 8 p.m. daily.\",\n",
       "  'Hours of Operation': 'Sunday through Thursday 5–11 p.m.\\nFriday and Saturday 5 p.m.–2 a.m.',\n",
       "  'Dress Code': 'Stylish Nightlife Attire. Learn More\\n\\nChildren under 5 are not permitted.\\nMystique is 21 or older after 8 p.m.',\n",
       "  'Telephone Number': '+1 (857) 770-3488',\n",
       "  'Location': 'First Floor – 1 Broadway, Everett, MA 02149'},\n",
       " 'Mystique Asian Restaurant & Lounge': {'description': \"Mystique Asian Restaurant & Lounge is unlike anything the Northeast has experienced before. With interiors conceived by world-renowned designer Peter Niemitz, this majestic 16,400 sq. ft. space offers a glamorous open kitchen, several private dining areas, a luxury dining room, a wrap-around stone bar, and captivating waterfront views of Boston Harbor and beyond.\\n\\nYou will be transported on a mystical journey. Upon entry, you will find a plush, luxury salon and a 94-seat lounge adorned with Asian-inspired décor curated from throughout the globe.\\n\\nOur innovative menu features carefully-crafted robata, sushi selections, and an array of dishes that put a modern spin on traditional pan-Asian delicacies. Delicious appetizers like 'salt & pepper' calamari and scallion pancakes, to the robata grill's avocado bomb. Sharable favorites like tik tok chicken, sesame beef, and Singapore street noodles. For the fans of wagyu - A5 10oz Miyazaki sirloin or the aged tomahawk.\\n\\nMystique’s beverage selection has an extensive wine and champagne list, distinctive Sake selection, unique hand-crafted cocktails, and special large format 'party drinks' perfect for sharing. The lounge area offers live DJ entertainment Thursday, Friday, and Saturday night.\\n\\nMystique offers a breathtaking space, exquisite cuisine, and an attentive staff to make your special event one to remember. It is the perfect venue for your next cocktail reception, private dinner, anniversary party, rehearsal dinner, or other special celebration. For more information, email Mystique's events team at events@mystiqueboston.com or call (617) 896-5221.\\n\\n**Children under 5 are not permitted. Mystique is 21 or older starting at 8 p.m. daily.\",\n",
       "  'Hours of Operation': 'Dining Room:\\nSunday through Thursday 5–10 p.m.\\nFriday and Saturday 5–11 p.m.\\nBar & Lounge:\\nSunday through Thursday 5–11 p.m.\\nFriday and Saturday 5 p.m.–2 a.m.',\n",
       "  'Telephone Number': '+1 (857) 770-3488',\n",
       "  'Location': 'First Floor – 1 Broadway, Everett, MA 02149'}}"
      ]
     },
     "execution_count": 21,
     "metadata": {},
     "output_type": "execute_result"
    }
   ],
   "source": [
    "dining_dict"
   ]
  },
  {
   "cell_type": "code",
   "execution_count": null,
   "id": "5c29e4d7",
   "metadata": {},
   "outputs": [],
   "source": []
  }
 ],
 "metadata": {
  "kernelspec": {
   "display_name": "Python 3 (ipykernel)",
   "language": "python",
   "name": "python3"
  },
  "language_info": {
   "codemirror_mode": {
    "name": "ipython",
    "version": 3
   },
   "file_extension": ".py",
   "mimetype": "text/x-python",
   "name": "python",
   "nbconvert_exporter": "python",
   "pygments_lexer": "ipython3",
   "version": "3.11.7"
  }
 },
 "nbformat": 4,
 "nbformat_minor": 5
}
