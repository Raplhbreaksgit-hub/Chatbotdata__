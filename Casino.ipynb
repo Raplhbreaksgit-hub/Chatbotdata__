{
 "cells": [
  {
   "cell_type": "markdown",
   "id": "4733b7c8",
   "metadata": {},
   "source": [
    "### Web Scraping of Casino Webpage\n",
    "The extracted data is organized and stored in a dictionary named casinos_dict, following a template that includes fields for description, features, and other relevant details if mentioned. The dictionary comprises keys corresponding to the items listed in the drop-down menu of casinos. Each key is associated with a dictionary containing a description, features (if provided), and additional information (if available)."
   ]
  },
  {
   "cell_type": "markdown",
   "id": "931a0d17",
   "metadata": {},
   "source": [
    "Making the list of Casino of the items listed in the drop-down menu of casinos"
   ]
  },
  {
   "cell_type": "code",
   "execution_count": 53,
   "id": "5b91c911",
   "metadata": {},
   "outputs": [],
   "source": [
    "Casino = [\n",
    "    \"The Loft\",\n",
    "    \"Slot Machines\",\n",
    "    \"Table Games\",\n",
    "    \"WynnBET Sportsbook\",\n",
    "    \"Dynasty Games\",\n",
    "    \"Ultimate Fire Link Lounge\",\n",
    "    \"Casino Winners\",\n",
    "    \"Poker Room And Tournaments\",\n",
    "    \"Commemorative Chips\",\n",
    "    \"GameSense\"\n",
    "]"
   ]
  },
  {
   "cell_type": "markdown",
   "id": "fd5e660e",
   "metadata": {},
   "source": [
    "Creating the dictionary template for storing the data "
   ]
  },
  {
   "cell_type": "code",
   "execution_count": 54,
   "id": "8dde8590",
   "metadata": {},
   "outputs": [
    {
     "name": "stdout",
     "output_type": "stream",
     "text": [
      "{'The Loft': {'description': None, 'features': None}, 'Slot Machines': {'description': None, 'features': None}, 'Table Games': {'description': None, 'features': None}, 'WynnBET Sportsbook': {'description': None, 'features': None}, 'Dynasty Games': {'description': None, 'features': None}, 'Ultimate Fire Link Lounge': {'description': None, 'features': None}, 'Casino Winners': {'description': None, 'features': None}, 'Poker Room And Tournaments': {'description': None, 'features': None}, 'Commemorative Chips': {'description': None, 'features': None}, 'GameSense': {'description': None, 'features': None}}\n"
     ]
    }
   ],
   "source": [
    "casinos_dict = {casino: {\"description\": None, \"features\": None} for casino in Casino}\n",
    "print(casinos_dict)"
   ]
  },
  {
   "cell_type": "markdown",
   "id": "2bf955aa",
   "metadata": {},
   "source": [
    "Filling in the details of description , features and other details of various keys"
   ]
  },
  {
   "cell_type": "code",
   "execution_count": 55,
   "id": "d64197c9",
   "metadata": {},
   "outputs": [],
   "source": [
    "casinos_dict['The Loft']['description'] = \"\"\"Located on the second-floor mezzanine of Encore Boston Harbor’s casino, The Loft is the epicenter of some of our most popular, specialty and themed games with more than 150 slots. This high-energy area with many first-to-market games is ideal for both those who want to play on their own or with friends. With stunning, technologically advanced cabinets, each one of these machines lends to The Loft’s dynamic atmosphere and they feature the industry’s top linked progressive themes. Included in The Loft are Dragon Link™, Ultimate Fire Link, Jackpot Carnival and Lightning Link along with themed games such as Monopoly and Wizard of Oz. As a bonus, find all these games presented in circular shaped pods, providing a more comfortable and exclusive experience.\n",
    "Play slots for a minimum of $0.25 and maximum of $125 per game. Our slot machines give guests the ability to choose denominations and game themes. Machines accept cash and Ticket In, Ticket Out vouchers, they do not take or pay out coins.\n",
    "Also located within The Loft is the 24-table Poker Room.\n",
    "We offer convenient, complimentary self-parking with direct access from the parking garage to the resort. The Loft is best accessed from Casino North and Casino West parking entrances. Plug-in while you play — Encore Boston Harbor features 59 complimentary electric vehicle charging stations that are conveniently located on every level of the self-parking garage.\n",
    "Valet parking is available to all guests at the main entrance porte cochère. There is a $5 fee for valet, but it is complimentary for Wynn Rewards members.\"\"\"\n"
   ]
  },
  {
   "cell_type": "code",
   "execution_count": 57,
   "id": "b320ca52",
   "metadata": {},
   "outputs": [],
   "source": [
    "casinos_dict['Slot Machines']['description'] = \"\"\"Encore Boston Harbor boasts the most expansive and high-energy collection of state-of-the-art slot machines on the East Coast. The action is set amid the 210,000-square-foot gaming area, which is divided into two levels, with high ceilings and hand-assembled red Murano glass chandeliers.\n",
    "Our extensive suite of games ranges from video slots to reel slots, video poker and electronic table games. With more than 2,700 technologically advanced machines, offering popular and classic content there is a game to appease the preference of every player at every level. The top machines from manufacturers such as IGT, Konami, Aristocrat, Everi, and Light & Wonder are all represented within our slots gallery. Themed slots include Dragon Link, Game of Thrones, Jackpot Carnival, Huff N More Puff, along with a dedicated room featuring Ultimate Fire Link.\n",
    "For those who love the thrilling experience of table games, there are both fully automated and dealer-assisted games featuring baccarat, blackjack, craps and roulette that deliver the fun of faster and individualized play. Video poker includes all the classic poker themes plus a variety of the newest multi-hand varieties, such as 3/5/10 play poker and Ultimate X Bonus Streak.\n",
    "Wynn Rewards, Encore Boston Harbor’s loyalty program, allows guests to accrue points and earn comps as they play slots and video poker. Play $5 on slots and earn 1 slot point; play $10 or $20 on video poker and earn 1 point.\n",
    "Whether you are a new or experienced player, slots at Encore Boston Harbor offer an engaging and fun experience for all.\"\"\"\n"
   ]
  },
  {
   "cell_type": "code",
   "execution_count": 58,
   "id": "735f46c1",
   "metadata": {},
   "outputs": [],
   "source": [
    "casinos_dict['Table Games']['description'] = \"\"\"Craps, blackjack, roulette, baccarat and many more — Encore Boston Harbor features 185-plus table games, offering players a thrilling experience with five-star amenities and service. Appealing to every tier of player from the beginner to the well-seasoned, our dealers welcome all with friendly and knowledgeable know-how, happy to assist and teach every game. Discover a new variation on blackjack or head over to the convivial roulette and craps tables where the excitement is palpable as the chips stack up.\n",
    "Since we never want you to miss a moment of the action, tables are spread out comfortably and surrounded by big-screen TVs. Watch your favorite sports games while playing your favorite table games.\n",
    "For discerning guests who desire a more intimate and exclusive environment, we offer six, private high-limit gaming salons on the mezzanine, four with balcony views overlooking the casino. Each salon features two tables hosted by our highly skilled dealers as well as a team of butlers, dedicated to personalized service.\n",
    "All table games have phone chargers and complimentary beverage service.\n",
    "Wynn Rewards, Encore Boston Harbor’s loyalty program, allows guests to earn comps as they play. For table games, comps are based on your average bet, type of game and length of play. Tracking your play is easy. Before the game begins, present your Wynn Rewards card to the dealer. Players are responsible for ensuring their play is being tracked.\"\"\"\n"
   ]
  },
  {
   "cell_type": "code",
   "execution_count": 59,
   "id": "1b3ca9f0",
   "metadata": {},
   "outputs": [],
   "source": [
    "casinos_dict['WynnBET Sportsbook']['description'] = \"\"\"The sportsbook features more than 70 televisions, including a 10-foot high and 123-foot-long video wall, a collection of trophies, an installation of classical inspired sports accessories and a collage of historical images of local sports heroes and events, a full-service bar and cuisine from Shake Shack and Frank & Nick’s, the second concept by Frank DePasquale and Nick Varano within the resort.\n",
    "Shake Shack offerings include 100% Angus beef burgers, crispy white-meat chicken, frozen custard, shakes, crinkle-cut fries, craft beer and wine. Frank & Nick’s offers a selection of artisanal paninis and North End favorites such as Rosetta's meatball sub, eggplant and chicken Parmigiana and house made roast beef paninis, in addition to brick oven pizzas, salads and a variety of coffees and desserts. Visit to watch your favorite team on the big screen close to the gaming floor action.\"\"\""
   ]
  },
  {
   "cell_type": "code",
   "execution_count": 60,
   "id": "d8ea4fa1",
   "metadata": {},
   "outputs": [],
   "source": [
    "casinos_dict['Dynasty Games']['description'] = \"\"\"Enjoy $5 blackjack, baccarat and roulette minimums on Dynasty Games, located on the main casino floor. Dynasty Games allow every player to play at their own pace, and offer the ability to play multiple games concurrently.\"\"\"\n"
   ]
  },
  {
   "cell_type": "code",
   "execution_count": 61,
   "id": "405e53af",
   "metadata": {},
   "outputs": [],
   "source": [
    "casinos_dict['Ultimate Fire Link Lounge']['description'] = \"\"\"One of the most exciting slot machines in the game blasts into its own dedicated universe as Encore Boston Harbor debuts the Ultimate Fire Link Lounge. For devoted players of Ultimate Fire Link, this is the 360-arena they have been waiting for. Located adjacent to the Wynn Rewards desk, link up with fellow players who love the hot storyline.\n",
    "A chain reaction, fast-paced progressive fireball game, Ultimate Fire Link bursts bright and beautiful images across its stunning display. Hot-handed monkeys hurl fireballs down at you for a fully immersive experience across the play screens. The lock-and-spin Fire Link Feature® builds anticipation and breathtaking excitement with every fireball that lands on the reels.\n",
    "With a total of 36 explosive machines bringing all the vivid aesthetic that fans love, 26 games — all linked — offer Ultimate Fire Link. The progressive jackpot starts at $10,000. Four games featuring Ultimate Fire Link Explosion with five reels, 50 lines and 600 credits max bet — introduced to Encore Boston Harbor in 2022 — also connect to their own progressive action.\n",
    "New to the lounge, six games showcase newly released themes and physical machines offer Ultimate Fire Link Cash Falls. This combination game brings together two favorite themes, all linked for maximum excitement with five reels, 4,608 ways and 600 credits max bet.\"\"\"\n"
   ]
  },
  {
   "cell_type": "code",
   "execution_count": 62,
   "id": "c3bc1026",
   "metadata": {},
   "outputs": [],
   "source": [
    "casinos_dict['Casino Winners']['description'] = \"\"\"So many winners. Will you be next? Our players have won hundreds of millions in cash, slot points, free slot and table play by playing their favorite casino games and participating in tournaments and promotions. See how many ways you could win by going to the promotions page to view our current promotions.\"\"\""
   ]
  },
  {
   "cell_type": "code",
   "execution_count": 63,
   "id": "78686566",
   "metadata": {},
   "outputs": [],
   "source": [
    "casinos_dict['Poker Room And Tournaments']['hours'] = \"24 hours daily\"\n",
    "\n",
    "casinos_dict['Poker Room And Tournaments']['amenities'] = \"\"\"- 24 Poker tables\n",
    "- Bad Beat & Promotions offered on all raked Texas Hold'Em Games\n",
    "- Texas Hold'Em No limit offered $1/3 up to $10/25 \n",
    "- Pot Limit Omaha offered $2/2 up to $25/25\n",
    "- Shufflers on every table\n",
    "- Poker Atlas remote sign up and self check in upon arrival\n",
    "- 18 55-inch televisions and 6 large screen televisions\n",
    "- Free WIFI\n",
    "- Restrooms located in the Poker Room\n",
    "- COMPDOLLARS offered on all games\n",
    "- USB power in every seat\n",
    "- Complimentary drinks offered while playing\"\"\"\n",
    "\n",
    "casinos_dict['Poker Room And Tournaments']['description'] = \"\"\"Encore Boston Harbor's Poker Room, located in The Loft, is open daily. Enjoy the excitement of a cash game with the highest level of service by experienced dealers and hosts. World-class tables include shufflers, phone chargers and free WIFI, allowing you to focus on your game in comfort and style.\"\"\"\n"
   ]
  },
  {
   "cell_type": "code",
   "execution_count": 64,
   "id": "c15fba3c",
   "metadata": {},
   "outputs": [],
   "source": [
    "casinos_dict['Commemorative Chips']['description'] = \"\"\"Take a closer look at that $25 chip as it might appear slightly different than what you’ve seen in the past.\n",
    "An icon of the casino, the chip is an essential part of gaming and has been since its introduction in the late 19th century. Originally, casino currency took the form of golden coins and even gold nuggets, but as gaming grew in popularity, it became necessary to devise a uniform chip. Early chips were made of ivory or clay. As casinos closed or changed names, collectors grew fond of chips as a way to commemorate bygone eras. Now, each casino comes with its own chip design as a way to distinguish itself, and collectible chips also pop up from time to time.\n",
    "What differentiates casino chips is their branding, and our regular chips bear flourishes that represent the casino and other touches that make them appealing. Players enjoy playing with their tokens when they contemplate their bets—some experts say the psychological effect gives a sense of calmness and relaxation. Players exchange their chips at the cashier at any time they wish for paper currency.\n",
    "Outside of the casino, chips are enjoyed for their aesthetic value, with collectors seeking out special-edition or commemorative chips. This is a popular hobby with many international and domestic groups dedicated to the love of chips. Some collectors value their historic chips in the six figures range, and they are available on various online trading platforms and at auctions or conventions.\n",
    "Chips are the ultimate symbol of success.\n",
    "Our commemorative chips are available while supplies last.\"\"\"\n"
   ]
  },
  {
   "cell_type": "code",
   "execution_count": 65,
   "id": "615716ba",
   "metadata": {},
   "outputs": [],
   "source": [
    "casinos_dict['GameSense']['description'] = \" you can explore more at this url - https://gamesensema.com/?_gl=1%2A1t1kgjn%2A_gcl_au%2AMTcwOTk2MTQzNC4xNzA0MzY0MDYw\""
   ]
  },
  {
   "cell_type": "code",
   "execution_count": 66,
   "id": "2c558f33",
   "metadata": {},
   "outputs": [],
   "source": [
    "casinos_dict['The Loft']['features'] = {\n",
    "    'THE GAMES': {'Link Gaming': 'Featuring the largest Dragon Link™ progressive on the East Coast and popular slot themes including Ultimate Fire Link™, Buffalo Diamond™, Lightning Link™, and more.'},\n",
    "    }"
   ]
  },
  {
   "cell_type": "code",
   "execution_count": 67,
   "id": "e53807f1",
   "metadata": {},
   "outputs": [],
   "source": [
    "casinos_dict['Slot Machines']['features'] = {\n",
    "    'FEATURED VIDEO SLOTS': {\n",
    "        'Dancing Drums® Slot Machine': \"\"\"The Fu Babies™ are back and bringing good fortune to players in Dancing Drums® Slot Machine. This five-reel, three-row game brings the luck with exciting Wild, Jackpot and Free Spins features. The Jackpot Bonus can trigger when one or more \"WILD\" appears on screen, revealing a pick field with 12 coins. Players can choose to display one of the available jackpots until three matching Jackpots are revealed to show the award value.\"\"\",\n",
    "        'Buffalo Diamond™ Slot Machine': \"\"\"To mark Buffalo’s™ milestone, we are giving players the gift they really love: more Buffalo Free Games. Lots of spins, 2x and 4x multipliers and iconic design elements make the casino floor the center of a celebratory stampede.\"\"\",\n",
    "        '88 Fortunes® Slot Machine': \"\"\"88 Fortunes® is the perfect slot experience for players to test their luck. Featuring 10 Free Games that can be endlessly re-triggered, 88 Fortunes features the “All Up” game style, which gives players the chance to buy gold symbols to increase their winning opportunities. As players buy more symbols, they become eligible for more jackpots. This game is sure to spread fun and fortune to all players.\"\"\",\n",
    "        'Jin Ji Bao Xi™ Rising Fortunes®': \"\"\"The number one game series in Asia, Jin Ji Bao Xi™ is here with the thrilling game, Rising Fortunes®. Game features include the Jin Ji Bao Xi™ Feature where players pick for jackpots. If six or more Red Gong symbols displaying credit prizes land on the reels, a Feature Selection is triggered, and the sum of the prizes creates the Shou Bonus. Players choose between Free Games where Gold Gong symbols award the Shou Bonus; a Top Up™ Bonus; a lock and spin feature where Gold Gong symbols award the Shou Bonus; and lucky Green Gong symbols award the sum of all symbols—a rising fortune.\"\"\",\n",
    "        'Wonder 4 Jackpots': \"\"\"Quadruple the excitement with Wonder 4 Jackpot™. Wonder 4 Jackpot™ features Aristocrat’s top 4 performing games: Wild Panda™, Miss Kitty™, Buffalo Deluxe™ and Wicked Winnings II™, now with progressive jackpots. You will love the new wheel feature in each game awarding Free Games, Super Free Games or a jackpot—Individual jackpots start at $200 and the grand jackpot starts at $2,000.\"\"\"\n",
    "    },\n",
    "    'FEATURED REEL SLOTS': {\n",
    "    'Blazing 7’s™ Slot Machine': \"Blazing 7's™ is a thrilling adaptation of Bally's classically famous Blazing 7’s™ theme. Featuring the Blazing 7's™ Jackpot, this game will bring surefire excitement to your gambling experience\",\n",
    "    'Buffalo™ Gold Collection': \"Buffalo™ Gold offers players an enhanced experience to their favorite Buffalo™ game with a 20-credit ante bet that gets you eligible for the Gold Bonus, featuring substitute symbols and additional multipliers\",\n",
    "    'Fu Dao Le™': \"This Asian-inspired slot machine features exciting bonus rounds to provide another thrilling slot experience featuring the player-favorite Fu Babies™\",\n",
    "    'Lock it Link® – Piggy Bankin’®': \"Lock It Link®–Piggy Bankin’® combines two beloved game elements: the favorite Lock It Link feature and the classic Piggy Bankin’ theme. The game showcases the Piggy Bank Lock It Feature where Piggy Banks will link, lock in place and once awarded Free Spins are over, will break open revealing credit prizes.\"\n",
    "}\n",
    "}\n"
   ]
  },
  {
   "cell_type": "code",
   "execution_count": 68,
   "id": "07b71229",
   "metadata": {},
   "outputs": [],
   "source": [
    "casinos_dict['WynnBET Sportsbook']['HOURS OF OPERATION'] = {\n",
    "    'Venue': '12 p.m.–2 a.m.',\n",
    "    'Betting windows': {\n",
    "        'Monday through Friday': '3–11 p.m.',\n",
    "        'Saturday': '10 a.m.–11 p.m.',\n",
    "        'Sunday': '9:30 a.m.–9:30 p.m.'\n",
    "    },\n",
    "    'Walk-ins': 'Only'\n",
    "}\n",
    "\n",
    "casinos_dict['WynnBET Sportsbook']['TELEPHONE'] = '+1 (857) 770-3453'\n",
    "\n",
    "casinos_dict['WynnBET Sportsbook']['LOCATION'] = 'First Floor – 1 Broadway, Everett, MA 02149'"
   ]
  },
  {
   "cell_type": "code",
   "execution_count": 69,
   "id": "84627017",
   "metadata": {},
   "outputs": [],
   "source": [
    "casinos_dict['Dynasty Games']['features'] = {\n",
    "    'Dynasty Games': {\n",
    "        'Baccarat': 'Dynasty Baccarat puts a modern twist on the classic favorite, Baccarat. Play at your own pace with your own betting terminal with this new gaming experience while maximizing your win potential.',\n",
    "        'Blackjack': 'Take blackjack to another level while maximizing your win potential in this new Dynasty game. The all-time favorite table game becomes even better with a personal betting terminal, allowing you to play at your own pace.',\n",
    "        'Roulette': 'Offering the excitement of a live table game, but in a personal betting terminal, Dynasty Roulette is perfect for experienced and new players. The user-friendly technology allows you to play your favorite table game at your preferred pace.'\n",
    "    }\n",
    "}"
   ]
  },
  {
   "cell_type": "code",
   "execution_count": 70,
   "id": "c2704a72",
   "metadata": {},
   "outputs": [
    {
     "data": {
      "text/plain": [
       "{'The Loft': {'description': 'Located on the second-floor mezzanine of Encore Boston Harbor’s casino, The Loft is the epicenter of some of our most popular, specialty and themed games with more than 150 slots. This high-energy area with many first-to-market games is ideal for both those who want to play on their own or with friends. With stunning, technologically advanced cabinets, each one of these machines lends to The Loft’s dynamic atmosphere and they feature the industry’s top linked progressive themes. Included in The Loft are Dragon Link™, Ultimate Fire Link, Jackpot Carnival and Lightning Link along with themed games such as Monopoly and Wizard of Oz. As a bonus, find all these games presented in circular shaped pods, providing a more comfortable and exclusive experience.\\nPlay slots for a minimum of $0.25 and maximum of $125 per game. Our slot machines give guests the ability to choose denominations and game themes. Machines accept cash and Ticket In, Ticket Out vouchers, they do not take or pay out coins.\\nAlso located within The Loft is the 24-table Poker Room.\\nWe offer convenient, complimentary self-parking with direct access from the parking garage to the resort. The Loft is best accessed from Casino North and Casino West parking entrances. Plug-in while you play — Encore Boston Harbor features 59 complimentary electric vehicle charging stations that are conveniently located on every level of the self-parking garage.\\nValet parking is available to all guests at the main entrance porte cochère. There is a $5 fee for valet, but it is complimentary for Wynn Rewards members.',\n",
       "  'features': {'THE GAMES': {'Link Gaming': 'Featuring the largest Dragon Link™ progressive on the East Coast and popular slot themes including Ultimate Fire Link™, Buffalo Diamond™, Lightning Link™, and more.'}}},\n",
       " 'Slot Machines': {'description': 'Encore Boston Harbor boasts the most expansive and high-energy collection of state-of-the-art slot machines on the East Coast. The action is set amid the 210,000-square-foot gaming area, which is divided into two levels, with high ceilings and hand-assembled red Murano glass chandeliers.\\nOur extensive suite of games ranges from video slots to reel slots, video poker and electronic table games. With more than 2,700 technologically advanced machines, offering popular and classic content there is a game to appease the preference of every player at every level. The top machines from manufacturers such as IGT, Konami, Aristocrat, Everi, and Light & Wonder are all represented within our slots gallery. Themed slots include Dragon Link, Game of Thrones, Jackpot Carnival, Huff N More Puff, along with a dedicated room featuring Ultimate Fire Link.\\nFor those who love the thrilling experience of table games, there are both fully automated and dealer-assisted games featuring baccarat, blackjack, craps and roulette that deliver the fun of faster and individualized play. Video poker includes all the classic poker themes plus a variety of the newest multi-hand varieties, such as 3/5/10 play poker and Ultimate X Bonus Streak.\\nWynn Rewards, Encore Boston Harbor’s loyalty program, allows guests to accrue points and earn comps as they play slots and video poker. Play $5 on slots and earn 1 slot point; play $10 or $20 on video poker and earn 1 point.\\nWhether you are a new or experienced player, slots at Encore Boston Harbor offer an engaging and fun experience for all.',\n",
       "  'features': {'FEATURED VIDEO SLOTS': {'Dancing Drums® Slot Machine': 'The Fu Babies™ are back and bringing good fortune to players in Dancing Drums® Slot Machine. This five-reel, three-row game brings the luck with exciting Wild, Jackpot and Free Spins features. The Jackpot Bonus can trigger when one or more \"WILD\" appears on screen, revealing a pick field with 12 coins. Players can choose to display one of the available jackpots until three matching Jackpots are revealed to show the award value.',\n",
       "    'Buffalo Diamond™ Slot Machine': 'To mark Buffalo’s™ milestone, we are giving players the gift they really love: more Buffalo Free Games. Lots of spins, 2x and 4x multipliers and iconic design elements make the casino floor the center of a celebratory stampede.',\n",
       "    '88 Fortunes® Slot Machine': '88 Fortunes® is the perfect slot experience for players to test their luck. Featuring 10 Free Games that can be endlessly re-triggered, 88 Fortunes features the “All Up” game style, which gives players the chance to buy gold symbols to increase their winning opportunities. As players buy more symbols, they become eligible for more jackpots. This game is sure to spread fun and fortune to all players.',\n",
       "    'Jin Ji Bao Xi™ Rising Fortunes®': 'The number one game series in Asia, Jin Ji Bao Xi™ is here with the thrilling game, Rising Fortunes®. Game features include the Jin Ji Bao Xi™ Feature where players pick for jackpots. If six or more Red Gong symbols displaying credit prizes land on the reels, a Feature Selection is triggered, and the sum of the prizes creates the Shou Bonus. Players choose between Free Games where Gold Gong symbols award the Shou Bonus; a Top Up™ Bonus; a lock and spin feature where Gold Gong symbols award the Shou Bonus; and lucky Green Gong symbols award the sum of all symbols—a rising fortune.',\n",
       "    'Wonder 4 Jackpots': 'Quadruple the excitement with Wonder 4 Jackpot™. Wonder 4 Jackpot™ features Aristocrat’s top 4 performing games: Wild Panda™, Miss Kitty™, Buffalo Deluxe™ and Wicked Winnings II™, now with progressive jackpots. You will love the new wheel feature in each game awarding Free Games, Super Free Games or a jackpot—Individual jackpots start at $200 and the grand jackpot starts at $2,000.'},\n",
       "   'FEATURED REEL SLOTS': {'Blazing 7’s™ Slot Machine': \"Blazing 7's™ is a thrilling adaptation of Bally's classically famous Blazing 7’s™ theme. Featuring the Blazing 7's™ Jackpot, this game will bring surefire excitement to your gambling experience\",\n",
       "    'Buffalo™ Gold Collection': 'Buffalo™ Gold offers players an enhanced experience to their favorite Buffalo™ game with a 20-credit ante bet that gets you eligible for the Gold Bonus, featuring substitute symbols and additional multipliers',\n",
       "    'Fu Dao Le™': 'This Asian-inspired slot machine features exciting bonus rounds to provide another thrilling slot experience featuring the player-favorite Fu Babies™',\n",
       "    'Lock it Link® – Piggy Bankin’®': 'Lock It Link®–Piggy Bankin’® combines two beloved game elements: the favorite Lock It Link feature and the classic Piggy Bankin’ theme. The game showcases the Piggy Bank Lock It Feature where Piggy Banks will link, lock in place and once awarded Free Spins are over, will break open revealing credit prizes.'}}},\n",
       " 'Table Games': {'description': 'Craps, blackjack, roulette, baccarat and many more — Encore Boston Harbor features 185-plus table games, offering players a thrilling experience with five-star amenities and service. Appealing to every tier of player from the beginner to the well-seasoned, our dealers welcome all with friendly and knowledgeable know-how, happy to assist and teach every game. Discover a new variation on blackjack or head over to the convivial roulette and craps tables where the excitement is palpable as the chips stack up.\\nSince we never want you to miss a moment of the action, tables are spread out comfortably and surrounded by big-screen TVs. Watch your favorite sports games while playing your favorite table games.\\nFor discerning guests who desire a more intimate and exclusive environment, we offer six, private high-limit gaming salons on the mezzanine, four with balcony views overlooking the casino. Each salon features two tables hosted by our highly skilled dealers as well as a team of butlers, dedicated to personalized service.\\nAll table games have phone chargers and complimentary beverage service.\\nWynn Rewards, Encore Boston Harbor’s loyalty program, allows guests to earn comps as they play. For table games, comps are based on your average bet, type of game and length of play. Tracking your play is easy. Before the game begins, present your Wynn Rewards card to the dealer. Players are responsible for ensuring their play is being tracked.',\n",
       "  'features': None},\n",
       " 'WynnBET Sportsbook': {'description': \"The sportsbook features more than 70 televisions, including a 10-foot high and 123-foot-long video wall, a collection of trophies, an installation of classical inspired sports accessories and a collage of historical images of local sports heroes and events, a full-service bar and cuisine from Shake Shack and Frank & Nick’s, the second concept by Frank DePasquale and Nick Varano within the resort.\\nShake Shack offerings include 100% Angus beef burgers, crispy white-meat chicken, frozen custard, shakes, crinkle-cut fries, craft beer and wine. Frank & Nick’s offers a selection of artisanal paninis and North End favorites such as Rosetta's meatball sub, eggplant and chicken Parmigiana and house made roast beef paninis, in addition to brick oven pizzas, salads and a variety of coffees and desserts. Visit to watch your favorite team on the big screen close to the gaming floor action.\",\n",
       "  'features': None,\n",
       "  'HOURS OF OPERATION': {'Venue': '12 p.m.–2 a.m.',\n",
       "   'Betting windows': {'Monday through Friday': '3–11 p.m.',\n",
       "    'Saturday': '10 a.m.–11 p.m.',\n",
       "    'Sunday': '9:30 a.m.–9:30 p.m.'},\n",
       "   'Walk-ins': 'Only'},\n",
       "  'TELEPHONE': '+1 (857) 770-3453',\n",
       "  'LOCATION': 'First Floor – 1 Broadway, Everett, MA 02149'},\n",
       " 'Dynasty Games': {'description': 'Enjoy $5 blackjack, baccarat and roulette minimums on Dynasty Games, located on the main casino floor. Dynasty Games allow every player to play at their own pace, and offer the ability to play multiple games concurrently.',\n",
       "  'features': {'Dynasty Games': {'Baccarat': 'Dynasty Baccarat puts a modern twist on the classic favorite, Baccarat. Play at your own pace with your own betting terminal with this new gaming experience while maximizing your win potential.',\n",
       "    'Blackjack': 'Take blackjack to another level while maximizing your win potential in this new Dynasty game. The all-time favorite table game becomes even better with a personal betting terminal, allowing you to play at your own pace.',\n",
       "    'Roulette': 'Offering the excitement of a live table game, but in a personal betting terminal, Dynasty Roulette is perfect for experienced and new players. The user-friendly technology allows you to play your favorite table game at your preferred pace.'}}},\n",
       " 'Ultimate Fire Link Lounge': {'description': 'One of the most exciting slot machines in the game blasts into its own dedicated universe as Encore Boston Harbor debuts the Ultimate Fire Link Lounge. For devoted players of Ultimate Fire Link, this is the 360-arena they have been waiting for. Located adjacent to the Wynn Rewards desk, link up with fellow players who love the hot storyline.\\nA chain reaction, fast-paced progressive fireball game, Ultimate Fire Link bursts bright and beautiful images across its stunning display. Hot-handed monkeys hurl fireballs down at you for a fully immersive experience across the play screens. The lock-and-spin Fire Link Feature® builds anticipation and breathtaking excitement with every fireball that lands on the reels.\\nWith a total of 36 explosive machines bringing all the vivid aesthetic that fans love, 26 games — all linked — offer Ultimate Fire Link. The progressive jackpot starts at $10,000. Four games featuring Ultimate Fire Link Explosion with five reels, 50 lines and 600 credits max bet — introduced to Encore Boston Harbor in 2022 — also connect to their own progressive action.\\nNew to the lounge, six games showcase newly released themes and physical machines offer Ultimate Fire Link Cash Falls. This combination game brings together two favorite themes, all linked for maximum excitement with five reels, 4,608 ways and 600 credits max bet.',\n",
       "  'features': None},\n",
       " 'Casino Winners': {'description': 'So many winners. Will you be next? Our players have won hundreds of millions in cash, slot points, free slot and table play by playing their favorite casino games and participating in tournaments and promotions. See how many ways you could win by going to the promotions page to view our current promotions.',\n",
       "  'features': None},\n",
       " 'Poker Room And Tournaments': {'description': \"Encore Boston Harbor's Poker Room, located in The Loft, is open daily. Enjoy the excitement of a cash game with the highest level of service by experienced dealers and hosts. World-class tables include shufflers, phone chargers and free WIFI, allowing you to focus on your game in comfort and style.\",\n",
       "  'features': None,\n",
       "  'hours': '24 hours daily',\n",
       "  'amenities': \"- 24 Poker tables\\n- Bad Beat & Promotions offered on all raked Texas Hold'Em Games\\n- Texas Hold'Em No limit offered $1/3 up to $10/25 \\n- Pot Limit Omaha offered $2/2 up to $25/25\\n- Shufflers on every table\\n- Poker Atlas remote sign up and self check in upon arrival\\n- 18 55-inch televisions and 6 large screen televisions\\n- Free WIFI\\n- Restrooms located in the Poker Room\\n- COMPDOLLARS offered on all games\\n- USB power in every seat\\n- Complimentary drinks offered while playing\"},\n",
       " 'Commemorative Chips': {'description': 'Take a closer look at that $25 chip as it might appear slightly different than what you’ve seen in the past.\\nAn icon of the casino, the chip is an essential part of gaming and has been since its introduction in the late 19th century. Originally, casino currency took the form of golden coins and even gold nuggets, but as gaming grew in popularity, it became necessary to devise a uniform chip. Early chips were made of ivory or clay. As casinos closed or changed names, collectors grew fond of chips as a way to commemorate bygone eras. Now, each casino comes with its own chip design as a way to distinguish itself, and collectible chips also pop up from time to time.\\nWhat differentiates casino chips is their branding, and our regular chips bear flourishes that represent the casino and other touches that make them appealing. Players enjoy playing with their tokens when they contemplate their bets—some experts say the psychological effect gives a sense of calmness and relaxation. Players exchange their chips at the cashier at any time they wish for paper currency.\\nOutside of the casino, chips are enjoyed for their aesthetic value, with collectors seeking out special-edition or commemorative chips. This is a popular hobby with many international and domestic groups dedicated to the love of chips. Some collectors value their historic chips in the six figures range, and they are available on various online trading platforms and at auctions or conventions.\\nChips are the ultimate symbol of success.\\nOur commemorative chips are available while supplies last.',\n",
       "  'features': None},\n",
       " 'GameSense': {'description': ' you can explore more at this url - https://gamesensema.com/?_gl=1%2A1t1kgjn%2A_gcl_au%2AMTcwOTk2MTQzNC4xNzA0MzY0MDYw',\n",
       "  'features': None}}"
      ]
     },
     "execution_count": 70,
     "metadata": {},
     "output_type": "execute_result"
    }
   ],
   "source": [
    "casinos_dict"
   ]
  },
  {
   "cell_type": "code",
   "execution_count": 43,
   "id": "5358bcaf",
   "metadata": {},
   "outputs": [
    {
     "data": {
      "text/plain": [
       "{'description': 'Located on the second-floor mezzanine of Encore Boston Harbor’s casino, The Loft is the epicenter of some of our most popular, specialty and themed games with more than 150 slots. This high-energy area with many first-to-market games is ideal for both those who want to play on their own or with friends. With stunning, technologically advanced cabinets, each one of these machines lends to The Loft’s dynamic atmosphere and they feature the industry’s top linked progressive themes. Included in The Loft are Dragon Link™, Ultimate Fire Link, Jackpot Carnival and Lightning Link along with themed games such as Monopoly and Wizard of Oz. As a bonus, find all these games presented in circular shaped pods, providing a more comfortable and exclusive experience.\\nPlay slots for a minimum of $0.25 and maximum of $125 per game. Our slot machines give guests the ability to choose denominations and game themes. Machines accept cash and Ticket In, Ticket Out vouchers, they do not take or pay out coins.\\nAlso located within The Loft is the 24-table Poker Room.\\nWe offer convenient, complimentary self-parking with direct access from the parking garage to the resort. The Loft is best accessed from Casino North and Casino West parking entrances. Plug-in while you play — Encore Boston Harbor features 59 complimentary electric vehicle charging stations that are conveniently located on every level of the self-parking garage.\\nValet parking is available to all guests at the main entrance porte cochère. There is a $5 fee for valet, but it is complimentary for Wynn Rewards members.',\n",
       " 'features': {'THE GAMES': {'Link Gaming': 'Featuring the largest Dragon Link™ progressive on the East Coast and popular slot themes including Ultimate Fire Link™, Buffalo Diamond™, Lightning Link™, and more.'}}}"
      ]
     },
     "execution_count": 43,
     "metadata": {},
     "output_type": "execute_result"
    }
   ],
   "source": [
    "casinos_dict['The Loft']"
   ]
  },
  {
   "cell_type": "markdown",
   "id": "fd8cad17",
   "metadata": {},
   "source": [
    "### Showing data and the details of each type of casino individually"
   ]
  },
  {
   "cell_type": "code",
   "execution_count": 71,
   "id": "53ce80d1",
   "metadata": {},
   "outputs": [
    {
     "data": {
      "text/plain": [
       "{'description': 'Encore Boston Harbor boasts the most expansive and high-energy collection of state-of-the-art slot machines on the East Coast. The action is set amid the 210,000-square-foot gaming area, which is divided into two levels, with high ceilings and hand-assembled red Murano glass chandeliers.\\nOur extensive suite of games ranges from video slots to reel slots, video poker and electronic table games. With more than 2,700 technologically advanced machines, offering popular and classic content there is a game to appease the preference of every player at every level. The top machines from manufacturers such as IGT, Konami, Aristocrat, Everi, and Light & Wonder are all represented within our slots gallery. Themed slots include Dragon Link, Game of Thrones, Jackpot Carnival, Huff N More Puff, along with a dedicated room featuring Ultimate Fire Link.\\nFor those who love the thrilling experience of table games, there are both fully automated and dealer-assisted games featuring baccarat, blackjack, craps and roulette that deliver the fun of faster and individualized play. Video poker includes all the classic poker themes plus a variety of the newest multi-hand varieties, such as 3/5/10 play poker and Ultimate X Bonus Streak.\\nWynn Rewards, Encore Boston Harbor’s loyalty program, allows guests to accrue points and earn comps as they play slots and video poker. Play $5 on slots and earn 1 slot point; play $10 or $20 on video poker and earn 1 point.\\nWhether you are a new or experienced player, slots at Encore Boston Harbor offer an engaging and fun experience for all.',\n",
       " 'features': {'FEATURED VIDEO SLOTS': {'Dancing Drums® Slot Machine': 'The Fu Babies™ are back and bringing good fortune to players in Dancing Drums® Slot Machine. This five-reel, three-row game brings the luck with exciting Wild, Jackpot and Free Spins features. The Jackpot Bonus can trigger when one or more \"WILD\" appears on screen, revealing a pick field with 12 coins. Players can choose to display one of the available jackpots until three matching Jackpots are revealed to show the award value.',\n",
       "   'Buffalo Diamond™ Slot Machine': 'To mark Buffalo’s™ milestone, we are giving players the gift they really love: more Buffalo Free Games. Lots of spins, 2x and 4x multipliers and iconic design elements make the casino floor the center of a celebratory stampede.',\n",
       "   '88 Fortunes® Slot Machine': '88 Fortunes® is the perfect slot experience for players to test their luck. Featuring 10 Free Games that can be endlessly re-triggered, 88 Fortunes features the “All Up” game style, which gives players the chance to buy gold symbols to increase their winning opportunities. As players buy more symbols, they become eligible for more jackpots. This game is sure to spread fun and fortune to all players.',\n",
       "   'Jin Ji Bao Xi™ Rising Fortunes®': 'The number one game series in Asia, Jin Ji Bao Xi™ is here with the thrilling game, Rising Fortunes®. Game features include the Jin Ji Bao Xi™ Feature where players pick for jackpots. If six or more Red Gong symbols displaying credit prizes land on the reels, a Feature Selection is triggered, and the sum of the prizes creates the Shou Bonus. Players choose between Free Games where Gold Gong symbols award the Shou Bonus; a Top Up™ Bonus; a lock and spin feature where Gold Gong symbols award the Shou Bonus; and lucky Green Gong symbols award the sum of all symbols—a rising fortune.',\n",
       "   'Wonder 4 Jackpots': 'Quadruple the excitement with Wonder 4 Jackpot™. Wonder 4 Jackpot™ features Aristocrat’s top 4 performing games: Wild Panda™, Miss Kitty™, Buffalo Deluxe™ and Wicked Winnings II™, now with progressive jackpots. You will love the new wheel feature in each game awarding Free Games, Super Free Games or a jackpot—Individual jackpots start at $200 and the grand jackpot starts at $2,000.'},\n",
       "  'FEATURED REEL SLOTS': {'Blazing 7’s™ Slot Machine': \"Blazing 7's™ is a thrilling adaptation of Bally's classically famous Blazing 7’s™ theme. Featuring the Blazing 7's™ Jackpot, this game will bring surefire excitement to your gambling experience\",\n",
       "   'Buffalo™ Gold Collection': 'Buffalo™ Gold offers players an enhanced experience to their favorite Buffalo™ game with a 20-credit ante bet that gets you eligible for the Gold Bonus, featuring substitute symbols and additional multipliers',\n",
       "   'Fu Dao Le™': 'This Asian-inspired slot machine features exciting bonus rounds to provide another thrilling slot experience featuring the player-favorite Fu Babies™',\n",
       "   'Lock it Link® – Piggy Bankin’®': 'Lock It Link®–Piggy Bankin’® combines two beloved game elements: the favorite Lock It Link feature and the classic Piggy Bankin’ theme. The game showcases the Piggy Bank Lock It Feature where Piggy Banks will link, lock in place and once awarded Free Spins are over, will break open revealing credit prizes.'}}}"
      ]
     },
     "execution_count": 71,
     "metadata": {},
     "output_type": "execute_result"
    }
   ],
   "source": [
    "casinos_dict['Slot Machines']"
   ]
  },
  {
   "cell_type": "code",
   "execution_count": 45,
   "id": "7c606125",
   "metadata": {},
   "outputs": [
    {
     "data": {
      "text/plain": [
       "{'description': 'Craps, blackjack, roulette, baccarat and many more — Encore Boston Harbor features 185-plus table games, offering players a thrilling experience with five-star amenities and service. Appealing to every tier of player from the beginner to the well-seasoned, our dealers welcome all with friendly and knowledgeable know-how, happy to assist and teach every game. Discover a new variation on blackjack or head over to the convivial roulette and craps tables where the excitement is palpable as the chips stack up.\\nSince we never want you to miss a moment of the action, tables are spread out comfortably and surrounded by big-screen TVs. Watch your favorite sports games while playing your favorite table games.\\nFor discerning guests who desire a more intimate and exclusive environment, we offer six, private high-limit gaming salons on the mezzanine, four with balcony views overlooking the casino. Each salon features two tables hosted by our highly skilled dealers as well as a team of butlers, dedicated to personalized service.\\nAll table games have phone chargers and complimentary beverage service.\\nWynn Rewards, Encore Boston Harbor’s loyalty program, allows guests to earn comps as they play. For table games, comps are based on your average bet, type of game and length of play. Tracking your play is easy. Before the game begins, present your Wynn Rewards card to the dealer. Players are responsible for ensuring their play is being tracked.',\n",
       " 'features': None}"
      ]
     },
     "execution_count": 45,
     "metadata": {},
     "output_type": "execute_result"
    }
   ],
   "source": [
    "casinos_dict['Table Games']"
   ]
  },
  {
   "cell_type": "code",
   "execution_count": 46,
   "id": "3c570065",
   "metadata": {},
   "outputs": [
    {
     "data": {
      "text/plain": [
       "{'description': \"The sportsbook features more than 70 televisions, including a 10-foot high and 123-foot-long video wall, a collection of trophies, an installation of classical inspired sports accessories and a collage of historical images of local sports heroes and events, a full-service bar and cuisine from Shake Shack and Frank & Nick’s, the second concept by Frank DePasquale and Nick Varano within the resort.\\nShake Shack offerings include 100% Angus beef burgers, crispy white-meat chicken, frozen custard, shakes, crinkle-cut fries, craft beer and wine. Frank & Nick’s offers a selection of artisanal paninis and North End favorites such as Rosetta's meatball sub, eggplant and chicken Parmigiana and house made roast beef paninis, in addition to brick oven pizzas, salads and a variety of coffees and desserts. Visit to watch your favorite team on the big screen close to the gaming floor action.\",\n",
       " 'features': None,\n",
       " 'HOURS OF OPERATION': {'Venue': '12 p.m.–2 a.m.',\n",
       "  'Betting windows': {'Monday through Friday': '3–11 p.m.',\n",
       "   'Saturday': '10 a.m.–11 p.m.',\n",
       "   'Sunday': '9:30 a.m.–9:30 p.m.'},\n",
       "  'Walk-ins': 'Only'},\n",
       " 'TELEPHONE': '+1 (857) 770-3453',\n",
       " 'LOCATION': 'First Floor – 1 Broadway, Everett, MA 02149'}"
      ]
     },
     "execution_count": 46,
     "metadata": {},
     "output_type": "execute_result"
    }
   ],
   "source": [
    "casinos_dict['WynnBET Sportsbook']"
   ]
  },
  {
   "cell_type": "code",
   "execution_count": 47,
   "id": "831cad9f",
   "metadata": {},
   "outputs": [
    {
     "data": {
      "text/plain": [
       "{'description': 'Enjoy $5 blackjack, baccarat and roulette minimums on Dynasty Games, located on the main casino floor. Dynasty Games allow every player to play at their own pace, and offer the ability to play multiple games concurrently.',\n",
       " 'features': {'Dynasty Games': {'Baccarat': 'Dynasty Baccarat puts a modern twist on the classic favorite, Baccarat. Play at your own pace with your own betting terminal with this new gaming experience while maximizing your win potential.',\n",
       "   'Blackjack': 'Take blackjack to another level while maximizing your win potential in this new Dynasty game. The all-time favorite table game becomes even better with a personal betting terminal, allowing you to play at your own pace.',\n",
       "   'Roulette': 'Offering the excitement of a live table game, but in a personal betting terminal, Dynasty Roulette is perfect for experienced and new players. The user-friendly technology allows you to play your favorite table game at your preferred pace.'}}}"
      ]
     },
     "execution_count": 47,
     "metadata": {},
     "output_type": "execute_result"
    }
   ],
   "source": [
    "casinos_dict['Dynasty Games']"
   ]
  },
  {
   "cell_type": "code",
   "execution_count": 48,
   "id": "943f0c47",
   "metadata": {},
   "outputs": [
    {
     "data": {
      "text/plain": [
       "{'description': 'One of the most exciting slot machines in the game blasts into its own dedicated universe as Encore Boston Harbor debuts the Ultimate Fire Link Lounge. For devoted players of Ultimate Fire Link, this is the 360-arena they have been waiting for. Located adjacent to the Wynn Rewards desk, link up with fellow players who love the hot storyline.\\nA chain reaction, fast-paced progressive fireball game, Ultimate Fire Link bursts bright and beautiful images across its stunning display. Hot-handed monkeys hurl fireballs down at you for a fully immersive experience across the play screens. The lock-and-spin Fire Link Feature® builds anticipation and breathtaking excitement with every fireball that lands on the reels.\\nWith a total of 36 explosive machines bringing all the vivid aesthetic that fans love, 26 games — all linked — offer Ultimate Fire Link. The progressive jackpot starts at $10,000. Four games featuring Ultimate Fire Link Explosion with five reels, 50 lines and 600 credits max bet — introduced to Encore Boston Harbor in 2022 — also connect to their own progressive action.\\nNew to the lounge, six games showcase newly released themes and physical machines offer Ultimate Fire Link Cash Falls. This combination game brings together two favorite themes, all linked for maximum excitement with five reels, 4,608 ways and 600 credits max bet.',\n",
       " 'features': None}"
      ]
     },
     "execution_count": 48,
     "metadata": {},
     "output_type": "execute_result"
    }
   ],
   "source": [
    "casinos_dict['Ultimate Fire Link Lounge']"
   ]
  },
  {
   "cell_type": "code",
   "execution_count": 49,
   "id": "5053c75e",
   "metadata": {},
   "outputs": [
    {
     "data": {
      "text/plain": [
       "{'description': 'So many winners. Will you be next? Our players have won hundreds of millions in cash, slot points, free slot and table play by playing their favorite casino games and participating in tournaments and promotions. See how many ways you could win by going to the promotions page to view our current promotions.',\n",
       " 'features': None}"
      ]
     },
     "execution_count": 49,
     "metadata": {},
     "output_type": "execute_result"
    }
   ],
   "source": [
    "casinos_dict['Casino Winners']"
   ]
  },
  {
   "cell_type": "code",
   "execution_count": 50,
   "id": "03803555",
   "metadata": {},
   "outputs": [
    {
     "data": {
      "text/plain": [
       "{'description': \"Encore Boston Harbor's Poker Room, located in The Loft, is open daily. Enjoy the excitement of a cash game with the highest level of service by experienced dealers and hosts. World-class tables include shufflers, phone chargers and free WIFI, allowing you to focus on your game in comfort and style.\",\n",
       " 'features': None,\n",
       " 'hours': '24 hours daily',\n",
       " 'amenities': \"- 24 Poker tables\\n- Bad Beat & Promotions offered on all raked Texas Hold'Em Games\\n- Texas Hold'Em No limit offered $1/3 up to $10/25 \\n- Pot Limit Omaha offered $2/2 up to $25/25\\n- Shufflers on every table\\n- Poker Atlas remote sign up and self check in upon arrival\\n- 18 55-inch televisions and 6 large screen televisions\\n- Free WIFI\\n- Restrooms located in the Poker Room\\n- COMPDOLLARS offered on all games\\n- USB power in every seat\\n- Complimentary drinks offered while playing\"}"
      ]
     },
     "execution_count": 50,
     "metadata": {},
     "output_type": "execute_result"
    }
   ],
   "source": [
    "casinos_dict['Poker Room And Tournaments']"
   ]
  },
  {
   "cell_type": "code",
   "execution_count": 51,
   "id": "f16c405c",
   "metadata": {},
   "outputs": [
    {
     "data": {
      "text/plain": [
       "{'description': 'Take a closer look at that $25 chip as it might appear slightly different than what you’ve seen in the past.\\nAn icon of the casino, the chip is an essential part of gaming and has been since its introduction in the late 19th century. Originally, casino currency took the form of golden coins and even gold nuggets, but as gaming grew in popularity, it became necessary to devise a uniform chip. Early chips were made of ivory or clay. As casinos closed or changed names, collectors grew fond of chips as a way to commemorate bygone eras. Now, each casino comes with its own chip design as a way to distinguish itself, and collectible chips also pop up from time to time.\\nWhat differentiates casino chips is their branding, and our regular chips bear flourishes that represent the casino and other touches that make them appealing. Players enjoy playing with their tokens when they contemplate their bets—some experts say the psychological effect gives a sense of calmness and relaxation. Players exchange their chips at the cashier at any time they wish for paper currency.\\nOutside of the casino, chips are enjoyed for their aesthetic value, with collectors seeking out special-edition or commemorative chips. This is a popular hobby with many international and domestic groups dedicated to the love of chips. Some collectors value their historic chips in the six figures range, and they are available on various online trading platforms and at auctions or conventions.\\nChips are the ultimate symbol of success.\\nOur commemorative chips are available while supplies last.',\n",
       " 'features': None}"
      ]
     },
     "execution_count": 51,
     "metadata": {},
     "output_type": "execute_result"
    }
   ],
   "source": [
    "casinos_dict['Commemorative Chips']"
   ]
  },
  {
   "cell_type": "code",
   "execution_count": 52,
   "id": "7ffe17c4",
   "metadata": {},
   "outputs": [
    {
     "data": {
      "text/plain": [
       "{'description': ' you can explore more at this url - https://gamesensema.com/?_gl=1%2A1t1kgjn%2A_gcl_au%2AMTcwOTk2MTQzNC4xNzA0MzY0MDYw',\n",
       " 'features': None}"
      ]
     },
     "execution_count": 52,
     "metadata": {},
     "output_type": "execute_result"
    }
   ],
   "source": [
    "casinos_dict['GameSense']"
   ]
  },
  {
   "cell_type": "code",
   "execution_count": null,
   "id": "fff3eb8e",
   "metadata": {},
   "outputs": [],
   "source": []
  }
 ],
 "metadata": {
  "kernelspec": {
   "display_name": "Python 3 (ipykernel)",
   "language": "python",
   "name": "python3"
  },
  "language_info": {
   "codemirror_mode": {
    "name": "ipython",
    "version": 3
   },
   "file_extension": ".py",
   "mimetype": "text/x-python",
   "name": "python",
   "nbconvert_exporter": "python",
   "pygments_lexer": "ipython3",
   "version": "3.11.4"
  }
 },
 "nbformat": 4,
 "nbformat_minor": 5
}
